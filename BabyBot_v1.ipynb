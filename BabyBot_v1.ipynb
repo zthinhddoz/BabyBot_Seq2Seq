{
  "nbformat": 4,
  "nbformat_minor": 5,
  "metadata": {
    "kernelspec": {
      "display_name": "Python 3",
      "language": "python",
      "name": "python3"
    },
    "language_info": {
      "codemirror_mode": {
        "name": "ipython",
        "version": 3
      },
      "file_extension": ".py",
      "mimetype": "text/x-python",
      "name": "python",
      "nbconvert_exporter": "python",
      "pygments_lexer": "ipython3",
      "version": "3.9.4"
    },
    "colab": {
      "name": "Chatbot.ipynb",
      "provenance": [],
      "collapsed_sections": [
        "3aRhDEnLhHhY",
        "cd823959",
        "58afc983",
        "W2BRnOlmiG1n",
        "G3GLauwDh_AG",
        "JOvIJ-yRiRsV",
        "4GqRa43diZp2",
        "ORe_TbGqiilx",
        "4-kuGmExirwl",
        "3phFX9Fri0s8",
        "IXj_1EHojA9u",
        "Se1WzXpBmswe",
        "_DPg1c8rn0K-",
        "1CHRSBdfn3Ak",
        "lKdha0ByjqcB",
        "vIn7rJsijwFN",
        "2EAMUNWgjwj_",
        "49102edf",
        "8ZnTjaVslTje",
        "L7d7Po9GlGoG",
        "bBmWK9iVllYL",
        "TSuLVzsBlp8T",
        "KbJ5ous5mGjy",
        "eWs6N3x4oMs8",
        "k-cEoN5MmAK7",
        "I04QgzzcmGSz"
      ],
      "toc_visible": true
    },
    "accelerator": "TPU"
  },
  "cells": [
    {
      "cell_type": "markdown",
      "metadata": {
        "id": "3aRhDEnLhHhY"
      },
      "source": [
        "# 0. Packages\n"
      ],
      "id": "3aRhDEnLhHhY"
    },
    {
      "cell_type": "code",
      "metadata": {
        "colab": {
          "base_uri": "https://localhost:8080/"
        },
        "id": "265d5f57",
        "outputId": "a3db3a87-789a-44c0-bf6d-3a12bea9c296"
      },
      "source": [
        "import pandas as pd\n",
        "import numpy as np\n",
        "import random\n",
        "import string\n",
        "import re\n",
        "import sys\n",
        "\n",
        "# Read file module\n",
        "from os import listdir\n",
        "from os.path import isfile, join\n",
        "\n",
        "# Tokenizer\n",
        "!pip install pyvi\n",
        "from pyvi import ViTokenizer, ViPosTagger\n",
        "#from vncorenlp import VnCoreNLP\n",
        "\n",
        "# Config\n",
        "np.set_printoptions(threshold=sys.maxsize)\n",
        "import warnings\n",
        "warnings.filterwarnings('ignore')"
      ],
      "id": "265d5f57",
      "execution_count": null,
      "outputs": [
        {
          "output_type": "stream",
          "text": [
            "Requirement already satisfied: pyvi in /usr/local/lib/python3.7/dist-packages (0.1)\n",
            "Requirement already satisfied: scikit-learn in /usr/local/lib/python3.7/dist-packages (from pyvi) (0.22.2.post1)\n",
            "Requirement already satisfied: sklearn-crfsuite in /usr/local/lib/python3.7/dist-packages (from pyvi) (0.3.6)\n",
            "Requirement already satisfied: scipy>=0.17.0 in /usr/local/lib/python3.7/dist-packages (from scikit-learn->pyvi) (1.4.1)\n",
            "Requirement already satisfied: joblib>=0.11 in /usr/local/lib/python3.7/dist-packages (from scikit-learn->pyvi) (1.0.1)\n",
            "Requirement already satisfied: numpy>=1.11.0 in /usr/local/lib/python3.7/dist-packages (from scikit-learn->pyvi) (1.19.5)\n",
            "Requirement already satisfied: tqdm>=2.0 in /usr/local/lib/python3.7/dist-packages (from sklearn-crfsuite->pyvi) (4.41.1)\n",
            "Requirement already satisfied: tabulate in /usr/local/lib/python3.7/dist-packages (from sklearn-crfsuite->pyvi) (0.8.9)\n",
            "Requirement already satisfied: six in /usr/local/lib/python3.7/dist-packages (from sklearn-crfsuite->pyvi) (1.15.0)\n",
            "Requirement already satisfied: python-crfsuite>=0.8.3 in /usr/local/lib/python3.7/dist-packages (from sklearn-crfsuite->pyvi) (0.9.7)\n"
          ],
          "name": "stdout"
        }
      ]
    },
    {
      "cell_type": "markdown",
      "metadata": {
        "id": "cd823959"
      },
      "source": [
        "# 1. Fetch data"
      ],
      "id": "cd823959"
    },
    {
      "cell_type": "code",
      "metadata": {
        "id": "6fb8565f"
      },
      "source": [
        "# Dataset is text file (.txt)\n",
        "file_path = './dataset'\n",
        "files = [f for f in listdir(file_path) if isfile(join(file_path, f))]\n",
        "# print(files)"
      ],
      "id": "6fb8565f",
      "execution_count": null,
      "outputs": []
    },
    {
      "cell_type": "code",
      "metadata": {
        "colab": {
          "base_uri": "https://localhost:8080/"
        },
        "id": "47d8f378",
        "outputId": "5af65d03-f2c5-4037-905c-d654284793e2"
      },
      "source": [
        "categories = {}\n",
        "for i, file in enumerate(files):\n",
        "    file = file.replace('.txt', '')\n",
        "    categories[i] = file\n",
        "print('Tên các thể loại: ', categories)"
      ],
      "id": "47d8f378",
      "execution_count": null,
      "outputs": [
        {
          "output_type": "stream",
          "text": [
            "Tên các thể loại:  {0: 'tdtu', 1: 'thông tin cá nhân', 2: 'bạn bè', 3: 'địa chỉ', 4: 'các câu hỏi phức tạp', 5: 'tán gẫu', 6: 'gia đình', 7: 'trò chuyện về đi ăn', 8: 'học tập', 9: 'sở thích', 10: 'đất nước', 11: 'nghỉ lễ', 12: 'robot', 13: 'giải trí', 14: 'nghề nghiệp', 15: 'du lịch', 16: 'shoping', 17: 'người yêu'}\n"
          ],
          "name": "stdout"
        }
      ]
    },
    {
      "cell_type": "code",
      "metadata": {
        "id": "608bfc00"
      },
      "source": [
        "# from txt files to dict\n",
        "dataset = {}\n",
        "for idx, file in enumerate(files):\n",
        "    if idx not in dataset:\n",
        "        dataset[categories[idx]] = []\n",
        "    lines = open(join(file_path, file), 'r', encoding='utf8')\n",
        "    for line in lines:\n",
        "        dataset[categories[idx]].append(line.strip())"
      ],
      "id": "608bfc00",
      "execution_count": null,
      "outputs": []
    },
    {
      "cell_type": "code",
      "metadata": {
        "colab": {
          "base_uri": "https://localhost:8080/"
        },
        "id": "f3f7ca45",
        "outputId": "2b380ac4-eb8e-4a50-ce0d-7bb880a67901"
      },
      "source": [
        "print('Tổng số thể loại hỏi đáp: ', len(dataset.keys()))\n",
        "print('Tổng số câu từng thể loại')\n",
        "for k, v in dataset.items():\n",
        "    print('Thể loại \\'{}\\'. Số câu: {} câu'.format(k, len(v)))"
      ],
      "id": "f3f7ca45",
      "execution_count": null,
      "outputs": [
        {
          "output_type": "stream",
          "text": [
            "Tổng số thể loại hỏi đáp:  18\n",
            "Tổng số câu từng thể loại\n",
            "Thể loại 'tdtu'. Số câu: 248 câu\n",
            "Thể loại 'thông tin cá nhân'. Số câu: 775 câu\n",
            "Thể loại 'bạn bè'. Số câu: 610 câu\n",
            "Thể loại 'địa chỉ'. Số câu: 427 câu\n",
            "Thể loại 'các câu hỏi phức tạp'. Số câu: 112 câu\n",
            "Thể loại 'tán gẫu'. Số câu: 206 câu\n",
            "Thể loại 'gia đình'. Số câu: 425 câu\n",
            "Thể loại 'trò chuyện về đi ăn'. Số câu: 238 câu\n",
            "Thể loại 'học tập'. Số câu: 263 câu\n",
            "Thể loại 'sở thích'. Số câu: 245 câu\n",
            "Thể loại 'đất nước'. Số câu: 201 câu\n",
            "Thể loại 'nghỉ lễ'. Số câu: 181 câu\n",
            "Thể loại 'robot'. Số câu: 170 câu\n",
            "Thể loại 'giải trí'. Số câu: 271 câu\n",
            "Thể loại 'nghề nghiệp'. Số câu: 407 câu\n",
            "Thể loại 'du lịch'. Số câu: 230 câu\n",
            "Thể loại 'shoping'. Số câu: 426 câu\n",
            "Thể loại 'người yêu'. Số câu: 420 câu\n"
          ],
          "name": "stdout"
        }
      ]
    },
    {
      "cell_type": "code",
      "metadata": {
        "id": "d661529a"
      },
      "source": [
        "# Biểu đồ cột\n",
        "bars = tuple(categories)\n",
        "height = [len(v) for k, v in dataset.items()]\n",
        "dataset_info = pd.DataFrame.from_dict({categories[i]: height[i] for i, category in enumerate(categories)}, orient='index', columns=['số câu'])"
      ],
      "id": "d661529a",
      "execution_count": null,
      "outputs": []
    },
    {
      "cell_type": "code",
      "metadata": {
        "scrolled": true,
        "colab": {
          "base_uri": "https://localhost:8080/"
        },
        "id": "99b0d61d",
        "outputId": "56ef54dd-ac05-44b9-968d-7a0584e42ef4"
      },
      "source": [
        "dataset_info.sort_values(by='số câu', ascending=False).plot(kind='bar')"
      ],
      "id": "99b0d61d",
      "execution_count": null,
      "outputs": [
        {
          "output_type": "execute_result",
          "data": {
            "text/plain": [
              "<matplotlib.axes._subplots.AxesSubplot at 0x7fc52f440d90>"
            ]
          },
          "metadata": {
            "tags": []
          },
          "execution_count": 7
        },
        {
          "output_type": "display_data",
          "data": {
            "image/png": "[encoded data removed]",
            "text/plain": [
              "<Figure size 432x288 with 1 Axes>"
            ]
          },
          "metadata": {
            "tags": [],
            "needs_background": "light"
          }
        }
      ]
    },
    {
      "cell_type": "code",
      "metadata": {
        "id": "edac2857"
      },
      "source": [
        "# QA extraction\n",
        "def QA_extraction(dataset, categories):\n",
        "    errors = {'question': [], 'answer': []}\n",
        "    data = {'question': [], 'answer': []}\n",
        "    for category in categories.values():\n",
        "        dialogues = dataset[category]\n",
        "        for i, dialogue in enumerate(dialogues):\n",
        "            question, answer, _ = dialogue.split('__eou__')\n",
        "            question = question.strip()\n",
        "            answer = answer.strip()\n",
        "            if (question != '') and (answer != ''): # ok\n",
        "                # print('Q/A: {}/{}'.format(question.strip(), answer.strip()))\n",
        "                data['question'].append(question)\n",
        "                data['answer'].append(answer)\n",
        "            else: # error \n",
        "                #print('Q/A: {}/{}'.format(question.strip(), answer.strip()))\n",
        "                errors['question'].append(question)\n",
        "                errors['answer'].append(answer)\n",
        "    return data, errors"
      ],
      "id": "edac2857",
      "execution_count": null,
      "outputs": []
    },
    {
      "cell_type": "code",
      "metadata": {
        "id": "4afce607"
      },
      "source": [
        "data, errors = QA_extraction(dataset, categories)"
      ],
      "id": "4afce607",
      "execution_count": null,
      "outputs": []
    },
    {
      "cell_type": "code",
      "metadata": {
        "colab": {
          "base_uri": "https://localhost:8080/"
        },
        "id": "93535692",
        "outputId": "feea1aa7-9970-4b2f-aa19-ef060d027cad"
      },
      "source": [
        "print(\"Số câu hỏi: {}\".format(len(data[\"question\"])))\n",
        "print(\"Số câu trả lời: {}\".format(len(data[\"answer\"])))\n",
        "print(\"Số cắp câu lỗi: {}\".format(len(errors)))"
      ],
      "id": "93535692",
      "execution_count": null,
      "outputs": [
        {
          "output_type": "stream",
          "text": [
            "Số câu hỏi: 5769\n",
            "Số câu trả lời: 5769\n",
            "Số cắp câu lỗi: 2\n"
          ],
          "name": "stdout"
        }
      ]
    },
    {
      "cell_type": "markdown",
      "metadata": {
        "id": "58afc983"
      },
      "source": [
        "# 2. Prepare data"
      ],
      "id": "58afc983"
    },
    {
      "cell_type": "markdown",
      "metadata": {
        "id": "W2BRnOlmiG1n"
      },
      "source": [
        "## 2.1 Clean sentences"
      ],
      "id": "W2BRnOlmiG1n"
    },
    {
      "cell_type": "code",
      "metadata": {
        "id": "66436136"
      },
      "source": [
        "def remove_punc(s):\n",
        "    exclude = set(string.punctuation)\n",
        "    s = ''.join(ch for ch in s if ch not in exclude)\n",
        "    return s"
      ],
      "id": "66436136",
      "execution_count": null,
      "outputs": []
    },
    {
      "cell_type": "code",
      "metadata": {
        "id": "d189c7ae"
      },
      "source": [
        "def clean_sentence(sent):\n",
        "    sent = remove_punc(sent)\n",
        "    sent = sent.lower()\n",
        "    return sent"
      ],
      "id": "d189c7ae",
      "execution_count": null,
      "outputs": []
    },
    {
      "cell_type": "code",
      "metadata": {
        "id": "4a137df4"
      },
      "source": [
        "# Clean sentence\n",
        "question_data = data['question']\n",
        "answer_data = data['answer']\n",
        "\n",
        "questions = [] # clean questions\n",
        "for q in question_data:\n",
        "    sentence = clean_sentence(q)\n",
        "    questions.append(sentence)\n",
        "    \n",
        "answers = [] # clean answers\n",
        "for a in answer_data:\n",
        "    sentence = clean_sentence(a)\n",
        "    answers.append(sentence)"
      ],
      "id": "4a137df4",
      "execution_count": null,
      "outputs": []
    },
    {
      "cell_type": "markdown",
      "metadata": {
        "id": "G3GLauwDh_AG"
      },
      "source": [
        "## 2.2 Tokenize sentences"
      ],
      "id": "G3GLauwDh_AG"
    },
    {
      "cell_type": "code",
      "metadata": {
        "id": "071f469f"
      },
      "source": [
        "# Get tokenized questions and answers\n",
        "token_questions = []\n",
        "for q in questions:\n",
        "    token_questions.append(ViTokenizer.tokenize(q))\n",
        "\n",
        "token_answers = []\n",
        "for a in answers:\n",
        "    token_answers.append(ViTokenizer.tokenize(a))"
      ],
      "id": "071f469f",
      "execution_count": null,
      "outputs": []
    },
    {
      "cell_type": "markdown",
      "metadata": {
        "id": "JOvIJ-yRiRsV"
      },
      "source": [
        "## 2.3 Get vocabulary"
      ],
      "id": "JOvIJ-yRiRsV"
    },
    {
      "cell_type": "code",
      "metadata": {
        "id": "demanding-afghanistan"
      },
      "source": [
        "SOS = \"<sos>\" # Start of sentence\n",
        "EOS = \"<eos>\" # End of sentence"
      ],
      "id": "demanding-afghanistan",
      "execution_count": null,
      "outputs": []
    },
    {
      "cell_type": "code",
      "metadata": {
        "colab": {
          "base_uri": "https://localhost:8080/"
        },
        "id": "strategic-talent",
        "outputId": "15e9fa52-f81b-4aef-c40b-5c0e13eaf632"
      },
      "source": [
        "# Get vovabulary\n",
        "vocabs = []\n",
        "full_questions = questions + token_questions\n",
        "full_answers = answers + token_answers\n",
        "training_sentences = [] # for word2vec\n",
        "\n",
        "sentences = full_questions + full_answers\n",
        "for sent in sentences:\n",
        "    tokens = sent.split(' ')\n",
        "    \n",
        "    training_sentences.append(tokens)\n",
        "    for token in tokens:\n",
        "        if token not in vocabs:\n",
        "            vocabs.append(token)\n",
        "            \n",
        "print(\"Số lượng từ vựng: {}\".format(len(vocabs)))\n",
        "print(\"Số lượng câu huấn luyện w2v: {}\".format(len(training_sentences)))"
      ],
      "id": "strategic-talent",
      "execution_count": null,
      "outputs": [
        {
          "output_type": "stream",
          "text": [
            "Số lượng từ vựng: 5767\n",
            "Số lượng câu huấn luyện w2v: 23076\n"
          ],
          "name": "stdout"
        }
      ]
    },
    {
      "cell_type": "markdown",
      "metadata": {
        "id": "4GqRa43diZp2"
      },
      "source": [
        "## 2.4 Define input and output data"
      ],
      "id": "4GqRa43diZp2"
    },
    {
      "cell_type": "code",
      "metadata": {
        "colab": {
          "base_uri": "https://localhost:8080/"
        },
        "id": "98262f5c",
        "outputId": "a6528de7-8f5c-4664-cbc7-2e2ec2e3af40"
      },
      "source": [
        "# Process for input and output data\n",
        "# for large data using full_questions and full_answers\n",
        "input_questions = token_questions\n",
        "input_answers = [SOS + ' ' + text for text in token_answers] # teacher forcing\n",
        "output_answers = [text + ' ' + EOS for text in token_answers]\n",
        "\n",
        "print(input_questions[:5])\n",
        "print(input_answers[:5])\n",
        "print(output_answers[:5])"
      ],
      "id": "98262f5c",
      "execution_count": null,
      "outputs": [
        {
          "output_type": "stream",
          "text": [
            "['trường mình ktx sạch không', 'trường mình thầy cô nghiêm_khắc không', 'trường mình có ngành nào liên_quan về sư_phạm không', 'bạn ở nhà_trọ hay ktx', 'bạn thấy trường mình còn thiếu_gì không']\n",
            "['<sos> quá sạch là đằng khác', '<sos> nghiêm lắm ý', '<sos> có trường mình có khoa chuyên về này', '<sos> mình ở ktx', '<sos> còn thiếu mình học nữa']\n",
            "['quá sạch là đằng khác <eos>', 'nghiêm lắm ý <eos>', 'có trường mình có khoa chuyên về này <eos>', 'mình ở ktx <eos>', 'còn thiếu mình học nữa <eos>']\n"
          ],
          "name": "stdout"
        }
      ]
    },
    {
      "cell_type": "markdown",
      "metadata": {
        "id": "ORe_TbGqiilx"
      },
      "source": [
        "## 2.5 Define hyper parameters"
      ],
      "id": "ORe_TbGqiilx"
    },
    {
      "cell_type": "code",
      "metadata": {
        "id": "GkN02Mymione"
      },
      "source": [
        "# Hyper parameters\n",
        "MAX_LEN = 20 # Max lenght of a sentence\n",
        "HIDDEN_DIM = 400 # Dimension of hidden state ~ Numer of LSTM Node\n",
        "EMBEDDING_DIM = 100 # Dimension of embedding output\n",
        "VOCAB_SIZE = len(vocabs) # Number of vacabularies in training data as input dimension of emdbedding\n",
        "\n",
        "# Other constants\n",
        "SAMPLE_NUM = len(data[\"question\"]) # Number of QnA-pair sentences\n",
        "BATCH_SIZE = 50\n",
        "EPOCHS = 2"
      ],
      "id": "GkN02Mymione",
      "execution_count": null,
      "outputs": []
    },
    {
      "cell_type": "markdown",
      "metadata": {
        "id": "4-kuGmExirwl"
      },
      "source": [
        "## 2.6 Word2Index"
      ],
      "id": "4-kuGmExirwl"
    },
    {
      "cell_type": "code",
      "metadata": {
        "id": "Ib8b7dNHiwls"
      },
      "source": [
        "from keras.preprocessing.text import Tokenizer"
      ],
      "id": "Ib8b7dNHiwls",
      "execution_count": null,
      "outputs": []
    },
    {
      "cell_type": "markdown",
      "metadata": {
        "id": "3phFX9Fri0s8"
      },
      "source": [
        "### 2.6.1 Question"
      ],
      "id": "3phFX9Fri0s8"
    },
    {
      "cell_type": "code",
      "metadata": {
        "colab": {
          "base_uri": "https://localhost:8080/"
        },
        "id": "w5TP_d5Eix_G",
        "outputId": "3a97efa0-b897-4a2a-d6c1-192b6ec58198"
      },
      "source": [
        "question_tokenizer = Tokenizer(num_words=VOCAB_SIZE, filters='!\"#$%&()*+,-./:;<=>?@[\\\\]^`{|}~\\t\\n')\n",
        "\n",
        "question_tokenizer.fit_on_texts(input_questions)\n",
        "input_question_seq = question_tokenizer.texts_to_sequences(input_questions) # one hot question sample\n",
        "\n",
        "word2index_input_question = question_tokenizer.word_index\n",
        "print(\"Số lượng từ trong câu hỏi: {}\".format(len(word2index_input_question)))\n",
        "\n",
        "MAX_QUESTION_LEN = max(len(sent) for sent in input_question_seq)\n",
        "print(\"Số từ của câu hỏi dài nhất: {}\".format(MAX_QUESTION_LEN))"
      ],
      "id": "w5TP_d5Eix_G",
      "execution_count": null,
      "outputs": [
        {
          "output_type": "stream",
          "text": [
            "Số lượng từ trong câu hỏi: 2586\n",
            "Số từ của câu hỏi dài nhất: 76\n"
          ],
          "name": "stdout"
        }
      ]
    },
    {
      "cell_type": "code",
      "metadata": {
        "colab": {
          "base_uri": "https://localhost:8080/"
        },
        "id": "-AWDJYRti7tl",
        "outputId": "36c6f08b-c43a-4ead-857e-4e77a6a9f484"
      },
      "source": [
        "print(len(input_question_seq))\n",
        "\n",
        "print(input_questions[0])\n",
        "print(input_question_seq[0])"
      ],
      "id": "-AWDJYRti7tl",
      "execution_count": null,
      "outputs": [
        {
          "output_type": "stream",
          "text": [
            "5769\n",
            "trường mình ktx sạch không\n",
            "[26, 5, 530, 699, 2]\n"
          ],
          "name": "stdout"
        }
      ]
    },
    {
      "cell_type": "code",
      "metadata": {
        "colab": {
          "base_uri": "https://localhost:8080/"
        },
        "id": "bT4G7UaUi-tN",
        "outputId": "26a5770e-8b6e-4dc0-ac7f-dab89479bf0c"
      },
      "source": [
        "print(word2index_input_question)"
      ],
      "id": "bT4G7UaUi-tN",
      "execution_count": null,
      "outputs": [
        {
          "output_type": "stream",
          "text": [
            "{'bạn': 1, 'không': 2, 'có': 3, 'gì': 4, 'mình': 5, 'ở': 6, 'đi': 7, 'nào': 8, 'cho': 9, 'là': 10, 'của': 11, 'vậy': 12, 'đâu': 13, 'cậu': 14, 'thích': 15, 'làm': 16, 'bao_nhiêu': 17, 'hay': 18, 'hỏi': 19, 'đang': 20, 'với': 21, 'học': 22, 'chơi': 23, 'quê': 24, 'này': 25, 'trường': 26, 'thế_nào': 27, 'chưa': 28, 'về': 29, 'mày': 30, 'nhà': 31, 'người_yêu': 32, 'muốn': 33, 'như': 34, 'được': 35, 'ăn': 36, 'người': 37, 'rồi': 38, 'em': 39, 'ạ': 40, 'phim': 41, 'biết': 42, 'tên': 43, 'thì': 44, 'ai': 45, 'tết': 46, 'khi': 47, 'xem': 48, 'mua': 49, 'thường': 50, 'mấy': 51, 'thế': 52, 'năm': 53, 'trong': 54, 'đó': 55, 'sao': 56, 'còn': 57, 'nhất': 58, 'để': 59, 'tao': 60, 'tuổi': 61, 'gia_đình': 62, 'có_thể': 63, 'đã': 64, 'ơi': 65, 'một': 66, 'những': 67, 'công_việc': 68, 'vào': 69, 'ngành': 70, 'mà': 71, 'thấy': 72, 'bạn_bè': 73, 'anh': 74, 'hiện_tại': 75, 'du_lịch': 76, 'sống': 77, 'nhiều': 78, 'nghề': 79, 'sinh': 80, 'ra': 81, 'rảnh': 82, 'nhỉ': 83, 'ông': 84, 'chung': 85, 'cái': 86, 'nên': 87, 'và': 88, 'chỗ': 89, 'cao': 90, 'yêu': 91, 'cùng': 92, 'crush': 93, 'phải': 94, 'à': 95, 'sẽ': 96, 'nay': 97, 'lúc': 98, 'game': 99, 'điện_thoại': 100, 'chị': 101, 'môn': 102, 'mới': 103, 'shop': 104, 'thể_thao': 105, 'con': 106, 'nghĩ': 107, '1': 108, 'đến': 109, 'nghe': 110, 'các': 111, 'bên': 112, 'bao_lâu': 113, 'ngày': 114, 'dịp': 115, 'trọ': 116, 'tính': 117, 'nơi': 118, 'ấy': 119, 'đâu_vậy': 120, 'tớ': 121, 'nếu': 122, 'hôm_nay': 123, 'nha': 124, 'áo': 125, 'giờ': 126, 'đây': 127, 'tiền': 128, 'nhau': 129, 'lắm': 130, 'nhé': 131, 'tốt': 132, 'chứ': 133, 'nghỉ': 134, 'gần': 135, 'sở_thích': 136, 'vui': 137, 'công_ty': 138, 'thuê': 139, 'từ': 140, 'thể_loại': 141, 'ngoài': 142, 'giá': 143, 'robot': 144, 'cũng': 145, 'rãnh': 146, 'định': 147, 'thân': 148, 'sinh_viên': 149, 'nặng': 150, 'nói': 151, 'thêm': 152, 'ba': 153, 'mẫu': 154, 'hơn': 155, 'tối': 156, 'phòng': 157, 'theo': 158, 'tại': 159, 'bằng': 160, 'đẹp': 161, 'tuần': 162, 'tôi': 163, 'xin': 164, 'trên': 165, 'cuối': 166, 'nữa': 167, 'mẹ': 168, 'đặc_sản': 169, 'tháng': 170, 'lên': 171, 'món': 172, 'nước': 173, 'khác': 174, 'đúng': 175, 'bị': 176, 'nè': 177, 'quá': 178, 'dạo': 179, 'bán': 180, 'á': 181, 'việc': 182, 'laptop': 183, 'mai': 184, 'quán': 185, 'tới': 186, 'cô': 187, 'qua': 188, 'quen': 189, 'sách': 190, 'trước': 191, 'anh_chị_em': 192, 'làm_việc': 193, 'gái': 194, 'ngon': 195, 'đâu_thế': 196, 'lại': 197, 'bố_mẹ': 198, 'thời_gian': 199, 'chọn': 200, '2': 201, 'ăn_ở': 202, 'học_phí': 203, 'đồ': 204, 'hả': 205, 'dự_định': 206, 'máy_tính': 207, 'quan_điểm': 208, 'khoa': 209, 'tui': 210, 'hiện': 211, 'số': 212, 'lễ': 213, 'đấy': 214, 'tại_sao': 215, 'rủ': 216, 'cần': 217, 'ổn': 218, 'lâu': 219, 'quận': 220, 'cảm_thấy': 221, 'thành_phố': 222, 'sau': 223, 'tình_yêu': 224, 'cơm': 225, 'thầy': 226, 'đại_học': 227, 'luôn': 228, 'ê': 229, 'chào': 230, 'xa': 231, 'lương': 232, 'nó': 233, 'chúng_ta': 234, 'từng': 235, 'sắp': 236, 'địa_chỉ': 237, 'nam': 238, 'quan_hệ': 239, 'mối': 240, 'vé': 241, 'size': 242, 'thông_tin': 243, 'đọc': 244, 'lần': 245, 'mọi': 246, 'hãng': 247, 'mặc': 248, 'bao_giờ': 249, 'loại': 250, 'gặp': 251, 'xe': 252, 'mỗi': 253, 'đà': 254, 'tương_lai': 255, 'bộ': 256, 'hai': 257, 'thứ': 258, 'hàng': 259, 'ok': 260, 'chiều': 261, 'lạt': 262, 'trai': 263, 'thử': 264, 'coi': 265, 'sài_gòn': 266, '3': 267, 'xong': 268, 'bồ': 269, 'đồng_nghiệp': 270, 'nhiêu': 271, 'lan': 272, 'hè': 273, 'nhạc': 274, 'cách': 275, 'màu': 276, 'quần': 277, 'máy': 278, 'nhà_trọ': 279, 'rất': 280, 'bây_giờ': 281, 'lớp': 282, 'thường_xuyên': 283, 'điểm': 284, 'đường': 285, 'việt': 286, 'uống': 287, 'tìm': 288, 'bao': 289, 'xinh': 290, 'tụi': 291, 'giá_cả': 292, 'đặt': 293, 'chuyển': 294, 'dạ': 295, 'giỏi': 296, 'cân': 297, 'giúp': 298, 'nhớ': 299, 'chuyên_ngành': 300, 'thoải_mái': 301, 'hẹn': 302, 'bơi': 303, 'quần_áo': 304, 'ngủ': 305, 'sau_này': 306, 'nhưng': 307, 'chắc': 308, 'rạp': 309, 'địa_điểm': 310, 'đất_nước': 311, 'bao_xa': 312, 'chiếc': 313, 'nổi_tiếng': 314, 'khoảng': 315, 'một_mình': 316, 'nhỏ': 317, 'khu': 318, 'trang': 319, 'bài': 320, 'chuyện': 321, 'chỉ': 322, 'tình': 323, 'mất': 324, 'thăm': 325, 'quê_hương': 326, 'đắt': 327, 'gu': 328, 'nhóm': 329, 'làm_sao': 330, 'tình_trạng': 331, 'học_tập': 332, 'buồn': 333, 'điều': 334, 'cũ': 335, 'hết': 336, 'họ_hàng': 337, 'tư_vấn': 338, 'tôn': 339, 'đức': 340, 'thắng': 341, 'ship': 342, 'ha': 343, 'hồ': 344, 'tiếng': 345, 'có_học': 346, 'họ': 347, 'nghề_nghiệp': 348, 'tỉnh': 349, 'mét': 350, 'tầm': 351, 'việt_nam': 352, 'vẫn': 353, 'ăn_không': 354, 'buổi': 355, 'rẻ': 356, 'miền': 357, 'vũng_tàu': 358, 'bố': 359, 'chuyến': 360, 'tdtu': 361, 'tốt_nghiệp': 362, 'khó': 363, 'hẹn_hò': 364, 'đặc_biệt': 365, 'chương_trình': 366, 'nữ': 367, '7': 368, 'tham_gia': 369, 'em_gái': 370, 'giới_thiệu': 371, 'thuộc': 372, 'ban': 373, 'online': 374, 'triệu': 375, 'dùng': 376, 'đá': 377, 'tặng': 378, 'tình_cảm': 379, 'dẫn': 380, 'chia_tay': 381, 'kia': 382, 'lẩu': 383, 'trưa': 384, 'm': 385, 'nhận': 386, '12': 387, 'iphone': 388, 'hoạt_động': 389, 'thư_viện': 390, 'rộng': 391, 'kí_túc_xá': 392, 'công_nghệ': 393, 'trà': 394, 'do': 395, 'cửa_hàng': 396, 'dòng': 397, 'trông': 398, 'quê_quán': 399, 'thành_viên': 400, 'xài': 401, 'rỗi': 402, 'mong_muốn': 403, 'hôm_qua': 404, 'chán': 405, 'thôi': 406, 'ngày_mai': 407, 'kiếm': 408, 'đông': 409, 'gà': 410, 'cộng': 411, 'hình': 412, 'thời_tiết': 413, 'giày': 414, 'trung_bình': 415, 'đồng': 416, 'vừa': 417, 'bảo': 418, 'bảo_hành': 419, 'anh_chị': 420, 'lớn': 421, 'thật': 422, 'shopee': 423, 'hay_là': 424, 'rảnh_rỗi': 425, 'quang': 426, 'con_gái': 427, 'mua_sắm': 428, 'hợp_lý': 429, 'an_ninh': 430, 'điện': 431, 'hãy': 432, 'chở': 433, 'đổi': 434, 'đón': 435, 'giảm_giá': 436, 'sếp': 437, 'mặt_hàng': 438, 'yêu_cầu': 439, 'câu': 440, 'đủ': 441, 'biển': 442, 'sữa': 443, 'ăn_uống': 444, 'dưới': 445, 'gồm': 446, '4': 447, 'nước_ngoài': 448, 'mắc': 449, 'hiện_giờ': 450, 'tiện': 451, 'học_sinh': 452, 'minh': 453, 'kí': 454, 'làm_quen': 455, 'lập_trình': 456, 'tỏ_tình': 457, 'quà': 458, 'mượn': 459, 't': 460, 'oke': 461, 'trung_tâm': 462, 'bình': 463, 'sáng': 464, 'net': 465, 'chạy': 466, 'đôi': 467, 'chí': 468, 'lấy': 469, 'thế_giới': 470, 'rớt': 471, 'đâu_đây': 472, 'áp_lực': 473, 'hát': 474, 'uy_tín': 475, 'samsung': 476, 'đào_tạo': 477, 'cơ_sở': 478, 'vật_chất': 479, 'liệu': 480, 'một_vài': 481, 'dài': 482, 'chủ': 483, 'tham_quan': 484, 'gửi': 485, 'giữ': 486, 'giải_trí': 487, 'căn': 488, 'hiện_nay': 489, 'đợt': 490, 'người_ta': 491, 'khỏe': 492, 'facebook': 493, 'chi': 494, 'anh_em': 495, 'tạo': 496, 'nhìn': 497, 'ngôn_ngữ': 498, 'như_vậy': 499, 'chuẩn_bị': 500, 'cafe': 501, 'o': 502, 'ta': 503, 'ca': 504, 'phượt': 505, 'cả': 506, 'ưa_thích': 507, 'giữa': 508, 'kì': 509, 'ừ': 510, 'trải': 511, 'tâm_trạng': 512, 'tính_cách': 513, 'nhậu': 514, 'chợ': 515, 'ghép': 516, 'chú': 517, 'nằm': 518, 'kiểu': 519, 'mang': 520, 'dành': 521, 'bé': 522, 'pizza': 523, 'kèo': 524, 'khuyến_mãi': 525, 'bọn': 526, 'dịch': 527, '2021': 528, 'vịt': 529, 'ktx': 530, 'ký_túc_xá': 531, 'dạy': 532, 'bóng_đá': 533, 'váy': 534, 'okay': 535, 'tổ_chức': 536, 'riêng': 537, 'tin': 538, 'mở': 539, 'sản_phẩm': 540, 'mùa': 541, 'đạt': 542, 'ngành_nghề': 543, 'đam_mê': 544, 'hùng': 545, 'gọi': 546, 'oh': 547, 'đâu_đấy': 548, 'mạng': 549, 'dau': 550, 'khong': 551, 'vui_vẻ': 552, 'kể': 553, 'lý_tưởng': 554, 'đà_lạt': 555, 'ủa': 556, 'cưới': 557, 'đánh': 558, 'thi': 559, 'banh': 560, 'chừng': 561, 'quan_tâm': 562, 'khiến': 563, 'môn_học': 564, 'thú_vị': 565, 'dự_tính': 566, 'cụ_thể': 567, 'xíu': 568, 'giao': 569, 'tấm': 570, '11': 571, 'bận': 572, 'cua': 573, 'ế': 574, 'vài': 575, 'đem': 576, 'khôngmình': 577, 'học_lực': 578, 'khá': 579, 'ừa': 580, 'bánh': 581, 'lì_xì': 582, 'book': 583, 'thanh_toán': 584, 'asus': 585, 'xl': 586, 'bàn': 587, 'học_kì': 588, 'thân_thiện': 589, 'dễ': 590, 'giảng_viên': 591, 'tự': 592, 'dao_động': 593, 'có_dễ': 594, 'shopping': 595, 'hồi': 596, 'dắt': 597, 'hỗ_trợ': 598, 'phục_vụ': 599, 'mức': 600, 'truyền_thống': 601, 'hiểu': 602, 'tiện_ích': 603, 'review': 604, 'tất_cả': 605, 'sử_dụng': 606, 'đáng': 607, 'ô_tô': 608, 'cảm_ơn': 609, 'ồ': 610, 'chia_sẻ': 611, 'hôn_nhân': 612, 'phương_tiện': 613, 'du_học': 614, 'kế_hoạch': 615, 'ứng_dụng': 616, 'điện_tử': 617, 'hình_như': 618, 'độc_thân': 619, 'vẻ': 620, 'ghê': 621, 'hơi': 622, 'âm_nhạc': 623, '25': 624, 'mời': 625, 'co': 626, 'giới_tính': 627, 'bữa': 628, 'cà_phê': 629, 'tập': 630, 'chiếu': 631, 'nấu_ăn': 632, 'cuốn': 633, 'đời': 634, 'cứ': 635, 'bình_thường': 636, 'love': 637, 'chủ_nhật': 638, 'từ_chối': 639, 'hà_nội': 640, 'thương': 641, 'hoa': 642, 'lĩnh_vực': 643, 'cây': 644, 'tự_nhiên': 645, 'tăng': 646, 'đồng_tính': 647, 'đầu': 648, 'bà': 649, 'hợp': 650, 'đứa': 651, 'thằng': 652, 'rằng': 653, 'chi_phí': 654, 'ghé': 655, 'sang': 656, 'có_giá': 657, '15': 658, 'cảm_giác': 659, 'đậu': 660, 'đẹp_trai': 661, 'quả': 662, 'cảm_xúc': 663, 'sự': 664, 'bệnh': 665, 'cuộc_sống': 666, '5': 667, 'cá': 668, 'nghiệm': 669, 'tắm': 670, 'covid': 671, 'khỏi': 672, 'tiếp': 673, 'núi': 674, 'sớm': 675, 'long': 676, 'những_ai': 677, 'chúc': 678, 'nhân_viên': 679, 'chờ': 680, 'mì': 681, 'chúng_mình': 682, 'xếp': 683, 'thành_tích': 684, 'ca_sĩ': 685, 'chụp': 686, 'sản_xuất': 687, 'trung': 688, 'huế': 689, 'tây': 690, 'mầy': 691, '30': 692, 'thông_minh': 693, 'nãy': 694, 'môi_trường': 695, 'đơn': 696, 'sale': 697, 'cấu_hình': 698, 'sạch': 699, 'tiêu_chuẩn': 700, 'vải': 701, 'chất_liệu': 702, 'khó_tính': 703, 'haha': 704, 'vui_chơi': 705, 'việc_làm': 706, 'phép': 707, 'rèn_luyện': 708, 'tòa': 709, 'khác_biệt': 710, 'tuyển': 711, 'nổi_bật': 712, 'khóa': 713, 'đăng_ký': 714, 'lầu': 715, 'liên_lạc': 716, 'ước_mơ': 717, 'định_hướng': 718, 'đầy_đủ': 719, 'cung': 720, 'ký': 721, 'miêu_tả': 722, 'con_người': 723, 'giới': 724, 'sinh_nhật': 725, 'hoặc': 726, 'thế_thì': 727, 'ấn_tượng': 728, 'trò_chuyện': 729, 'sợ': 730, 'galaxy': 731, 'chủ_động': 732, 'alo': 733, 'cờ': 734, 'đêm': 735, 'dậy': 736, 'học_kỳ': 737, 'bóng_rổ': 738, 'nướng': 739, 'đầu_tiên': 740, 'mạy': 741, 'hòa': 742, 'thân_thiết': 743, 'làm_bạn': 744, 'làm_ơn': 745, 'lâu_dài': 746, 'trống': 747, 'siêu_thị': 748, 'xe_buýt': 749, 'chổ': 750, 'nội': 751, 'ngoại': 752, 'mặt': 753, 'giúp_việc': 754, 'nhà_cửa': 755, 'họ_hàng_không': 756, 'bún': 757, 'trứng': 758, 'chai': 759, 'trái_đất': 760, 'khó_khăn': 761, 'chim': 762, 'trời': 763, 'mưa': 764, 'thổi': 765, 'tí': 766, 'dự_đoán': 767, 'vậy_ta': 768, 'sửa': 769, 'ghét': 770, 'cắm_sừng': 771, 'lọ': 772, 'no': 773, 'or': 774, 'riêu': 775, 'bắt_đầu': 776, 'hư': 777, 'thẻ': 778, '16': 779, 'bài_tập': 780, 'nói_chuyện': 781, 'bida': 782, 'mập': 783, 'dễ_thương': 784, 'vì_sao': 785, 'hải_sản': 786, 'một_số': 787, 'mùng': 788, 'giàu': 789, 'hạnh_phúc': 790, 'thèm': 791, '6': 792, 'đám': 793, 'tiệc': 794, 'ý': 795, 'nhĩ': 796, 'fpt': 797, 'danh_lam': 798, 'thắng_cảnh': 799, 'đà_nẵng': 800, 'bắc': 801, 'tỉnh_thành': 802, 'tình_hình': 803, 'hôm': 804, 'bao_lâu_vậy': 805, 'tổ': 806, 'dang': 807, 'la': 808, '304': 809, 'vô': 810, 'vị_trí': 811, 'ổn_định': 812, 's20': 813, 'ngoại_hình': 814, 'cãi': 815, 'yêu_đương': 816, 'n': 817, 'liên_quan': 818, 'đồng_phục': 819, 'tín_chỉ': 820, 'lạc_bộ': 821, 'thiết_kế': 822, 'nai': 823, 'đừng': 824, 'đồn': 825, 'hot': 826, 'what': 827, 'thư': 828, 'con_trai': 829, 'đố': 830, 'an': 831, 'đầu_ra': 832, 'wifi': 833, 'nhà_xe': 834, 'kẹt': 835, 'chính': 836, 'so': 837, 'cầu_lông': 838, 'nâng_cấp': 839, 'khu_vực': 840, 'dễ_dàng': 841, 'tư': 842, 'trình_độ': 843, 'quốc_tế': 844, 'nghành': 845, 'thực_tập': 846, 'đội_tuyển': 847, 'con_thứ': 848, '20': 849, 'máu': 850, 'trúng': 851, 'phái': 852, 'vây': 853, 'kg': 854, 'biệt_danh': 855, 'năng': 856, 'hoàng_đạo': 857, 'nhà_hàng': 858, 'ngày_sinh': 859, 'thông_thường': 860, 'ă': 861, 'cầu': 862, 'thuốc': 863, 'lớn_tuổi': 864, 'tìm_hiểu': 865, 'kết': 866, 'vì': 867, 'cơ_hội': 868, 'gây': 869, 'bóng': 870, 'quỳnh': 871, 'nhá': 872, 'mệt': 873, 'chút': 874, 'lời': 875, 'phố': 876, 'đưa': 877, 'tập_thể_dục': 878, 'tâm_sự': 879, 'đói': 880, 'tính_tình': 881, 'thao': 882, 'sẻ': 883, 'đều': 884, 'real': 885, 'ừm': 886, 'hoài': 887, 'cạnh': 888, 'nấu_ăn_không': 889, 'sẵn_sàng': 890, 'yêu_quý': 891, 'tùng': 892, 'lập': 893, 'sinh_sống': 894, 'không_gian': 895, 'nhà_riêng': 896, 'diện_tích': 897, 'nhà_bè': 898, 'chung_cư': 899, 'xung_quanh': 900, 'xe_máy': 901, 'trả': 902, 'nhu_cầu': 903, 'ngôi': 904, 'cấp': 905, 'mét_vuông': 906, 'dọn_dẹp': 907, 'vùng': 908, 'hài': 909, 'nlp': 910, 'thành_công': 911, 'bot': 912, 'nhắn': 913, 'ý_nghĩa': 914, 'đội': 915, 'trận_đấu': 916, 'tam_giác_vuông': 917, 'bền': 918, 'cảm_nhận': 919, 'thanh_xuân': 920, 'quên': 921, 'tuyệt_vời': 922, 'sòng': 923, 'tạch': 924, 'bắp': 925, 'chữ_cái': 926, '13': 927, 'đầm': 928, 'paris': 929, 'vô_cùng': 930, 'xanh': 931, 'hã': 932, 'bản': 933, 'mập_vậy': 934, 'từ_thiện': 935, 'dằn': 936, 'rút': 937, 'rượu': 938, 'tim': 939, 'hứng_thú': 940, 'lùn': 941, 'không_khí': 942, 'dân': 943, 'dương': 944, 'bến': 945, 'tre': 946, 'bao_xa_vậy': 947, 'kết_hôn': 948, 'anhchị': 949, 'ông_bà': 950, 'vợ': 951, 'cay': 952, 'hủ_tiếu': 953, 'bia': 954, 'okie': 955, 'lát': 956, 'phở': 957, '8': 958, 'nợ': 959, 'top': 960, 'yếu': 961, 'hài_lòng': 962, 'cảm': 963, 'mảng': 964, 'diễn_viên': 965, 'film': 966, 'rap': 967, 'nhân_vật': 968, 'ảnh': 969, 'lạnh': 970, 'giỗ': 971, 'châu_lục': 972, 'quốc': 973, 'nhu': 974, 'the_nao': 975, 'muon': 976, 'nấu': 977, 'valentine': 978, 'lịch': 979, 'quốc_khánh': 980, 'họp': 981, 'cầm': 982, 'quân': 983, 'bịch': 984, 'sai': 985, 'chồng': 986, 'mục_đích': 987, 'khả_năng': 988, 'kìa': 989, 'kinh_dị': 990, 'gay_cấn': 991, 'cgv': 992, 'hành_động': 993, 'lotte': 994, 'dự': 995, '7h': 996, 'offline': 997, 'gót': 998, 'đau': 999, 'lead': 1000, 'ảnh_hưởng': 1001, 'tour': 1002, 'chốt': 1003, 'check': 1004, 'trang_web': 1005, 'noi': 1006, 'gợi_ý': 1007, 'quần_jean': 1008, 'thun': 1009, '128gb': 1010, 'cửa_hiệu': 1011, 'adidas': 1012, 'đen': 1013, 'phí': 1014, 'ssd': 1015, 'son': 1016, 'mạnh': 1017, 'budget': 1018, 'sạc': 1019, 'thổ_lộ': 1020, 'vấn_đề': 1021, 'tđt': 1022, 'tương_đối': 1023, 'kinh_tế': 1024, 'văn_phòng': 1025, 'tham_khảo': 1026, 'tdt': 1027, 'tín': 1028, 'chất': 1029, 'giặt': 1030, 'phòng_ốc': 1031, 'trống_không': 1032, 'kêu': 1033, 'chời': 1034, 'about': 1035, 'you': 1036, 'ví_dụ': 1037, '23': 1038, 'rõ': 1039, 'đại_dương': 1040, 'tổng_cộng': 1041, 'đảm_bảo': 1042, 'xịn': 1043, 'chất_lượng': 1044, 'số_lượng': 1045, 'đóng': 1046, 'thể_dục': 1047, 'giám_thị': 1048, 'xét': 1049, 'sinh_hoạt': 1050, 'học_bổng': 1051, 'hình_thức': 1052, 'thiện': 1053, 'thiết_bị': 1054, 'hổ': 1055, 'tận': 1056, 'trang_phục': 1057, 'ít': 1058, 'cntt': 1059, 'liệt_kê': 1060, 'tọa_lạc': 1061, 'clb': 1062, 'chuẩn': 1063, 'quầy': 1064, 'dịch_vụ': 1065, 'máy_lạnh': 1066, 'viên': 1067, 'điều_kiện': 1068, 'cảnh': 1069, 'cư_trú': 1070, 'nick': 1071, 'sđt': 1072, 'trường_vậy': 1073, 'thần_tượng': 1074, 'thích_thú': 1075, 'mục_tiêu': 1076, 'thời_điểm': 1077, 'gốc': 1078, 'phân_công': 1079, 'thời_trang': 1080, 'tiếp_tục': 1081, 'con_một': 1082, 'vietlot': 1083, 'giáo_viên': 1084, 'xin_lỗi': 1085, 'dân_tộc': 1086, 'ah': 1087, 'wow': 1088, 'quốc_gia': 1089, 'cận': 1090, 'độ': 1091, 'tôn_giáo': 1092, 'gầy': 1093, 'học_vấn': 1094, 'khùng': 1095, 'sdt': 1096, 'tốn': 1097, 'luyện': 1098, 'hải': 1099, 'song': 1100, 'voi': 1101, 'cá_nhân': 1102, 'solo': 1103, 'rũ': 1104, 'thói_quen': 1105, 'tâm_lý': 1106, 'thất_tình': 1107, 'tay': 1108, 'bản_thân': 1109, 'ngoài_ra': 1110, 'dỗi': 1111, 'bi': 1112, 'toàn': 1113, 'êu': 1114, 'phim_vậy': 1115, 'chi_tiết': 1116, 'bắt_chuyện': 1117, 'info': 1118, 'buồn_thế': 1119, 'bụng': 1120, 'thực_hành': 1121, 'ngồi': 1122, 'vẽ': 1123, 'kết_bạn': 1124, 'cuộc': 1125, 'lẻ': 1126, 'hay_vậy': 1127, 'nhát': 1128, 'tiệm': 1129, 'kêt': 1130, 'friend': 1131, 'with': 1132, 'benefit': 1133, 'cảu': 1134, 'lòng': 1135, 'vui_tính': 1136, 'bạn_bè_bạn': 1137, 'lợi_dụng': 1138, 'tiền_bạc': 1139, 'kinh_doanh': 1140, 'hướng_ngoại': 1141, 'ny': 1142, 'tụ_tập': 1143, 'tệ_nạn': 1144, 'phong': 1145, 'cúp': 1146, 'phú': 1147, 'mỹ': 1148, 'vừa_mới': 1149, 'cách_thức': 1150, 'bất_tiện': 1151, 'bắt': 1152, 'có_dễ_tính': 1153, 'chia': 1154, 'vệ_sinh': 1155, 'dọn': 1156, 'đặt_cọc': 1157, 'tiện_nghi': 1158, 'hông': 1159, 'gía': 1160, 'lưu_ý': 1161, 'q1': 1162, 'hợp_đồng': 1163, 'tháng_vậy': 1164, 'máy_giặt': 1165, 'thu_xếp': 1166, 'người_thân': 1167, 'biệt_phủ': 1168, 'tiền_đường': 1169, 'dợ': 1170, 'ở_riêng': 1171, 'hcm': 1172, 's': 1173, 'minh_vậy': 1174, 'xây': 1175, 'nhà_đất': 1176, 'tự_lập': 1177, 'cứu': 1178, 'đổ': 1179, 'ly': 1180, 'tình_nguyện': 1181, 'coffee': 1182, 'vặt': 1183, 'lựa_chọn': 1184, 'miết': 1185, 'tồn_tại': 1186, 'dầu': 1187, 'té': 1188, 'ếch': 1189, 'làm_chi': 1190, 'le_le': 1191, 'kèn': 1192, 'bìm_bịp': 1193, 'tò': 1194, 'te': 1195, 'tò_te': 1196, 'cầu_thủ': 1197, 'axit': 1198, 'chứng_minh': 1199, 'tiền_tệ': 1200, 'hạ_long': 1201, 'hề': 1202, 'duyên_phận': 1203, 'chẳng': 1204, 'dù': 1205, 'thu_nhập': 1206, 'nguyễn': 1207, '3cm': 1208, '4cm': 1209, 'dung_dịch': 1210, 'nhãn': 1211, 'hcl': 1212, 'h2so4': 1213, 'phương_pháp_hóa': 1214, 'để_ý': 1215, 'môi': 1216, 'mặt_trời': 1217, 'phân_biệt': 1218, 'chó': 1219, 'nhiệt_độ': 1220, 'ngân': 1221, 'gấu': 1222, 'bông': 1223, 'máy_bay': 1224, 'vậy_mà': 1225, 'kịp': 1226, 'trốn': 1227, 'nắng': 1228, 'ngu': 1229, '19': 1230, 'mãi': 1231, 'leo': 1232, 'bảnh': 1233, 'rang': 1234, 'bí_quyết': 1235, 'bước': 1236, 'vấp': 1237, 'quánh': 1238, 'giỡn': 1239, 'hạ': 1240, 'có_ăn': 1241, 'dô': 1242, 'khoẻ': 1243, 'tphcm': 1244, 'ca_hát': 1245, 'vĩnh': 1246, 'sản': 1247, 'đối_với': 1248, 'phong_cảnh': 1249, 'sông': 1250, 'cà_mau': 1251, 'ruột': 1252, 'cải': 1253, 'chị_em': 1254, 'cháu': 1255, 'anhchịem': 1256, 'aka': 1257, 'house': 1258, 'vinmart': 1259, 'kfc': 1260, 'dư': 1261, 'buffet': 1262, '19h30': 1263, 'ốc': 1264, 'rán': 1265, 'combo': 1266, 'chè': 1267, 'shushi': 1268, '7h30': 1269, 'đi_vậy': 1270, 'bò': 1271, 'đợi': 1272, 'an_toàn': 1273, 'bự': 1274, 'tình_hình_học_tập': 1275, 'phù_hợp': 1276, 'học_hành': 1277, 'kỳ': 1278, 'thực_tế': 1279, 'stress': 1280, 'vất_vả': 1281, 'bộ_môn': 1282, 'lười': 1283, 'vận_động': 1284, 'hâm_mộ': 1285, 'vàng': 1286, 'nhất_là': 1287, 'trái': 1288, 'lúc_nào': 1289, 'bún_bò': 1290, 'đi_nữa': 1291, 'vịnh': 1292, 'quy': 1293, 'vọng': 1294, 'que': 1295, 'huong': 1296, 'a': 1297, 'vương': 1298, 'noel': 1299, 'vừa_rồi': 1300, 'thưởng': 1301, 'tất_niên': 1302, 'ké': 1303, 'giao_thừa': 1304, 'sướng': 1305, '29': 1306, 'bắn': 1307, 'nhen': 1308, 'chùa': 1309, 'lao_động': 1310, 'thông': 1311, 'trừ': 1312, 'hù': 1313, 'ướt': 1314, 'sơn': 1315, 'bài_toán': 1316, 'lời_giải': 1317, 'cực': 1318, 'hộp': 1319, 'vượt': 1320, 'tính_toán': 1321, 'trả_lời': 1322, 'rửa': 1323, 'đoán': 1324, 'bắt_đầu_từ': 1325, 'gió': 1326, 'giải': 1327, 'thiệt': 1328, 'google': 1329, 'lỗi': 1330, 'giùm': 1331, 'chủ_nhân': 1332, 'thế_giới_quan': 1333, 'ngoài_trời': 1334, 'cập_nhật': 1335, 'may': 1336, 'công_chiếu': 1337, '20h': 1338, 'ca_nhạc': 1339, 'hoạt_hình': 1340, 'cổng': 1341, 'đâu_đó': 1342, 'đình': 1343, 'war': 1344, 'suất': 1345, 'tối_vậy': 1346, '6h30': 1347, 'dị': 1348, 'city': 1349, 'phiền': 1350, 'hoà_đồng': 1351, 'chi_nhánh': 1352, 'nắm': 1353, 'quy_trình': 1354, 'ổng': 1355, 'lương_tâm': 1356, 'bảo_mật': 1357, 'hệ_số': 1358, 'mơ_ước': 1359, 'đàng_hoàng': 1360, 'thực_sự': 1361, 'chế_độ': 1362, 'mentor': 1363, 'lương_bổng': 1364, 'làm_chủ_yếu': 1365, 'cô_đơn': 1366, 'thất_bại': 1367, 'mông_lung': 1368, 'chênh_vênh': 1369, 'lận': 1370, 'ku': 1371, 'sapa': 1372, 'xã_hội': 1373, 'shoping': 1374, 'chao': 1375, 'vung': 1376, 'tau': 1377, 'phan': 1378, 'thiet': 1379, 'tổng_chi_phí': 1380, 'ram': 1381, 'len': 1382, '32': 1383, 'đồng_hồ': 1384, 'phụ_kiện': 1385, 'trắng': 1386, 'macbook': 1387, 'phân_vân': 1388, 'k': 1389, 'hàng_không': 1390, 'rog': 1391, 'polo': 1392, 'nike': 1393, 'đặt_hàng': 1394, 'tiki': 1395, 'đỏ': 1396, 'bàn_phím': 1397, 'lazada': 1398, 'áo_phông': 1399, 'sài_laptop': 1400, 'dell': 1401, 'sơmi': 1402, 'áo_dài': 1403, 'cấu_hình_như': 1404, 'msi': 1405, 'sơ': 1406, 'hiệu': 1407, '10': 1408, 'dự_phòng_không': 1409, 'xám': 1410, 'phết': 1411, 'uyên': 1412, 'thân_mật': 1413, 'ơ': 1414, 'bênh': 1415, 'yep': 1416, 'one': 1417, 'night': 1418, 'stay': 1419, 'dỗ': 1420, 'ốm': 1421, 'lý_trí': 1422, 'người_thương': 1423, '21': 1424, 'lâu_nay': 1425, 'nhắn_tin': 1426, 'cưa': 1427, 'nghiêm_khắc': 1428, 'sư_phạm': 1429, 'thiếu_gì': 1430, 'kiến_thức': 1431, 'máy_tính_vậy': 1432, 'vào_khoảng': 1433, 'y': 1434, 'toeic': 1435, 'chát': 1436, 'gia_hạn': 1437, 'bằng_cấp': 1438, 'lab': 1439, 'nghiên_cứu': 1440, 'đh': 1441, 'bình_quân': 1442, 'tài_liệu': 1443, 'kì_vậy': 1444, 'thu': 1445, 'luận_án': 1446, 'voan': 1447, 'đồ_đạc': 1448, 'cỡ': 1449, 'mrqueen': 1450, 'tán_thành': 1451, 'how': 1452, 'think': 1453, 'công_nhận': 1454, 'kido': 1455, 'since': 1456, 'shebyshe': 1457, 'giãn': 1458, 'h': 1459, 'trưởng_thành': 1460, 'mới_đầu': 1461, 'bầu_trời': 1462, 'vy': 1463, 'hà': 1464, 'tĩnhnghệ': 1465, 'ghê_vậy': 1466, 'tuyết': 1467, 'mốt': 1468, 'quân_sự': 1469, 'giảng_dạy': 1470, 'đánh_giá_như': 1471, 'nhiệt_tình': 1472, 'người_ngoài': 1473, 'dạy_học': 1474, 'chuyên_môn': 1475, 'sân': 1476, 'golf': 1477, 'trương': 1478, 'trình': 1479, 'đại_trà': 1480, 'hướng_dẫn': 1481, 'phòng_vệ_sinh': 1482, 'phân_bố': 1483, 'học_bạ': 1484, 'mở_cửa': 1485, 'thây': 1486, 'xuyêt': 1487, 'duyệt': 1488, 'học_bạ_vậy': 1489, 'phong_trào': 1490, 'nguyện': 1491, 'gói': 1492, 'trợ': 1493, 'lắp_đặt': 1494, 'đặc_điểm': 1495, 'trường_học': 1496, 'thực_hiện': 1497, 'giảng': 1498, 'ưu_tiên': 1499, 'khối': 1500, 'khuôn_viên': 1501, 'công_nhân_viên': 1502, 'giày_dép': 1503, 'lân_cận': 1504, 'mỹ_thuật': 1505, 'công_nghiệp': 1506, 'công': 1507, 'bán_công': 1508, 'trang_bị': 1509, 'quốc_phòng': 1510, 'phát_động': 1511, 'chú_ý': 1512, 'tiến_độ': 1513, 'view': 1514, 'ảo': 1515, 'khoá': 1516, 'zalo': 1517, 'hem': 1518, 'hài_kịch': 1519, 'hiếu': 1520, '1997': 1521, 'giúp_đỡ': 1522, 'skype': 1523, 'trở_thành': 1524, 'tuôi': 1525, 'nổi': 1526, 'tiến': 1527, 'nhạc_cụ': 1528, 'chức_vụ': 1529, 'ngôn_ngữ_vậy': 1530, 'gj': 1531, 'dúng': 1532, 'cân_vậy': 1533, 'tinh': 1534, 'bệnh_án': 1535, 'email': 1536, 'zậy': 1537, 'chậm': 1538, 'số_đo': 1539, 'vòng': 1540, '1m5': 1541, 'ngày_tháng': 1542, 'huy': 1543, 'khang': 1544, 'cm': 1545, 'khoảng_cách': 1546, 'bào': 1547, 'ngán': 1548, 'vậy_lan': 1549, 'nghề_vậy': 1550, 'lofi': 1551, 'căn_cước': 1552, 'cmnd': 1553, 'hcn': 1554, 'gia': 1555, 'dinh': 1556, 'mot': 1557, 'xanh_xao': 1558, 'vậy_nhân': 1559, 'đánh_lộn': 1560, 'yasua': 1561, 'picnic': 1562, 'bar': 1563, 'rảnh_vậy': 1564, 'tủ': 1565, 'hút': 1566, 'nồng_cháy': 1567, 'giành': 1568, 'ấm_áp': 1569, 'lạnh_lùng': 1570, 'bận_bịu': 1571, 'thế_cơ': 1572, 'lành_mạnh': 1573, 'chính_trị': 1574, 'pháp_luật': 1575, 'nhà_sách': 1576, 'tiểu_thuyết': 1577, 'sầu_vậy': 1578, 'uầy': 1579, 'chả': 1580, 'dũng_khí': 1581, 'đăng_kí': 1582, 'the': 1583, 'coffeetown': 1584, 'true': 1585, 'công_viên': 1586, 'tuần_thế': 1587, 'rảnh_thế': 1588, 'thay_đổi': 1589, 'đường_ngắm': 1590, 'phố_phường': 1591, 'thắc_mắc': 1592, 'hương': 1593, 'tháy': 1594, 'ờ': 1595, 'bạn_đời': 1596, 'năm_tháng': 1597, 'ứng_xử': 1598, 'vòng_vòng': 1599, 'ngày_sinh_nhật': 1600, 'films': 1601, 'lui': 1602, 'ngại': 1603, 'thì_thôi': 1604, 'nhân_phẩm': 1605, 'sưu_tập': 1606, 'nhi': 1607, 'option': 1608, 'mũm_mĩm': 1609, 'nhỏ_tuổi': 1610, 'quyển': 1611, 'nhát_vậy': 1612, 'guitar': 1613, 'thư_giãn': 1614, 'tranh': 1615, 'warframe': 1616, 'động_vật': 1617, 'bản_thân_thích': 1618, 'handmade': 1619, 'nét': 1620, 'liên': 1621, 'đaua': 1622, 'choi': 1623, 'chơi_vậy': 1624, 'liên_quân': 1625, 'pubg': 1626, 'rành': 1627, 'cáu': 1628, 'bẩn': 1629, 'tính_nết': 1630, 'dính': 1631, 'liếu': 1632, 'dợbạn': 1633, 'rộng_mở': 1634, 'tin_cậy': 1635, 'quan_niệm': 1636, 'hân': 1637, 'moto': 1638, 'quản_trị': 1639, 'trầm': 1640, 'hướng_nội': 1641, 'dở_người': 1642, 'ít_nhất': 1643, 'tommie': 1644, 'giải_vầy': 1645, 'lùn_thế': 1646, 'gầy_thế': 1647, 'homies': 1648, 'nuôi': 1649, 'thú': 1650, 'cưng': 1651, 'traibạn': 1652, 'dơ': 1653, 'câu_chuyện': 1654, 'hưng': 1655, 'xoay': 1656, 'sở': 1657, 'đành': 1658, 'nấu_ăn_ở': 1659, 'rộng_rãi': 1660, 'cấm_kị': 1661, 'ư': 1662, 'phơi': 1663, 'đỗ': 1664, 'thuê_bao_nhiêu': 1665, 'tuyến': 1666, 'bus': 1667, 'grab': 1668, 'trạm': 1669, 'lợi_ích': 1670, 'kw': 1671, 'yên_tĩnh': 1672, 'timd': 1673, 'saobạn': 1674, '5tr': 1675, '2tr5': 1676, 'quyết_định': 1677, 'chịu': 1678, 'trật_tự': 1679, 'quy_tắc': 1680, 'giờ_giấc': 1681, 'đến_nơi': 1682, 'phòng_không': 1683, 'trở': 1684, 'xuống': 1685, 'tù_túng': 1686, 'trọ_vậy': 1687, 'nội_thất': 1688, 'nông_trại': 1689, 'biệt_thự': 1690, 'côn': 1691, 'đảo': 1692, 'chữ': 1693, 'thanh': 1694, 'hoá': 1695, 'uỷ_ban': 1696, 'ddaau': 1697, 'bang': 1698, 'mặt_tiền': 1699, 'hẻm': 1700, 'đất': 1701, 'thiên_văn_học': 1702, 'rơi': 1703, 'xuống_nước': 1704, 'nhập_môn': 1705, 'cường': 1706, 'suối': 1707, 'vũ_trụ': 1708, 'h2': 1709, 'o2': 1710, 'khờ': 1711, 'dựa': 1712, 'tiêu_chí': 1713, 'út': 1714, 'nhân_loại': 1715, 'fe_hóa_trị': 1716, 'byte': 1717, 'bit': 1718, 'ý_thức': 1719, 'răng': 1720, 'ngã': 1721, 'cầu_thang': 1722, 'gym': 1723, 'siêu': 1724, 'suv': 1725, 'tấu': 1726, 'tóc': 1727, 'cắt': 1728, 'khôngtại': 1729, 'đómôn': 1730, 'thứ_bảy': 1731, 'bể_khổ': 1732, 'thiên_tai': 1733, 'bệnh_dịch': 1734, 'chẳng_hạn': 1735, 'java': 1736, 'python': 1737, 'c': 1738, 'định_nghĩa_là': 1739, 'giống': 1740, 'hi_vọng': 1741, 'giải_đấu': 1742, 'bác_sĩ': 1743, 'trinh_thám': 1744, 'điển_hình': 1745, 'sherlock': 1746, 'homes': 1747, 'hóa': 1748, 'phương_pháp': 1749, 'tiếp_thu': 1750, 'một_cách': 1751, 'quỳ': 1752, 'tím': 1753, 'bazo': 1754, 'tác_dụng': 1755, 'oxit': 1756, 'thẳng': 1757, 'giá_trị': 1758, 'thặng_dư': 1759, 'chức_năng': 1760, 'soạn': 1761, 'mậy': 1762, 'cuối_cùng': 1763, 'sữa_chua': 1764, 'trân_châu': 1765, 'đâu_đâu': 1766, 'hàng_xóm': 1767, 'lôi': 1768, 'apple': 1769, 'tính_năng': 1770, 'đổ_xô': 1771, 'series': 1772, 'avengers': 1773, 'nêu': 1774, 'đoạn': 1775, 'văn': 1776, 'nghĩ_suy': 1777, 'không_thể': 1778, 'ước_tính': 1779, 'chơi_đùa': 1780, 'du': 1781, 'truyện': 1782, 'kiều': 1783, 'tranh_đấu': 1784, 'khốc_liệt': 1785, 'ác_là': 1786, 'cổ': 1787, 'khắp': 1788, 'mắc_kẹt': 1789, 'phía': 1790, 'pcx': 1791, 'xăng': 1792, 'đầy': 1793, 'cạnh_huyền': 1794, 'bacl2': 1795, 'nhận_biết': 1796, 'hân_hạnh': 1797, 'đượcliệu': 1798, 'vắng_mặt': 1799, 'bù': 1800, '“': 1801, '”': 1802, 'bặm': 1803, 'góc_vuông': 1804, 'lần_lượt': 1805, 'nhiệt_lượng': 1806, 'caoh2': 1807, 'nóng_chảy': 1808, 'thủy': 1809, 'thỉnh_thoảng': 1810, '18': 1811, '200': 1812, 'nhảy': 1813, 'ngại_ngùng': 1814, 'thả': 1815, 'thính': 1816, 'võ': 1817, 'đặng': 1818, 'thih1': 1819, 'từng_trải': 1820, 'kiểm_soát': 1821, 'người_yêu_thế': 1822, 'thất_nghiệp': 1823, 'ăn_chơi': 1824, 'happy': 1825, 'sad': 1826, 'money': 1827, 'karaoke': 1828, 'fan': 1829, 'cùa': 1830, 'trêu_ghẹo': 1831, 'tán_gẫu': 1832, 'tổng_thống': 1833, 'mĩ': 1834, 'chủ_tịch': 1835, 'robo': 1836, 'code': 1837, 'trùng': 1838, 'đánh_giá': 1839, 'nút': 1840, 'susan': 1841, '0175': 1842, 'mệt_mỏi': 1843, 'tâm_trí': 1844, 'lê': 1845, 'zăn': 1846, 'hotgirl': 1847, 'nhựt': 1848, 'ông_già': 1849, 'ngọn': 1850, 'đỉnh': 1851, 'say': 1852, 'hi_em': 1853, 'đứng': 1854, 'ăn_cắp': 1855, 'cô_giáo': 1856, 'khán_giả': 1857, 'vỗ_tay': 1858, 'cấm': 1859, 'pha': 1860, 'quá_vậy': 1861, 'lá': 1862, 'đấm': 1863, 'va': 1864, 'đòi': 1865, 'bặc': 1866, 'nhạt': 1867, 'phàm_vậy': 1868, 'thiên_thần': 1869, 'ác': 1870, 'quỷ': 1871, 'dòm': 1872, 'phân': 1873, 'da': 1874, 'café': 1875, '50': 1876, 'giật': 1877, 'dách': 1878, 'nhảy_cầu': 1879, '2tr': 1880, 'hỗm': 1881, 'chích': 1882, 'ngừa': 1883, 'dại': 1884, 'non': 1885, 'cờ_bạc': 1886, 'ế_vậy': 1887, 'chế_biến': 1888, 'ngon_lành': 1889, 'vui_tươi': 1890, 'lụt': 1891, 'cha_mẹ': 1892, 'lợi': 1893, 'dù_sao': 1894, 'cố': 1895, 'haizz': 1896, 'mày_vậy': 1897, 'vui_thế': 1898, 'lập_nghiệp': 1899, 'km': 1900, 'vĩnh_long': 1901, 'quan': 1902, 'di_tích': 1903, 'tp': 1904, 'củ': 1905, 'bậc': 1906, 'thiên_nhiên': 1907, 'ngay': 1908, 'đặt_chân': 1909, 'chân': 1910, 'mà_lại': 1911, 'xứ': 1912, 'dừa': 1913, 'nghe_đâu': 1914, 'thành_thị': 1915, 'nông_thôn': 1916, 'đắc': 1917, 'biệt': 1918, 'rời': 1919, 'đặc_trưng': 1920, 'quê_vậy': 1921, 'yêu_thương': 1922, 'quý_mến': 1923, 'bao_gồm': 1924, 'sum_họp': 1925, 'dữ_vậy': 1926, 'gáitrai': 1927, 'lâu_đời': 1928, 'con_nuôi': 1929, 'con_cháu': 1930, 'phạm': 1931, 'nhật': 1932, 'vượng': 1933, 'gia_đình_chỉ': 1934, 'chị_gái': 1935, 'giàu_sang': 1936, 'phú_quý': 1937, 'chúng_tớ': 1938, 'vỹ': 1939, 'hỉ': 1940, 'recommend': 1941, 'lun': 1942, 'khô': 1943, 'tàm_tạm': 1944, 'diamond': 1945, 'deal': 1946, 'gojek': 1947, 'caphe': 1948, 'hut': 1949, 'domino': 1950, 'hàn': 1951, 'slot': 1952, 'hoàng_yến': 1953, 'sáng_mai': 1954, 'ăn_mừng': 1955, 'nguyễn_thị': 1956, 'thập': 1957, 'tráng_miệng': 1958, 'trân': 1959, 'nat': 1960, 'giới_hạn': 1961, 'miễn_phí': 1962, 'beefsteak': 1963, '6h': 1964, 'nón': 1965, 'dị_ứng': 1966, 'hợp_lí': 1967, 'trờ': 1968, 'hihi_vậy': 1969, '7g': 1970, 'muộn': 1971, 'cỗ': 1972, 'xyz': 1973, 'hiền': 1974, 'app': 1975, 'bảo_lưu': 1976, 'kì_vọng': 1977, 'quá_trình': 1978, 'saovậy': 1979, 'vậybày': 1980, 'kiểm_tra': 1981, 'ngu_thế': 1982, 'thắc': 1983, 'cách_hiểu': 1984, 'trẻ': 1985, 'lý_do': 1986, 'set': 1987, 'nguyện_vọng': 1988, 'toán': 1989, 'toà': 1990, 'phân_chia': 1991, 'tâp': 1992, 'cấp_bậc': 1993, 'hạ_tầng': 1994, 'tự_tin': 1995, 'hào_hứng': 1996, 'ý_định': 1997, 'rau_dền': 1998, 'khuynh_hướng': 1999, 'nhạc_sĩ': 2000, 'tác_giả': 2001, 'brand': 2002, 'nhạy_cảm': 2003, 'hơnnot': 2004, 'both': 2005, 'thể_hiện': 2006, 'mạo_hiểm': 2007, 'vận_động_viên': 2008, 'producer': 2009, 'phô_mai': 2010, 'live': 2011, 'thể': 2012, 'huy_chương': 2013, 'vật': 2014, 'chính_đáng': 2015, 'duy_trì': 2016, 'bổ_ích': 2017, 'anime': 2018, 'quốc_ca': 2019, 'chống': 2020, 'thủ_đô': 2021, 'quảng': 2022, 'mệt_nghỉ': 2023, 'hiếu_khách': 2024, 'giáp': 2025, 'đặc_sắc': 2026, 'lòng_vòng': 2027, 'nghệ_an': 2028, 'tụ': 2029, 'tập_hợp': 2030, 'nởi': 2031, 'tự_hào': 2032, 'du_học_sinh': 2033, 'dân_số': 2034, 'khắt': 2035, 'nghiệt': 2036, 'bển': 2037, 'người_thân_sinh_sống': 2038, 'vương_vậy': 2039, 'quần_đảo': 2040, 'quê_sao': 2041, 'quảng_ngãi': 2042, 'xi_măng': 2043, 'hoàng_sa': 2044, 'sa': 2045, 'tây_ninh': 2046, 'anh_hùng': 2047, 'cống_hiến': 2048, 'đâumình': 2049, 'địnhmình': 2050, 'nhơn': 2051, 'umhy': 2052, 'nhơnmình': 2053, 'đẹpkhông': 2054, 'tháp': 2055, 'ummmình': 2056, 'bỏ': 2057, 'lỡ': 2058, 'tháphy': 2059, 'dat': 2060, 'nuoc': 2061, 'tro': 2062, 've_noi': 2063, 'viet': 2064, 've_khong': 2065, 'hấp_dẫn': 2066, 'kinh_thành': 2067, 'đi_nhe': 2068, 'đồng_ruộng': 2069, 'phan_thiết': 2070, 'answer': 2071, 'me': 2072, 'your': 2073, 'country': 2074, 'nam_vô': 2075, 'địchviệt': 2076, 'nam_vô_địch': 2077, 'di_sản': 2078, 'văn_hóa': 2079, 'thức': 2080, 'khuya': 2081, 'tiền_tiêu': 2082, 'cuôi': 2083, 'năm_ngoái': 2084, 'trò': 2085, 'vô_lại': 2086, 'làn': 2087, 'trang_trí': 2088, 'hội_chợ': 2089, 'xuân': 2090, '2011': 2091, 'bô': 2092, 'kỉ_niệm': 2093, '30415': 2094, 'giải_phóng': 2095, 'tếtmình': 2096, 'ummmđợt': 2097, 'khai_báo': 2098, 'y_tế': 2099, 'ummmmbạn': 2100, 'vậy_vậy': 2101, '28': 2102, 'phụ': 2103, 'cúng': 2104, 'pháo_bông': 2105, 'nôn_nao': 2106, 'xô': 2107, 'ha_vậy': 2108, 'group': 2109, 'hên': 2110, 'xui': 2111, 'thông_báo': 2112, 'ngày_vậy': 2113, 'tết_vậy': 2114, 'nhà_ăn': 2115, 'tranh_thủ': 2116, 'chiến_thắng': 2117, 'bánh_chưng': 2118, 'pháo_hoa': 2119, '83': 2120, 'âm_lịch': 2121, 'dương_lịch': 2122, 'iq': 2123, 'chỉ_số': 2124, 'búp_bê': 2125, '12010': 2126, 'nằm_mơ': 2127, 'phá_hoại': 2128, 'trí_tuệ': 2129, 'nhân_tạo': 2130, 'nhân': 2131, 'lăm': 2132, 'nhăm': 2133, 'định_nghĩa': 2134, 'mãi_mãi': 2135, 'âm_u_gió': 2136, 'mù': 2137, 'tay_trái': 2138, 'cảm_súc': 2139, 'it': 2140, 'kiến_tạo': 2141, 'vừng': 2142, 'tác_phẩm': 2143, 'tám': 2144, 'hậu': 2145, 'cờ_vua': 2146, 'bánh_hỏi': 2147, 'gấp': 2148, 'an_vậy': 2149, 'đua': 2150, 'ngựa': 2151, 'bởi': 2152, '12h': 2153, 'tối_trời': 2154, '72h': 2155, 'con_số': 2156, 'bốn': 2157, 'đáp_án': 2158, 'lau': 2159, 'chén': 2160, 'karen': 2161, 'starbucks': 2162, 'phúc': 2163, 'rau': 2164, 'cải_thiện': 2165, 'tình_cảm_xúc': 2166, 'nguyên_liệu': 2167, 'cánh_gà': 2168, 'chiên': 2169, 'nước_mắm': 2170, 'hạng': 2171, 'xu_hướng': 2172, '121123': 2173, '321': 2174, 'đối_xứng': 2175, 'thuyết': 2176, 'sóng': 2177, 'nala': 2178, 'xinh_đẹp': 2179, 'xác_nhận': 2180, 'câu_đố': 2181, 'chế_tạo': 2182, 'thơ': 2183, 'ý_tưởng': 2184, 'đồ_án': 2185, 'sức_khỏe': 2186, 'phát_triển': 2187, 'thống_trị': 2188, 'loài_người': 2189, 'nhây_vậy': 2190, 'map': 2191, 'làm_giàu': 2192, 'vé_số': 2193, 'hack': 2194, 'order': 2195, 'duy_vật': 2196, 'duy_tâm': 2197, 'cánh_cụt': 2198, 'bay': 2199, 'giao_thông': 2200, 'số_nguyên_tố': 2201, 'quay': 2202, 'thết': 2203, 'bán_chạy': 2204, 'treding': 2205, 'youtube_vậy': 2206, 'tuổi_vậy': 2207, 'tán': 2208, 'ôn': 2209, 'mèo': 2210, 'đô_la': 2211, 'nam_vậy': 2212, 'vận': 2213, 'đề': 2214, 'ko': 2215, 'transformer': 2216, 'tú': 2217, 'titanic': 2218, 'bhd': 2219, 'chính_xác': 2220, 'diễn_biến': 2221, 'trò_chơi': 2222, 'trận': 2223, 'giao_hữu': 2224, 'vcs': 2225, 'chiến': 2226, 'cháy': 2227, '2020': 2228, 'biết_chừng': 2229, 'kingsman': 2230, 'nhà_hát': 2231, 'ma': 2232, 'đại': 2233, 'center': 2234, 'quy_định': 2235, 'concert': 2236, 'sự_kiện': 2237, 'thsich': 2238, 'xe_khách': 2239, 'lễ_hội': 2240, 'light': 2241, 'novel': 2242, 'liên_minh': 2243, 'world': 2244, 'of': 2245, 'warships': 2246, 'cyberpunk2077': 2247, 'kerbal': 2248, 'space': 2249, 'program': 2250, 'phasmophobia': 2251, 'đề_xuất': 2252, 'chiếu_phim': 2253, 'star': 2254, 'đảm_nhiệm': 2255, 'phimn': 2256, 'nước_ngọt': 2257, 'j': 2258, 'công_chiếu_phim': 2259, 'kình': 2260, 'vn': 2261, 'thailan': 2262, 'súng': 2263, 'di_choi': 2264, 'gi': 2265, '8h': 2266, 'vivo': 2267, 'bóng_chuyền': 2268, 'lướt': 2269, 'web': 2270, 'godzilla': 2271, 'vs': 2272, 'kong': 2273, 'khung': 2274, '6g': 2275, 'cresent': 2276, 'mall': 2277, 'nha_cậu': 2278, 'tội_phạm': 2279, 'viễn_tưởng': 2280, 'giải_toả': 2281, 'khúc': 2282, 'nà': 2283, 'endgame': 2284, 'infinity': 2285, 'cặp': 2286, 'đồng_ý': 2287, 'giải_quyết': 2288, 'ônr': 2289, 'thầy_giáo': 2290, 'cô_đồng_nghiệp': 2291, 'nhờ': 2292, 'ganh_đua': 2293, 'phúc_lợi': 2294, 'công_việc_làm': 2295, 'gìnghề_nghiệp': 2296, 'quản_lý': 2297, 'nhân_sự': 2298, 'đa_cấp': 2299, 'tỷ': 2300, 'xảy': 2301, 'lo': 2302, 'nhàm_chán': 2303, 'đãi_ngộ': 2304, 'senior': 2305, 'tình_huống': 2306, 'xử': 2307, 'hiện_đại': 2308, 'thích_nghi': 2309, 'hòa_nhập': 2310, 'chính_thức': 2311, 'khồng': 2312, 'thuận_lợi': 2313, 'nàoôn': 2314, 'rầy': 2315, 'team': 2316, 'quản_lí': 2317, 'gò': 2318, 'chức': 2319, 'hòa_thuận': 2320, 'phần': 2321, 'sv': 2322, 'mắng': 2323, 'hoàn_thành': 2324, 'hà_giang': 2325, 'lũ': 2326, 'ẩm_thực': 2327, 'toàn_cảnh': 2328, 'đoàn': 2329, 'sông_nước': 2330, 'áo_ấm': 2331, 'vui_nha': 2332, 'khách_sạn': 2333, 'quà_cáp': 2334, 'giáng_sinh': 2335, 'đây_đó': 2336, 'bây': 2337, '5h': 2338, 'phiền_lòng': 2339, 'đc': 2340, 'phương': 2341, 'lạtbạn': 2342, 'mộng_mơ': 2343, 'đêmbạn': 2344, 'gậy': 2345, 'sẵm': 2346, 'vật_dụng': 2347, 'nhânbạn': 2348, 'có_lẽ': 2349, 'groub': 2350, 'fb': 2351, 'kiếnbạn': 2352, 'cắm': 2353, 'trại': 2354, 'biet': 2355, 'di_la': 2356, 'toi': 2357, 'nghi': 2358, 'hien': 2359, 'tai': 2360, 'lịch_trình': 2361, 'nha_trang': 2362, 'thái': 2363, 'nghỉ_hè': 2364, 'campuchia': 2365, 'cầu_duyên': 2366, 'kèm': 2367, 'tai_nghe': 2368, 'thịnh_hành': 2369, 'm6': 2370, '50kg': 2371, 'chàng': 2372, 'chớ': 2373, 'huawei': 2374, 'tgdđ': 2375, '99k': 2376, 'gòm': 2377, 'hoodie': 2378, 'ý_kiến': 2379, 'chip': 2380, 'm1': 2381, 'xinh_xắn': 2382, 'voucher': 2383, 'giảm': 2384, 'khuyến_mãi_vậy': 2385, '1m7': 2386, '63': 2387, 'ngoại_thành': 2388, 'ip12': 2389, 'pro': 2390, 'max': 2391, '34': 2392, 'liên_tục': 2393, 'ip': 2394, 'gb': 2395, 'nhanh': 2396, 'link': 2397, 'vớimáy': 2398, 'limited': 2399, 'edition': 2400, 'ví': 2401, 'momo': 2402, 'tiền_mặt': 2403, 'xuất_xứ': 2404, 'hang': 2405, 'ghế': 2406, 'dây': 2407, 'thị_trường': 2408, 'sneaker': 2409, 'thích_hợp': 2410, 'superstar': 2411, 'denim': 2412, 'gaming': 2413, 'airpod': 2414, 'dép': 2415, 'cơ': 2416, 'quần_âu': 2417, 'sẫm': 2418, 'ừng': 2419, 'thương_hiệu': 2420, 'đồ_dùng': 2421, 'đo': 2422, 'mắt_kính': 2423, 'áo_khoác': 2424, 'báo_giá': 2425, '99': 2426, 'copy': 2427, 'tshirt': 2428, 'jordan1': 2429, 'cáp': 2430, 'chuyển_đổi': 2431, 'air': 2432, '2018': 2433, 'tgb': 2434, 'kho': 2435, 'lap': 2436, 'a512fa': 2437, 'ej2005t': 2438, 'hợp_ý': 2439, 'địa': 2440, 'strix': 2441, 'g531': 2442, 'core': 2443, 'i7': 2444, '10300h': 2445, '1m76': 2446, '55kg': 2447, 'palm': 2448, 'tree': 2449, 'shirt': 2450, 'thủy_em': 2451, 'vintage': 2452, 'bất_kì': 2453, 'cở': 2454, 'xxx': 2455, 'eyeliner': 2456, 'dạng': 2457, '1k': 2458, 'ưng_ý': 2459, 'giả': 2460, 'giáo_dục': 2461, 'thể_chất': 2462, 'bắt_buộc': 2463, 'f': 2464, 'tv': 2465, 'model': 2466, 'ua55tu7000': 2467, 'thiếu': 2468, 'bổ': 2469, 'rẽ': 2470, 'chính_sách': 2471, 'cơ_bản': 2472, 'm2': 2473, 'cây_xanh': 2474, 'khu_phố': 2475, 'đường_xá': 2476, '1m74': 2477, '67kg': 2478, '113': 2479, 'free': 2480, 'muôn': 2481, 'lee': 2482, 'j7': 2483, 'trả_góp': 2484, 'thơi': 2485, 'ổ': 2486, 'rắn': 2487, 'android': 2488, 'ios': 2489, 'ad': 2490, 'giao_dịch': 2491, 'nguồn': 2492, 'mã': 2493, 'dung_lượng': 2494, 'xiaomi': 2495, 'hàng_hiệu': 2496, 'thay': 2497, 'cơhihi': 2498, 'phiên_bản': 2499, 'promax': 2500, 'ngân_hàng': 2501, 'chuyển_thế': 2502, 'yame': 2503, 'giầy': 2504, 'đẹp_thế': 2505, 'túi_xách': 2506, 'hạnh': 2507, 'tâycậu': 2508, 'săn': 2509, 'black': 2510, 'friday': 2511, 'rg': 2512, 'e': 2513, 'dán': 2514, 'cường_lực': 2515, 'phiếu': 2516, 'ốp': 2517, 'lưng': 2518, 'cục': 2519, 'dự_phòng': 2520, 'tổng_hóa_đơn': 2521, 'on': 2522, 'chuột': 2523, 'vừa_phải': 2524, 'ởi': 2525, 'di_động': 2526, 'hiệu_năng': 2527, 'camera': 2528, 'selfphie': 2529, 'tiên': 2530, 'tiền_vậy': 2531, 'hợp_nhất': 2532, 'rách': 2533, 'tốc_độ': 2534, 'cách_tân': 2535, 'bi_quan': 2536, 'học_thức': 2537, 'bất_ngờ': 2538, 'một_chút': 2539, 'ngọc': 2540, 'trinh': 2541, 'hôn': 2542, 'lãng_mạn': 2543, 'phản_ứng': 2544, 'phát_hiện': 2545, 'ngoại_tình': 2546, 'single': 2547, 'date': 2548, 'mập_mờ': 2549, 'kiên': 2550, 'xứng_đáng': 2551, 'trãi': 2552, 'hâm_nóng': 2553, 'hình_tượng': 2554, 'mô_tả': 2555, 'quản_lý_tài_chính': 2556, 'quan_trọng': 2557, 'huề': 2558, 'rước': 2559, 'mìn': 2560, 'để_mắt': 2561, 'cân_nhắc': 2562, 'đòi_hỏi': 2563, 'già': 2564, 'goodboy': 2565, 'công_khai': 2566, 'khuyên': 2567, 'trể_vậy': 2568, 'hẵn': 2569, 'em_em': 2570, 'phước': 2571, 'tiến_triển': 2572, 'thế_vậy': 2573, 'ra_mắt': 2574, 'nổi_nóng': 2575, 'giận': 2576, 'ơitớ': 2577, 'theo_dõi': 2578, 'nũa': 2579, 'áy': 2580, 'tỏ_tình_vậy': 2581, 'cuới': 2582, 'fa': 2583, 'hoài_vậy_ta': 2584, 'dược': 2585, 'thật_ra': 2586}\n"
          ],
          "name": "stdout"
        }
      ]
    },
    {
      "cell_type": "markdown",
      "metadata": {
        "id": "IXj_1EHojA9u"
      },
      "source": [
        "### 2.6.2 Answer"
      ],
      "id": "IXj_1EHojA9u"
    },
    {
      "cell_type": "code",
      "metadata": {
        "colab": {
          "base_uri": "https://localhost:8080/"
        },
        "id": "ZNS02U7ujC_4",
        "outputId": "e285e69a-e9e4-46da-aaeb-9fc1cc106928"
      },
      "source": [
        "answer_tokenizer = Tokenizer(num_words=VOCAB_SIZE, filters= '')\n",
        "\n",
        "answer_tokenizer.fit_on_texts(input_answers + output_answers)\n",
        "\n",
        "input_answer_seq = answer_tokenizer.texts_to_sequences(input_answers) # one-hot answer samples\n",
        "output_answer_seq = answer_tokenizer.texts_to_sequences(output_answers) # one-hot output samples\n",
        "\n",
        "word2index_output_answer = answer_tokenizer.word_index\n",
        "print(\"Số lượng từ trong câu trả lời: {}\".format(len(word2index_output_answer)))\n",
        "\n",
        "NUM_WORDS_ANSWER = len(word2index_output_answer) + 1\n",
        "MAX_ANSWER_LEN = max(len(sent) for sent in output_answer_seq)\n",
        "print(\"Số từ của câu trả lời dài nhất: {}\".format(MAX_ANSWER_LEN))"
      ],
      "id": "ZNS02U7ujC_4",
      "execution_count": null,
      "outputs": [
        {
          "output_type": "stream",
          "text": [
            "Số lượng từ trong câu trả lời: 4208\n",
            "Số từ của câu trả lời dài nhất: 112\n"
          ],
          "name": "stdout"
        }
      ]
    },
    {
      "cell_type": "code",
      "metadata": {
        "colab": {
          "base_uri": "https://localhost:8080/"
        },
        "id": "HfuSU0UyjOsW",
        "outputId": "714c56e3-95cc-4e9e-c9b6-2c55bd6e0682"
      },
      "source": [
        "print(\"Số lượng câu trả lời: {}\".format(len(output_answer_seq)))\n",
        "\n",
        "print(output_answers[0])\n",
        "print(output_answer_seq[0])"
      ],
      "id": "HfuSU0UyjOsW",
      "execution_count": null,
      "outputs": [
        {
          "output_type": "stream",
          "text": [
            "Số lượng câu trả lời: 5769\n",
            "quá sạch là đằng khác <eos>\n",
            "[165, 1194, 5, 872, 194, 2]\n"
          ],
          "name": "stdout"
        }
      ]
    },
    {
      "cell_type": "code",
      "metadata": {
        "colab": {
          "base_uri": "https://localhost:8080/"
        },
        "id": "K2G3qQppjUmY",
        "outputId": "66b19ee3-8a24-4773-ce51-b9a5666c777a"
      },
      "source": [
        "print(word2index_output_answer)"
      ],
      "id": "K2G3qQppjUmY",
      "execution_count": null,
      "outputs": [
        {
          "output_type": "stream",
          "text": [
            "{'<sos>': 1, '<eos>': 2, 'mình': 3, 'có': 4, 'là': 5, 'bạn': 6, 'đi': 7, 'ở': 8, 'không': 9, 'được': 10, 'rồi': 11, 'và': 12, 'tớ': 13, 'cũng': 14, 'thích': 15, 'đang': 16, 'thì': 17, 'với': 18, 'của': 19, 'học': 20, 'rất': 21, 'làm': 22, 'trường': 23, 'đó': 24, 'lắm': 25, 'nhà': 26, 'người': 27, 'chơi': 28, 'năm': 29, 'chưa': 30, 'nhiều': 31, 'hay': 32, 'nhé': 33, 'nha': 34, 'cho': 35, 'quê': 36, 'em': 37, 'tao': 38, 'sẽ': 39, 'còn': 40, 'ăn': 41, 'tôi': 42, 'về': 43, 'này': 44, 'để': 45, 'gì': 46, 'mà': 47, 'thôi': 48, 'xem': 49, 'tên': 50, 'các': 51, 'biết': 52, 'một': 53, 'chứ': 54, 'nên': 55, 'nhưng': 56, 'phim': 57, 'cậu': 58, 'vào': 59, '2': 60, '1': 61, 'mua': 62, 'nữa': 63, 'thường': 64, 'á': 65, 'ok': 66, 'có_thể': 67, 'trong': 68, 'quận': 69, 'ạ': 70, '3': 71, 'người_yêu': 72, 'luôn': 73, 'anh': 74, 'đến': 75, 'hiện_tại': 76, 'phải': 77, 'như': 78, 'tui': 79, 'ra': 80, 'nào': 81, 'gia_đình': 82, 'khi': 83, 'muốn': 84, 'những': 85, 'tuổi': 86, 'mới': 87, 'ngày': 88, 'đây': 89, 'à': 90, 'nhất': 91, 'đại_học': 92, 'sinh': 93, 'tại': 94, 'nhau': 95, 'nghĩ': 96, 'chỉ': 97, 'mày': 98, 'cao': 99, 'bên': 100, 'sinh_viên': 101, 'thấy': 102, 'gần': 103, 'khá': 104, 'vì': 105, 'hơn': 106, 'đức': 107, 'nếu': 108, 'ấy': 109, 'theo': 110, 'đâu': 111, 'tôn': 112, 'thắng': 113, 'chắc': 114, 'tháng': 115, 'vậy': 116, 'tết': 117, 'game': 118, '4': 119, 'chị': 120, 'minh': 121, '7': 122, 'trên': 123, 'từ': 124, 'đã': 125, 'hoặc': 126, 'sao': 127, 'khoảng': 128, 'tốt': 129, 'ơi': 130, 'nó': 131, 'con': 132, 'cả': 133, 'cái': 134, 'tiền': 135, 'triệu': 136, 'ngành': 137, 'đúng': 138, 'nghe': 139, 'sống': 140, 'hỏi': 141, 'thông_tin': 142, 'lên': 143, '5': 144, 'hồ': 145, 'cùng': 146, 'thành_phố': 147, 'lúc': 148, 'cần': 149, 'giờ': 150, 'du_lịch': 151, 'việc': 152, 'lại': 153, 'chỗ': 154, 'công_nghệ': 155, 'phòng': 156, 'dạ': 157, 'bạn_bè': 158, 'tầm': 159, 'vui': 160, 'ông': 161, 'chung': 162, 'hết': 163, 'nay': 164, 'quá': 165, 'mỗi': 166, 'tuần': 167, 'đẹp': 168, 'hàng': 169, 'ba': 170, '20': 171, 'thêm': 172, 'nói': 173, 'nè': 174, 'mẹ': 175, 'shop': 176, 'nguyễn': 177, 'đấy': 178, 'nhạc': 179, 'vẫn': 180, 'nơi': 181, 'bằng': 182, 'qua': 183, 'chí': 184, 'môn': 185, 'thứ': 186, 'ổn': 187, 'mấy': 188, 'ai': 189, 'coi': 190, 'quán': 191, 'đường': 192, 'đọc': 193, 'khác': 194, 'nam': 195, 'mọi': 196, 'crush': 197, 'tới': 198, 'yêu': 199, 'tính': 200, 'rảnh': 201, 'máy_tính': 202, 'giá': 203, 'thử': 204, 'món': 205, 'áo': 206, 'nước': 207, 'bị': 208, 'xe': 209, 'ít': 210, 'cô': 211, 'nhớ': 212, 'đủ': 213, 'đều': 214, 'tất_nhiên': 215, '6': 216, 'tùy': 217, 'do': 218, 'cách': 219, 'vài': 220, 'khoa': 221, 'điện_thoại': 222, 'hơi': 223, 'thể_thao': 224, 'làm_việc': 225, 'hai': 226, 'đồ': 227, 'nặng': 228, 'máy': 229, '10': 230, 'lần': 231, 'sách': 232, 'hiện': 233, 'trước': 234, 'sau': 235, 'loại': 236, 'công_việc': 237, 'ngon': 238, 'họ': 239, 'nghỉ': 240, 'hùng': 241, 'công_ty': 242, 'ngủ': 243, 'thuê': 244, 'số': 245, 'chính': 246, 'bộ': 247, 'lớn': 248, 'bình_thường': 249, 'lan': 250, 'trọ': 251, 'lương': 252, 'thời_gian': 253, 'chi': 254, 'ngoài': 255, 'lớp': 256, 'tìm': 257, 'dịp': 258, 'mẫu': 259, 'tụi': 260, 'sài_gòn': 261, 'gặp': 262, 'mặc': 263, 'khoa_học': 264, 'nhỏ': 265, 'cuối': 266, '21': 267, 'gái': 268, '12': 269, 'ừ': 270, 'bán': 271, 'mai': 272, 'rãnh': 273, 'size': 274, 'chọn': 275, 'biển': 276, 'định': 277, 'rủ': 278, 'đà_lạt': 279, 'tiếng': 280, 'câu': 281, 'vừa': 282, 'lâu': 283, '22': 284, '2000': 285, 'thân': 286, 'trả_lời': 287, 'dịch': 288, 'bơi': 289, 'chương_trình': 290, 'bình': 291, 'xong': 292, 'chào': 293, 'đứa': 294, 'vũng_tàu': 295, 'tối': 296, 'xa': 297, 'từng': 298, 'nổi_tiếng': 299, 'hãng': 300, 'đá': 301, '2001': 302, 'quen': 303, 'cơm': 304, 'đặc_sản': 305, 'thuộc': 306, 'thế': 307, 'văn': 308, 'thật': 309, 'cảm_thấy': 310, 'người_ta': 311, 'tòa': 312, 'dạo': 313, 'gồm': 314, 'thế_giới': 315, 'bản_thân': 316, 'trung': 317, 'độc_thân': 318, 'dòng': 319, 'đôi': 320, 'thể_loại': 321, 'lạt': 322, 'học_phí': 323, 'sự': 324, 'thư_viện': 325, 'dễ': 326, 'dễ_thương': 327, 'uống': 328, 'tdtu': 329, 'điểm': 330, 'việt_nam': 331, 'sử_dụng': 332, 'chúng_ta': 333, 'giỏi': 334, '11': 335, 'bố': 336, 'cgv': 337, 'bọn': 338, 'đà': 339, 'tin': 340, 'chất_lượng': 341, 'đầu': 342, 'khó': 343, 'thành': 344, 'nghề': 345, 'đặc_biệt': 346, 'nhóm': 347, 'điện': 348, 'tân': 349, 'màu': 350, 'sợ': 351, 'bận': 352, 'buồn': 353, 'kiếm': 354, 'thoải_mái': 355, 'ngồi': 356, 'nói_chuyện': 357, 'gửi': 358, 'lễ': 359, 'cảm_ơn': 360, 'long': 361, 'phạm': 362, 'xài': 363, 'okay': 364, 'em_gái': 365, 'an': 366, 'tphcm': 367, 'đêm': 368, 'thỉnh_thoảng': 369, 'chạy': 370, 'trời': 371, 'đồng': 372, 'xin_lỗi': 373, 'con_người': 374, 'laptop': 375, 'thầy': 376, 'google': 377, 'robot': 378, 'đầy_đủ': 379, 'dùng': 380, 'một_số': 381, 'căn': 382, 'khu': 383, 'xin': 384, '8': 385, 'cứ': 386, 'bao': 387, 'mét': 388, 'sở_thích': 389, 'hà_nội': 390, 'ừm': 391, 'thường_xuyên': 392, 'chán': 393, 'chắc_chắn': 394, 'rẻ': 395, 'hãy': 396, 'rộng': 397, 'cơ_sở': 398, 'phục_vụ': 399, 'giúp': 400, 'ăn_uống': 401, '50': 402, 'kỹ_thuật': 403, 'phần_mềm': 404, 'dưới': 405, 'trang': 406, 'sớm': 407, 'cửa_hàng': 408, 'sản_phẩm': 409, 'cà_phê': 410, 'học_sinh': 411, 'cấp': 412, 'nhà_tớ': 413, 't': 414, 'lê': 415, 'chuyện': 416, 'bao_giờ': 417, 'm': 418, 'hihi': 419, 'hôm_nay': 420, 'hành_động': 421, 'tình_yêu': 422, '15': 423, 'mất': 424, 'mùng': 425, 'kinh_doanh': 426, 'hệ': 427, 'mở': 428, 'tiêu_chuẩn': 429, 'đặt': 430, 'điều': 431, 'không_thể': 432, 'con_trai': 433, 'bảo': 434, 'đông': 435, 'tổng_cộng': 436, 'hiện_đại': 437, 'dành': 438, 'quần': 439, 'tây': 440, 'nhận': 441, 'asus': 442, 'nhân_viên': 443, 'quần_áo': 444, '1999': 445, 'mỹ': 446, 'quê_tớ': 447, '9': 448, 'một_mình': 449, 'shopee': 450, 'phút': 451, 'đương_nhiên': 452, 'đen': 453, 'ăn_ở': 454, 'hòa': 455, 'tình': 456, 'đồng_nghiệp': 457, 'bà': 458, 'giảm_giá': 459, 'nội': 460, 'việt': 461, 'gà': 462, 'hẹn': 463, 'hè': 464, 'kinh_dị': 465, 'tự': 466, 'chuyên_ngành': 467, 'hỗ_trợ': 468, 'càng': 469, 'lẩu': 470, 'rạp': 471, 'rõ': 472, 'dữ_liệu': 473, 'thế_nào': 474, 'nha_trang': 475, 'nha_em': 476, 'riêng': 477, 'mạng': 478, 'cầu_lông': 479, 'quan_tâm': 480, 'it': 481, 'điện_tử': 482, 'bóng': 483, 'fpt': 484, 'trung_tâm': 485, 'địa_chỉ': 486, 'bồ': 487, '30': 488, 'vâng': 489, 'giày': 490, 'hả': 491, 'ế': 492, 'tặng': 493, 'bánh': 494, 'kiểu': 495, 'lấy': 496, 'dĩ_nhiên': 497, 'tạo': 498, 'bố_mẹ': 499, 'đăng_ký': 500, 'tư_vấn': 501, 'gọi': 502, 'trắng': 503, 'nghìn': 504, 'nhu_cầu': 505, 'học_tập': 506, 'dài': 507, 'chiều': 508, 'trà': 509, 'nằm': 510, 'ngay': 511, 'hồi': 512, 'một_chút': 513, 'hiểu': 514, 'bò': 515, 'tp': 516, 'bàn': 517, 'giúp_đỡ': 518, 'giống': 519, 'đối_với': 520, 'vui_vẻ': 521, 'mua_sắm': 522, 'giá_cả': 523, 'thọ': 524, 'phường': 525, 'ngôn_ngữ': 526, 'tự_nhiên': 527, 'thị': 528, 'okie': 529, 'banh': 530, 'tiền_giang': 531, 'xe_máy': 532, 'mạnh': 533, 'đẹp_trai': 534, 'ă': 535, 'kể': 536, 'đợi': 537, 'chúng_mình': 538, 'mang': 539, 'hợp': 540, 'dẫn': 541, 'miền': 542, 'chợ': 543, 'nhà_bè': 544, 'ổng': 545, 'thanh_toán': 546, 'iphone': 547, 'đất_nước': 548, 'học_kì': 549, 'liên_quan': 550, 'ký_túc_xá': 551, 'đóng': 552, 'phí': 553, 'nữ': 554, 'vật_chất': 555, 'đạt': 556, 'quốc': 557, 'yêu_cầu': 558, 'kinh_tế': 559, 'thích_hợp': 560, 'cực': 561, 'sữa': 562, 'tham_quan': 563, 'vé': 564, 'khỏi': 565, 'ram': 566, 'đôi_khi': 567, 'phong': 568, 'vũ': 569, 'hcm': 570, 'the': 571, 'hữu': 572, 'sắp': 573, 'trần': 574, 'lập_trình_viên': 575, 'cải_thiện': 576, 'thông_minh': 577, '18': 578, 'nhìn': 579, 'dân': 580, '100': 581, 'cá_nhân': 582, 'chủ_yếu': 583, 'tập_trung': 584, 'ca': 585, 'đời': 586, 'ngày_mai': 587, 'tiệm': 588, 'hiền': 589, 'lo': 590, 'kia': 591, 'xanh': 592, 'nhanh': 593, 'nướng': 594, 'dự_định': 595, 'tí': 596, 'an_ninh': 597, 'hình_như': 598, 'đo': 599, 'ngu': 600, 'thăm': 601, 'lì_xì': 602, 'ship': 603, 'thiếu': 604, 'thân_thiện': 605, '40': 606, 'quốc_tế': 607, 'bóng_đá': 608, 'l': 609, 'trung_bình': 610, 'thiết_kế': 611, 'may': 612, 'mát': 613, 'có_giá': 614, 'yên_tĩnh': 615, 'trái_cây': 616, 'bây_giờ': 617, 'vùng': 618, 'tham_gia': 619, 'bóng_rổ': 620, 'a': 621, 'buổi': 622, 'quan_trọng': 623, 'hệ_thống': 624, 'bảo_hành': 625, 'chuyên_nghiệp': 626, 'cntt': 627, 'lao_động': 628, 'trãi': 629, 'bắc': 630, '19': 631, 'nước_ngoài': 632, 'hà': 633, 'nhật': 634, 'khỏe': 635, 'thành_viên': 636, 'mèo': 637, '1m7': 638, 'online': 639, 'phát': 640, 'lập_trình': 641, 'khùng': 642, 'anh_em': 643, 'truyện': 644, 'nhắn_tin': 645, 'tỏ_tình': 646, 'sáng': 647, 'bài_tập': 648, 'xinh': 649, 'đừng': 650, 'net': 651, 'oke': 652, 'công_viên': 653, 'huyền_thoại': 654, 'mối': 655, 'tình_cảm': 656, 'một_vài': 657, 'deadline': 658, 'rưỡi': 659, 'quan_điểm': 660, 'uy_tín': 661, 'núi': 662, 'chùa': 663, 'bé': 664, 'mệt': 665, 'siêu': 666, 'họ_hàng': 667, 'sang': 668, 'áp_lực': 669, 'sếp': 670, 'ktx': 671, 'văn_phòng': 672, 'trừ': 673, 'dạy': 674, 'tốt_nghiệp': 675, 'đào_tạo': 676, 'bao_gồm': 677, 'k': 678, 'tất_cả': 679, '23': 680, 'lotte': 681, 'không_đâu': 682, 'chủ': 683, 'haha': 684, 'hoạt_động': 685, 'cơ_hội': 686, 'sân': 687, 'vệ_sinh': 688, 'xét': 689, 'mức': 690, '80': 691, 'trở': 692, 'thi': 693, 'msi': 694, '16': 695, 'bài': 696, 'con_gái': 697, 'đam_mê': 698, 'cung_cấp': 699, 'coffee': 700, 'ngoài_ra': 701, 'điều_kiện': 702, 'tập': 703, 'cảnh': 704, 'trái_đất': 705, 'hiếu': 706, 'hạnh_phúc': 707, 'châu': 708, 'tiến': 709, 'cà_mau': 710, 'phan_thiết': 711, 'ghét': 712, 'tăng': 713, 'độ': 714, 'gia': 715, 'huhu': 716, 'giàu': 717, 'trưa': 718, 'phố': 719, 'nấu_ăn': 720, 'chả': 721, 'tương_lai': 722, 'quên': 723, 'xinh_đẹp': 724, 'liên_minh': 725, 'khiến': 726, 'đói': 727, 'nắng': 728, 'toàn': 729, 'tấm': 730, 'xinh_xắn': 731, 'điên': 732, 'code': 733, 'cũ': 734, 'chuyển': 735, 'nhà_trọ': 736, 'thằng': 737, 'khuyến_mãi': 738, 'nấu': 739, 'bả': 740, 'liên_hệ': 741, 'ngoại': 742, 'chớ': 743, 'tình_hình': 744, 'tim': 745, 'ma': 746, 'lịch': 747, 'giá_trị': 748, 'tương_đối': 749, 'no': 750, 'không_khí': 751, 'hấp_dẫn': 752, 'bún': 753, 'bến': 754, 'huế': 755, 'đổi': 756, 'samsung': 757, 'mặt_hàng': 758, 'cấu_hình': 759, 'dell': 760, 'ý': 761, 'đơn': 762, 'áo_dài': 763, 'sơ_mi': 764, 'phát_triển': 765, 'quản_trị': 766, 'chuyên_môn': 767, 'vấn_đề': 768, 'search': 769, 'đắt': 770, 'tổ_chức': 771, 'thấp': 772, 'thay': 773, 'lời': 774, 'tay': 775, 'bữa': 776, 'hợp_lý': 777, 'lận': 778, 'bay': 779, 'ốc': 780, 'lộc': 781, 'nhiệt_tình': 782, 'thẻ': 783, 'kẹt': 784, 'tdt': 785, 'giảng_viên': 786, 'truyền_thông': 787, 'giao': 788, 'facebook': 789, 'acer': 790, 'thun': 791, 'cuộc_sống': 792, 'thương': 793, 'rớt': 794, 'tài_chính': 795, 'ứng_dụng': 796, 'môi_trường': 797, 'sạch_sẽ': 798, 'phù_hợp': 799, 'mall': 800, 'clb': 801, 'hát': 802, 'mục': 803, 'marketing': 804, 'giữ': 805, 'đáng': 806, 'hình': 807, 'công': 808, 'cường': 809, 'quảng_nam': 810, 'ngọc': 811, 'web': 812, 'trở_thành': 813, 'ổn_định': 814, 'đh': 815, 'kế_hoạch': 816, 'quê_hương': 817, 'o': 818, 'ngàn': 819, 'thuốc': 820, 'nghèo': 821, 'quang': 822, 'cỡ': 823, 'tốn': 824, 'vân': 825, 'rap': 826, 'liền': 827, 'cảm_giác': 828, 'cafe': 829, 'ấm_áp': 830, 'hề': 831, 'cuốn': 832, 'có_lẽ': 833, 'giải_trí': 834, 'quan_hệ': 835, 'ngọt': 836, 'củ': 837, 'dịch_bệnh': 838, 'xuống': 839, 'vui_tính': 840, 'phần': 841, 'đoán': 842, 'km': 843, 'ghé': 844, 'ồ': 845, 'đoạn': 846, 'cầu': 847, 'tiện': 848, 'đà_nẵng': 849, 'tỉnh': 850, 'cún': 851, 'of': 852, 'sai': 853, 'ta': 854, 'đậu': 855, 'ông_bà': 856, 'thịt': 857, 'hải_sản': 858, 'chúc': 859, 'thèm': 860, 'nhà_hàng': 861, 'mùa': 862, 'tuyệt_vời': 863, 'vịnh': 864, 'vãi': 865, 'máy_bay': 866, 'tạm': 867, '14': 868, 'thuyết': 869, 'mặt_trời': 870, 'bí_mật': 871, 'đằng': 872, 'chuẩn': 873, 'quy_định': 874, 'vòng': 875, 'váy': 876, 'tỉnh_thành': 877, 'mart': 878, 'hôm': 879, 'yes': 880, 'như_vậy': 881, 'ngắm': 882, 'lạnh': 883, 'kí_túc_xá': 884, 'đồng_ý': 885, 'khách': 886, 'máy_lạnh': 887, 'tự_hào': 888, 'rèn_luyện': 889, 'tầng': 890, 'truyền_thống': 891, 'khóa': 892, 'trễ': 893, 'tận': 894, 'tìm_hiểu': 895, 'gym': 896, 'du_học': 897, 'to': 898, 'lầu': 899, 'di_động': 900, 'city': 901, 'house': 902, 'phúc': 903, 'tr': 904, 'thực_tập': 905, 'xấu': 906, 'chụp': 907, 'tròn': 908, 'thanh': 909, 'anh_chị_em': 910, 'dân_chơi': 911, 'ca_sĩ': 912, 'tùng': 913, 'huyền': 914, 'từ_chối': 915, 'kí': 916, 'duy': 917, 'sinh_sống': 918, 'đồng_nai': 919, 'nguyên': 920, 'lười': 921, 'lý': 922, 'kệ': 923, 'lâu_lâu': 924, 'trải': 925, 'có_học': 926, 'khong': 927, 'chết': 928, 'mặt': 929, 'chở': 930, 'cần_thiết': 931, 'mượn': 932, 'giao_tiếp': 933, 'phụ': 934, 'thật_sự': 935, 'nhá': 936, 'cuối_cùng': 937, 'vặt': 938, 'quà': 939, 'phượt': 940, 'sẻ': 941, 'phía': 942, 'rau': 943, 'giới_thiệu': 944, 'cua': 945, 'ngón': 946, 'thưởng': 947, 'xung_quanh': 948, 'khó_khăn': 949, 'chia': 950, 'khả_năng': 951, 'giữa': 952, 'quanh': 953, 'hông': 954, 'mắc': 955, 'khó_tính': 956, 'không_gian': 957, 'trống': 958, 'đổ': 959, 'ghép': 960, 'an_toàn': 961, 'tránh': 962, 'dọn': 963, 'khuya': 964, 'chung_cư': 965, '200k': 966, 'chịu': 967, 'báo': 968, 'ba_má': 969, 'đất': 970, 'long_an': 971, 'full': 972, 'xíu': 973, 'macbook': 974, 'thời_tiết': 975, 'cây': 976, 'tre': 977, 'dừa': 978, 'ví_dụ': 979, 'cơ': 980, 'tắm': 981, 'điều_hành': 982, 'ăn_đủ': 983, 'rán': 984, 'phở': 985, 'cố_gắng': 986, 'đánh': 987, 'hạ_long': 988, 'xe_khách': 989, 'toi': 990, 'tiếc': 991, 'pizza': 992, 'ngại': 993, 'marvel': 994, 'chi_nhánh': 995, 'khách_hàng': 996, 'sạc': 997, 'dự_phòng': 998, 'màn_hình': 999, 'nhập': 1000, 'sale': 1001, 'gaming': 1002, '8gb': 1003, 'đỡ': 1004, 'cây_xanh': 1005, 'đồng_phục': 1006, 'thu': 1007, 'nhà_nước': 1008, 'bất_kì': 1009, 'tín_chỉ': 1010, '132': 1011, 'tham_khảo': 1012, 'chất_liệu': 1013, 'rộng_rãi': 1014, 'chú': 1015, 'khám_phá': 1016, 'thống_kê': 1017, 'hút': 1018, 'ruộng': 1019, 'bắt': 1020, 'giảng_dạy': 1021, 'việc_làm': 1022, 'lĩnh_vực': 1023, 'tiện_nghi': 1024, 'c': 1025, 'd': 1026, 'f': 1027, 'để_ý': 1028, 'bảy': 1029, 'tuỳ': 1030, 'động': 1031, 'hội': 1032, 'nổi_bật': 1033, 'tỷ': 1034, 'thú_vị': 1035, 'toán': 1036, 'công_an': 1037, 'tiêu': 1038, 'mỹ_thuật': 1039, 'công_nghiệp': 1040, 'ngân_hàng': 1041, 'trang_bị': 1042, 'nghiệm': 1043, 'rác': 1044, 'uniqlo': 1045, 'chuỗi': 1046, 'gearvn': 1047, 'vivo': 1048, 'siêu_thị': 1049, 'tiện_lợi': 1050, 'cộng': 1051, 'đưa': 1052, 'giang': 1053, 'giáo_viên': 1054, 'tra': 1055, 'chịu_khó': 1056, 'ninh': 1057, 'hưng': 1058, '1m8': 1059, 'ton': 1060, 'ước_mơ': 1061, 'sau_này': 1062, 'thuận': 1063, 'đồng_tháp': 1064, 'đơn_giản': 1065, 'la': 1066, 'hiện_nay': 1067, 'sơn': 1068, 'cung': 1069, 'sức': 1070, 'rồng': 1071, 'ký': 1072, 'vé_số': 1073, '200': 1074, 'thư': 1075, '52': 1076, 'thụy': 1077, '70kg': 1078, 'hải': 1079, 'bot': 1080, '2020': 1081, 'mắm': 1082, 'gầy': 1083, 'tấn': 1084, 'mắt': 1085, 'hứng_thú': 1086, 'âm_nhạc': 1087, 'hmm': 1088, 'oh': 1089, '25': 1090, 'quảng_ngãi': 1091, 'ho': 1092, 'hoà_đồng': 1093, 'nhân': 1094, 'đem': 1095, 'hì': 1096, 'tự_tin': 1097, 'hẹn_hò': 1098, 'giải_tỏa': 1099, 'địa_điểm': 1100, 'hướng': 1101, 'bánh_tráng': 1102, 'lẫn': 1103, 'suy_nghĩ': 1104, 'cạnh': 1105, 'chờ': 1106, 'tươi': 1107, 'bỏ': 1108, 'chủ_động': 1109, 'gu': 1110, 'lẻ': 1111, '250k': 1112, 'lòng': 1113, 'ít_nhất': 1114, 'cảm_xúc': 1115, 'miễn_là': 1116, '13': 1117, 'cuộc': 1118, 'tại_sao': 1119, 'rùa': 1120, 'đếm': 1121, 'tuyệt': 1122, 'chill': 1123, 'nhậu': 1124, 'ko': 1125, 'rõ_ràng': 1126, 'chi_phí': 1127, 'khô': 1128, 'đi_lại': 1129, 'vui_chơi': 1130, 'bởi': 1131, 'cơ_bản': 1132, 'gò': 1133, 'nhân_loại': 1134, 'đau': 1135, 'khổ': 1136, 'viết': 1137, 'trận_đấu': 1138, 'mặc_dù': 1139, 'má': 1140, 'tiếp': 1141, 'quá_vậy': 1142, 'covid': 1143, 'thua': 1144, 'du_khách': 1145, 'mát_mẻ': 1146, 'tổ_quốc': 1147, 'sài': 1148, 'hủ_tiếu': 1149, 'gốc': 1150, 'vùng_đất': 1151, 'kèo': 1152, 'căng_thẳng': 1153, 'thảo': 1154, 'software': 1155, 'buôn_bán': 1156, 'cháu': 1157, 'ý_kiến': 1158, 'chuẩn_bị': 1159, 'sắp_xếp': 1160, 'ha': 1161, 'miễn': 1162, 'khoản': 1163, 'đón': 1164, 'nãy': 1165, 'nhất_là': 1166, 'hên': 1167, 'nope': 1168, 'da': 1169, 'vận_động': 1170, 'nhỉ': 1171, 'chiếc': 1172, 'hoạt_hình': 1173, 'nóng': 1174, 'kì': 1175, 'hộp': 1176, 'thơ': 1177, 'mã': 1178, 'áp_suất': 1179, 'sản_xuất': 1180, 'bhd': 1181, 'họp': 1182, 'noel': 1183, 'sapa': 1184, 'noi': 1185, 'điện_thoại_tớ': 1186, 'vải': 1187, 'xl': 1188, 'card': 1189, 'ssd': 1190, 'core': 1191, 'giận': 1192, 'ốm': 1193, 'sạch': 1194, 'đầu_tiên': 1195, 'xếp_hàng': 1196, 'hằng': 1197, 'y': 1198, 'toeic': 1199, 'hồng': 1200, 'tđt': 1201, 'môn_học': 1202, 'bộ_môn': 1203, 'lạc_bộ': 1204, 'lạc': 1205, 'đăng_kí': 1206, 'tín': 1207, 'thay_thế': 1208, 'trâu': 1209, 'lội': 1210, 'bảo_vệ': 1211, 'i': 1212, 'ngoài_trời': 1213, 'anh_chị': 1214, 'tối_thiểu': 1215, 'theo_dõi': 1216, 'am': 1217, '24': 1218, 'hot': 1219, 'kiến_thức': 1220, 'tận_tình': 1221, 'chính_xác': 1222, 'apple': 1223, '129': 1224, 'số_lượng': 1225, 'kỹ_sư': 1226, '17': 1227, 'dược': 1228, 'xây_dựng': 1229, 'nguồn': 1230, 'đáp_ứng': 1231, 'thị_trường': 1232, 'chủ_đề': 1233, 'thoáng': 1234, 'hiệu_quả': 1235, 'túi_tiền': 1236, 'thang_máy': 1237, 'luôn_luôn': 1238, 'yame': 1239, 'săn': 1240, 'lễ_hội': 1241, 'biệt': 1242, 'phân_phối': 1243, 'nhà_sách': 1244, 'cresent': 1245, 'dễ_dàng': 1246, 'form': 1247, 'hướng_dẫn': 1248, 'dịch_vụ': 1249, 'tài_khoản': 1250, '3000': 1251, 'quốc_phòng': 1252, 'doanh_nghiệp': 1253, 'ưng_ý': 1254, 'uốn': 1255, '63': 1256, '0123456789': 1257, 'tuấn': 1258, 'ninh_thuận': 1259, 'xuân': 1260, 'nhen': 1261, 'trâm': 1262, '9h': 1263, 'tập_thể_dục': 1264, '65kg': 1265, 'sức_khỏe': 1266, '2002': 1267, 'mtp': 1268, 'đàn': 1269, 'song': 1270, 'tính_toán': 1271, 'lâm': 1272, 'ly': 1273, 'thời_trang': 1274, 'bến_tre': 1275, 'máu': 1276, 'nhầm': 1277, 'trúng': 1278, '80kg': 1279, 'khang': 1280, 'kinh': 1281, '45': 1282, 'vừa_mới': 1283, 'đỗ': 1284, '1m68': 1285, 'đào': 1286, 'nhơn': 1287, 'nhiêu': 1288, 'huỳnh': 1289, 'nghệ_an': 1290, 'thiên': 1291, 'bưởi': 1292, 'dương': 1293, 'mây': 1294, 'nhẹ_nhàng': 1295, 'kỳ': 1296, 'sự_nghiệp': 1297, 'thời': 1298, 'cưới': 1299, 'karaoke': 1300, 'thật_ra': 1301, 'dở': 1302, 'mưa': 1303, 'hoa': 1304, 'son': 1305, 'giãn': 1306, 'một_ít': 1307, 'mất_công': 1308, 'cụ_thể': 1309, 'ấn_tượng': 1310, 'từ_bỏ': 1311, 'avengers': 1312, 'tự_lập': 1313, 'hiền_lành': 1314, 'trộn': 1315, 'tận_hưởng': 1316, 'siêng_năng': 1317, 'kết_quả': 1318, 'thiệt': 1319, 'lỗi': 1320, 'hôm_qua': 1321, 'tâm_sự': 1322, 'chiếu': 1323, 'lắng_nghe': 1324, 'tính_cách': 1325, 'vẽ': 1326, 'yêu_thương': 1327, 'mến': 1328, 'hài_hước': 1329, 'chó': 1330, 'chúng': 1331, 'chi_tiết': 1332, 'thông_báo': 1333, 'làm_quen': 1334, 'thui': 1335, 'phấn_đấu': 1336, 'rảnh_rỗi': 1337, 'thanh_xuân': 1338, 'người_thân': 1339, 'ràng_buộc': 1340, 'liên_lạc': 1341, 'não': 1342, 'đa_số': 1343, 'ăn_bám': 1344, 'hong': 1345, 'đại': 1346, 'quài': 1347, 'hehe': 1348, 'cá_tính': 1349, 'hợp_đồng': 1350, 'cọc': 1351, 'bất_tiện': 1352, 'cửa_sổ': 1353, 'sinh_hoạt': 1354, 'làng': 1355, 'bus': 1356, 'tối_đa': 1357, 'dọn_dẹp': 1358, 'hài_lòng': 1359, 'khu_vực': 1360, 'đản': 1361, 'sẵn_sàng': 1362, 'người_lớn': 1363, 'máy_giặt': 1364, 'quan': 1365, 'kế': 1366, 'đâu_đó': 1367, 'yên_tâm': 1368, 'tiên': 1369, 'cưng': 1370, '1000': 1371, 'nuôi': 1372, 'trại': 1373, 'làm_nên': 1374, 'muối': 1375, 'yup': 1376, 'q7': 1377, 'chim': 1378, 'bản': 1379, 'option': 1380, 'có_ăn': 1381, 'quỳ': 1382, 'thặng_dư': 1383, 'mục_đích': 1384, 'cắm_sừng': 1385, 'thu_nhập': 1386, 'mong': 1387, 'chai': 1388, '10h': 1389, 'dậy': 1390, 'mập': 1391, 'pro': 1392, 'cân': 1393, 'hâm_mộ': 1394, 'nhạt': 1395, 'uk': 1396, 'dị': 1397, 'chủ_tịch': 1398, 'dơ': 1399, 'ủa': 1400, 'cặp': 1401, 'lol': 1402, 'bất_cứ': 1403, 'gay': 1404, 'tho': 1405, 'đồng_hồ': 1406, 'dù': 1407, 'mũi': 1408, 'hà_giang': 1409, 'nổi': 1410, 'kẹo': 1411, 'bác': 1412, 'em_trai': 1413, 'an_giang': 1414, 'đầm': 1415, 'sen': 1416, 'tập_hợp': 1417, 'khúc': 1418, 'thương_mại': 1419, 'nội_trợ': 1420, 'vợ': 1421, 'nhe': 1422, 'hợp_khẩu_vị': 1423, 'nhẹ': 1424, 'lát': 1425, 'hay_là': 1426, 'xứng_đáng': 1427, 'nợ': 1428, 'top': 1429, 'ngô': 1430, 'nlp': 1431, 'team': 1432, 'siêng': 1433, 'hoài': 1434, 'kim': 1435, 'chút': 1436, 'chẳng': 1437, 'gió': 1438, 'khuyến_khích': 1439, 'bùng': 1440, 'cắm': 1441, 'đợt': 1442, 'giải_đáp': 1443, 'thắc_mắc': 1444, 'xếp': 1445, 'vị_trí': 1446, 'lực': 1447, 'chuyển_động': 1448, 'mỡ': 1449, 'hành_tinh': 1450, 'quỹ_đạo': 1451, 'quay': 1452, 'viễn_tưởng': 1453, 'hồi_hộp': 1454, 'tùy_cậu': 1455, 'anh_hùng': 1456, '2021': 1457, 'offline': 1458, 'space': 1459, 'dau': 1460, 'tốt_bụng': 1461, 'website': 1462, 'đào_bới': 1463, 'gắt_gỏng': 1464, 'kịp': 1465, 'gấp': 1466, 'nhân_sự': 1467, 'vô_cùng': 1468, 'dễ_tính': 1469, 'dự': 1470, 'vui_lòng': 1471, 'thế_thì': 1472, 'thời_điểm': 1473, 'gan': 1474, 'sắm': 1475, 'cellphones': 1476, 'xxl': 1477, 'android': 1478, 'hiệu_năng': 1479, 'ừa': 1480, 'cpu': 1481, 'hạng': 1482, 'tiền_mặt': 1483, 'chất': 1484, 'chuyển_khoản': 1485, 'nha_anh': 1486, '1520': 1487, 'thương_hiệu': 1488, 'miễn_phí': 1489, 'ví': 1490, 'hp': 1491, 'dạbên': 1492, 'ổ': 1493, 'duyên_phận': 1494, 'chia_tay': 1495, 'chuyên': 1496, 'trở_đi': 1497, '7h30': 1498, '1h': 1499, 'duyệt': 1500, 'dao_động': 1501, '550': 1502, '55': 1503, 'đảm_bảo': 1504, 'công_lập': 1505, 'nghiên_cứu': 1506, 'thể_chất': 1507, 'đa_dạng': 1508, 'đa': 1509, 'h': 1510, 'may_mắn': 1511, 'tích_lũy': 1512, 'chăm_chỉ': 1513, 'voan': 1514, 'mỏng': 1515, 'dáng': 1516, '2000000đ': 1517, 'giặt': 1518, '35k': 1519, 'ghiền': 1520, 'stress': 1521, 'trưởng_thành': 1522, 'ngoại_hình': 1523, 'đối_phương': 1524, 'khói': 1525, 'tuyết': 1526, 'phà': 1527, 'chăn': 1528, '39': 1529, 'tuân': 1530, 'tài_liệu': 1531, 'học_bổng': 1532, 'thi_đấu': 1533, 'tennis': 1534, 'b': 1535, 'giám_thị': 1536, 'trệt': 1537, 'ielts': 1538, 'cập_nhật': 1539, 'học_bạ': 1540, 'kết_thúc': 1541, 'dãy': 1542, 'học_lực': 1543, 'fanpage': 1544, 'tuyển': 1545, 'lenovo': 1546, 'nhãn': 1547, 'nâng_cấp': 1548, 'tìm_kiếm': 1549, 'kiến_trúc': 1550, 'dược_sĩ': 1551, 'khối': 1552, 'công_trình': 1553, 'kế_toán': 1554, 'giáo_dục': 1555, 'xã_hội': 1556, 'công_đoàn': 1557, 'ngôn_ngữ_học': 1558, 'sinh_học': 1559, 'luật': 1560, '–': 1561, 'xu_hướng': 1562, 'đầu_tư': 1563, 'tỉ': 1564, 'đầu_sách': 1565, 'văn_học': 1566, 'khuôn_viên': 1567, 'che': 1568, 'năng_động': 1569, 'xả': 1570, 'khang_trang': 1571, 'tin_dùng': 1572, 'adidas': 1573, 'hội_chợ': 1574, 'nike': 1575, 'lựa_chọn': 1576, 'có_mặt': 1577, 'viên': 1578, 'đăng': 1579, 'quầy': 1580, 'nộp': 1581, 'cam': 1582, 'bãi': 1583, 'phụ_thuộc': 1584, 'tiến_độ': 1585, 'một_tí': 1586, 'cong': 1587, 'thái_bình': 1588, 'soạn': 1589, 'duc': 1590, 'thang': 1591, 'university': 1592, 'trí': 1593, 'ruột': 1594, 'đội_tuyển': 1595, 'môn_hóa': 1596, 'út': 1597, 'chăm_sóc': 1598, 'sinh_nhật': 1599, 'tử': 1600, 'phép': 1601, '75': 1602, 'con_một': 1603, 'thuở': 1604, 'làm_bạn': 1605, '2619576': 1606, 'hoành': 1607, 'trà_vinh': 1608, 'lợi': 1609, 'bình_thuận': 1610, 'bơi_lội': 1611, '45kg': 1612, '1m6': 1613, 'thuyết_trình_vậy': 1614, 'bitis': 1615, 'huy': 1616, 'thịnh': 1617, 'đan': 1618, 'ô': 1619, 'khải': 1620, 'sáu': 1621, 'mươi': 1622, 'bình_bình': 1623, 'tài': 1624, 'lăm': 1625, '95': 1626, '2003': 1627, 'bảnh': 1628, '1m5': 1629, 'đề_kháng': 1630, '2m': 1631, '40kg': 1632, 'bẻ': 1633, 'lô': 1634, 'in': 1635, 'dân_tộc': 1636, 'đắk': 1637, 'lắk': 1638, '50kg': 1639, 'chupi': 1640, '1m72': 1641, '60kg': 1642, '2k': 1643, '72kg': 1644, 'phần_lớn': 1645, 'java': 1646, '1m70': 1647, 'cận': 1648, 'chúa_giáo': 1649, '22022000': 1650, 'vincom': 1651, 'đồng_khởi': 1652, 'khối_lượng': 1653, 'cơ_thể': 1654, '54kg': 1655, '1212': 1656, 'hạnh': 1657, 'cô_giáo': 1658, 'khoảng_cách': 1659, 'ngán': 1660, 'học_viện': 1661, 'âu': 1662, 'country': 1663, 'cực_kỳ': 1664, 'nghiệp': 1665, 'xào': 1666, 'tỏi': 1667, 'toiec': 1668, 'mãi_mãi': 1669, 'gò_vấp': 1670, 'dinh': 1671, 'nhi': 1672, 'nai': 1673, 'biểu': 1674, 'uhm': 1675, 'ngày_sinh': 1676, '29': 1677, '4april': 1678, 'chấp': 1679, 'đỏ': 1680, 'call': 1681, 'video': 1682, 'náo_nhiệt': 1683, 'giây_phút': 1684, 'tâm_lí': 1685, 'nghệ_thuật': 1686, 'tiểu_thuyết': 1687, 'lý_thuyết': 1688, 'xảy': 1689, 'đối': 1690, 'ngược_lại': 1691, 'bắt_chuyện': 1692, 'thủy': 1693, 'quỳnh': 1694, 'quyển': 1695, 'tâm_lý': 1696, 'yên': 1697, 'đó_đây': 1698, 'chiếu_phim': 1699, 'hóng': 1700, 'niềm': 1701, 'chân_thành': 1702, 'café': 1703, 'lề_đường': 1704, 'cảm_nhận': 1705, 'vế': 1706, 'phụ_nữ': 1707, 'đáp': 1708, 'thái_độ': 1709, 'hoa_hồng': 1710, 'chân_lý': 1711, 'rỗi': 1712, 'cực_kì': 1713, 'mũm_mĩm': 1714, 'giáo_khoa': 1715, 'say': 1716, 'dám': 1717, 'tôn_trọng': 1718, 'một_cách': 1719, 'cao_ráo': 1720, 'so': 1721, 'mười': 1722, 'thư_giãn': 1723, 'nhắn': 1724, 'ảnh': 1725, 'kèm': 1726, 'grab': 1727, 'mobile': 1728, 'khắc_phục': 1729, 'quái_vật': 1730, 'thất_tình': 1731, 'mạnh_dạn': 1732, 'động_lực': 1733, 'slot': 1734, 'vô': 1735, 'sẵn': 1736, 'yêu_đương': 1737, 'nói_chung': 1738, 'xịn': 1739, 'vua': 1740, 'tình_huống': 1741, 'quẩy': 1742, 'hết_mình': 1743, 'thấu_hiểu': 1744, 'khuyên': 1745, 'ei': 1746, 'quý': 1747, 'đám': 1748, 'bẩn': 1749, 'machine': 1750, 'learning': 1751, 'tiền_bạc': 1752, 'thuật_toán': 1753, 'trả': 1754, 'ban_đêm': 1755, 'cuộc_đời': 1756, 'nhàm_chán': 1757, 'hí': 1758, 'hướng_nội': 1759, 'tom': 1760, 'hôi': 1761, 'béo': 1762, 'giỡn': 1763, 'nhây': 1764, 'chúng_tôi': 1765, 'hang': 1766, 'thuận_lợi': 1767, 'post': 1768, 'cẩn_thận': 1769, 'kỹ': 1770, 'lừa': 1771, 'phổ_biến': 1772, 'chia_sẻ': 1773, 'nhà_riêng': 1774, 'lũ': 1775, 'tùy_phòng': 1776, 'app': 1777, 'tiết_kiệm': 1778, 'chú_ý': 1779, 'riêng_tư': 1780, 'oanh': 1781, 'tiêu_cực': 1782, 'tệ_nạn': 1783, 'nha_con': 1784, 'huyện': 1785, 'nguyễn_thị': 1786, 'thập': 1787, 'nình': 1788, 'giờ_giấc': 1789, '11h': 1790, 'kêu': 1791, 'dắt': 1792, '20k': 1793, 'nấy': 1794, 'ẩm_thực': 1795, 'ánh': 1796, 'tuyệt_đối': 1797, 'ghế': 1798, 'cổng': 1799, 'nội_quy': 1800, 'thể_dục': 1801, 'trọ_vậy': 1802, '3tr5': 1803, 'nha_mày': 1804, 'trăm': 1805, 'xây': 1806, 'gò_bó': 1807, 'hàng_xóm': 1808, 'mặt_tiền': 1809, 'landmark': 1810, '81': 1811, 'thú': 1812, 'sông': 1813, 'vịt': 1814, 'bắc_giang': 1815, 'bình_thạnh': 1816, 'tuôi': 1817, 'tân_bình': 1818, 'black': 1819, 'my': 1820, 'rang': 1821, 'tiết_lộ': 1822, 'mệt_mỏi': 1823, 'trầm_cảm': 1824, 'vinfast': 1825, 'sa': 1826, 'biến': 1827, 'tồn_tại': 1828, 'ngu_ngốc': 1829, 'nhạc_sĩ': 1830, 'python': 1831, 'language': 1832, 'processing': 1833, 'lừa_đảo': 1834, 'axit': 1835, 'tím': 1836, 'thẳng': 1837, 'tiền_tệ': 1838, 'đo_lường': 1839, 'tranh_thủ': 1840, '0': 1841, 'thú_thật': 1842, 'đánh_giá': 1843, 'nhớt': 1844, 'hư': 1845, 'camera': 1846, 'iron': 1847, 'man': 1848, 'cốt_truyện': 1849, 'diễn_viên': 1850, 'giả': 1851, 'said': 1852, 'cha': 1853, 'dung_dịch': 1854, 'caoh2': 1855, 'sủi': 1856, 'bọt': 1857, 'khí': 1858, 'quả': 1859, 'thơm': 1860, 'gấu': 1861, 'bông': 1862, 'trông': 1863, 'nà': 1864, 'đàng_hoàng': 1865, 'lá': 1866, 'dự_báo': 1867, 'dằn': 1868, 'chửi': 1869, 'cấm': 1870, 'công_thức': 1871, 'bận_tâm': 1872, 'blade': 1873, 'dách': 1874, 'cờ_bạc': 1875, 'mê': 1876, 'lào': 1877, 'đón_tiếp': 1878, 'dơi': 1879, 'cá': 1880, 'bơ': 1881, 'sáp': 1882, 'dâu_tây': 1883, 'trong_lành': 1884, 'lửa': 1885, 'hoàn': 1886, 'bún_chả': 1887, 'đầy': 1888, 'tốc_độ': 1889, 'ai_lại': 1890, 'tận_cùng': 1891, 'yêu_quý': 1892, 'đò': 1893, 'unesco': 1894, 'công_nhận': 1895, 'vườn': 1896, 'thư_giản': 1897, 'bánh_canh': 1898, 'bánh_tét': 1899, 'địa_phương': 1900, 'cục': 1901, 'ngập': 1902, 'sát': 1903, 'thanh_long': 1904, 'bánh_xèo': 1905, 'xuyên': 1906, 'mệnh_danh': 1907, 'bốn': 1908, 'suối': 1909, 'trẻ': 1910, 'phong_cảnh': 1911, 'thiên_nhiên': 1912, 'cao_ốc': 1913, 'xứ': 1914, 'voi': 1915, 'tượng': 1916, 'rời': 1917, 'công_chức': 1918, 'đám_cưới': 1919, 'rượu': 1920, 'xe_buýt': 1921, 'vai_trò': 1922, 'chị_gái': 1923, 'giám_đốc': 1924, 'làm_ăn': 1925, 'hầu_hết': 1926, 'hẳn': 1927, '\\u200b': 1928, 'chồng': 1929, 'kfc': 1930, 'aka': 1931, 'buffet': 1932, '199': 1933, '299': 1934, '399': 1935, 'ưa_thích': 1936, 'kho': 1937, 'mì': 1938, 'cay': 1939, 'sushi': 1940, 'kichi': 1941, 'bụng': 1942, 'tiệc': 1943, 'nat': 1944, 'chốt': 1945, 'combo': 1946, 'chè': 1947, 'tư': 1948, 'shushi': 1949, 'đ': 1950, 'thị_trấn': 1951, 'ôi': 1952, 'dì': 1953, 'chổ': 1954, 'khen': 1955, 'là_hơi': 1956, 'bự': 1957, '500': 1958, 'sướng': 1959, 'học_ngành': 1960, 'công_cụ': 1961, 'chức_năng': 1962, 'cầm': 1963, 'đứng': 1964, 'nhạy_cảm': 1965, 'hoa_sen': 1966, 'quốc_gia': 1967, 'tân_phong': 1968, '87': 1969, '50k': 1970, 'vất_vả': 1971, 'xử_lý': 1972, 'normal': 1973, 'g2': 1974, 'endgame': 1975, 'thực_sự': 1976, 'huyễn': 1977, 'hạ': 1978, 'nồ': 1979, 'nố': 1980, 'nô': 1981, 'trinh_thám': 1982, 'bla': 1983, 'edm': 1984, 'lính': 1985, 'linh': 1986, 'thủ_đô': 1987, 'mua_đồ': 1988, 'cờ_vua': 1989, 'manchester': 1990, 'united': 1991, 'anime': 1992, 'nhây_vậy': 1993, 'you': 1994, 'nhân_vật': 1995, 'dư': 1996, 'danh_lam': 1997, 'thắng_cảnh': 1998, 'chống': 1999, 'bình_định': 2000, 'dày': 2001, 's': 2002, 'kiểm_soát': 2003, 'lúc_nào': 2004, '304': 2005, 'để_dành': 2006, 'hổm': 2007, 'quá_trình': 2008, 'khoai': 2009, 'du_học_sinh': 2010, 'don': 2011, 'bùng_phát': 2012, 'hoàng_sa': 2013, 'canada': 2014, 'du': 2015, 'que': 2016, 'huong': 2017, 'viet': 2018, 'nguoi': 2019, 'than': 2020, 'thien': 2021, 'thuc': 2022, 'phu': 2023, 'co': 2024, 'học_hỏi': 2025, 'vietnam': 2026, 'đông_đủ': 2027, 'thức': 2028, 'vô_lại': 2029, 'tiếp_xúc': 2030, 'dự_tính': 2031, 'đán': 2032, 'âm_lịch': 2033, 'bánh_chưng': 2034, '26': 2035, 'cúng': 2036, 'giao_thừa': 2037, 'xác_định': 2038, 'nhà_cửa': 2039, 'ơ': 2040, 'ghi': 2041, 'quất': 2042, 'di_chuyển': 2043, 'nồi': 2044, 'wikipedia': 2045, 'ướt': 2046, 'hân_hạnh': 2047, 'bởi_vì': 2048, 'bài_toán': 2049, 'quân': 2050, 'hậu': 2051, 'lời_giải': 2052, 'châu_lục': 2053, 'đại_dương': 2054, 'bịch': 2055, 'thực_hiện': 2056, 'kiểm_tra': 2057, 'đô': 2058, 'thực_phẩm': 2059, 'bất_kỳ': 2060, 'miêu_tả': 2061, 'năng_lượng': 2062, 'công_bố': 2063, 'tổng_quát': 2064, 'xử': 2065, 'quy': 2066, 'khí_quyển': 2067, 'vàng': 2068, 'lịch_sử': 2069, 'sơ_khai': 2070, 'ban_đầu': 2071, 'cò': 2072, 'thẳng_cánh': 2073, 'cần_cù': 2074, 'vinh_dự': 2075, 'tiểu_học': 2076, 'nhiệt_độ': 2077, '27': 2078, 'trọng_lực': 2079, 'nhờ': 2080, 'sức_kéo': 2081, 'cầm_viên': 2082, 'ôn': 2083, 'chân': 2084, 'thanos': 2085, 'doremon': 2086, 'vẻ': 2087, 'dời': 2088, 'covid19': 2089, 'light': 2090, 'novel': 2091, 'lướt': 2092, 'world': 2093, 'warships': 2094, 'tùm_lum': 2095, 'kerbal': 2096, 'program': 2097, 'phasmophobia': 2098, 'cyberpunk2077': 2099, 'hài': 2100, '6h': 2101, 'vâng_vậy': 2102, 'tu': 2103, 'okmình': 2104, 'gio': 2105, 'ư': 2106, 'trailer': 2107, 'kím': 2108, 'hàn': 2109, 'park': 2110, 'thất_nghiệp': 2111, 'công_nghệ_cao': 2112, 'kĩ_sư': 2113, 'mêm': 2114, 'phấn_chấn': 2115, 'chức': 2116, 'quạo': 2117, 'mảng': 2118, 'ăn_hại': 2119, 'thích_ứng': 2120, 'lương_tâm': 2121, 'bảo_mật': 2122, 'rửa': 2123, 'pha_chế': 2124, 'trang_web': 2125, 'part': 2126, 'time': 2127, 'môi': 2128, 'đỉnh': 2129, 'hệ_số': 2130, 'tháng_một': 2131, 'shipper': 2132, 'quản_lí': 2133, 'công_dân': 2134, 'quản_lý': 2135, 'bậy_bạ': 2136, 'máy_chủ': 2137, 'thông_qua': 2138, 'dvs': 2139, 'backend': 2140, 'hẵn': 2141, 'abc': 2142, 'báo_cáo': 2143, '700k': 2144, 'nhân_dịp': 2145, 'nghỉ_hè': 2146, 'đi_ngoài': 2147, 'chuyến': 2148, 'mời': 2149, 'mot': 2150, 'lich': 2151, 'bien': 2152, 'nhat': 2153, 'tour': 2154, 'mộc': 2155, 'trắng_đen': 2156, 'tai_nghe': 2157, 'tiện_dụng': 2158, 'phải_chăng_nửa': 2159, 'xxxl': 2160, 'ios': 2161, 'giảm': 2162, 'max': 2163, 'lựa': 2164, 'xiaomi': 2165, 'bảo_hành_chính': 2166, 'freeship': 2167, 'mềm': 2168, 'trực_tiếp': 2169, 'sóng': 2170, 'body': 2171, 'polo': 2172, 'toàn_quốc': 2173, 'bền': 2174, 'đồ_dùng': 2175, 'lazada': 2176, 'áo_phông': 2177, 'free': 2178, 'lap': 2179, 'i5': 2180, '400k': 2181, 'gamming': 2182, 'chuột': 2183, 'sơmi': 2184, '1k': 2185, 'airpay': 2186, 'tiki': 2187, 'tùy_phân': 2188, 'trung_cao': 2189, 'tuf': 2190, '19tr': 2191, '512ssd': 2192, 'chip': 2193, 'intel': 2194, 'i7': 2195, 'thủ_tục': 2196, 'anhchị': 2197, 'rành': 2198, 'ngôi': 2199, 'budget': 2200, 'bao_nhiêu': 2201, 'thiết_bị': 2202, 'dung_lượng': 2203, 'quầnn': 2204, 'gb': 2205, 'galaxy': 2206, 's20': 2207, 'phiếu': 2208, 'ốp': 2209, 'lưng': 2210, 'yep': 2211, 'nói_ngọt': 2212, 'dỗ': 2213, 'chu_đáo': 2214, 'hãm': 2215, 'mơ': 2216, 'thỏa_mái': 2217, 'ra_vậy': 2218, 'nghiêm': 2219, 'thong': 2220, 'đồng_học_kì': 2221, 'tiếp_theo': 2222, 'học_đường': 2223, 'thuận_tiện': 2224, 'chủ_nhật': 2225, '11h30': 2226, '17h30': 2227, 'đảm_bảo_vệ_sinh': 2228, 'qs': 2229, 'star': 2230, 'toàn_diện': 2231, 'phát_sinh': 2232, 'gia_hạn': 2233, 'lab': 2234, 'e001': 2235, 'áp_dụng': 2236, 'chính_quy': 2237, '700': 2238, 'chính_trị': 2239, 'nội_trú': 2240, 'giao_lưu': 2241, 'tòa_i': 2242, '250ktháng': 2243, '600k': 2244, 'phòng_dịch_vụ': 2245, 'văn_nghệ': 2246, 'nếu_như': 2247, 'sửa': 2248, 'ống': 2249, 'nice': 2250, 'rơi': 2251, 'vào_khoảng': 2252, '30000000đ': 2253, 'luận_án': 2254, 'thân_hình': 2255, 'thanh_mảnh': 2256, '200000đ': 2257, 'nhẹ_tay': 2258, 'đầu_gối': 2259, '500000đ': 2260, 'ngang': 2261, 'bắp_chân': 2262, '700000đ': 2263, 'mắt_cá': 2264, '900000đ': 2265, '1800000đ': 2266, '4000000đ': 2267, 'xiên': 2268, 'vẹo': 2269, 'trời_ơi': 2270, 'thiệt_thòi': 2271, 'nghen': 2272, 'tủ': 2273, 'hầu_như': 2274, 'la_cà': 2275, 'đây_đó': 2276, 'bật': 2277, 'bầu_trời': 2278, 'thở': 2279, 'thuốc_lào': 2280, 'nông_thôn': 2281, 'quân_sự': 2282, 'tận_tâm': 2283, 'khoa_trường': 2284, 'kỷ_luật': 2285, '99': 2286, 'phần_trăm': 2287, 'quy_chuẩn': 2288, 'đạo_đức': 2289, 'tâm_huyết': 2290, 'ánh_sáng': 2291, 'wifi': 2292, 'trình_độ': 2293, 'golf': 2294, '1320': 2295, '4050': 2296, 'chính_sách': 2297, 'e': 2298, 'g': 2299, 'chợt': 2300, 'nha_tòa': 2301, 'đảm_nhiệm': 2302, 'pet': 2303, 'tenis': 2304, 'vnd': 2305, 'chọn_lựa': 2306, 'vv': 2307, 'vật': 2308, 'chât': 2309, 'chê': 2310, 'thời_đại': 2311, 'đên': 2312, 'trở_nên': 2313, 'tận_tụy': 2314, 'hoàn_toàn': 2315, 'trang_chủ': 2316, 'trường_học': 2317, 'tiêu_chí': 2318, 'bắt_buộc': 2319, 'phong_trào': 2320, 'đoàn': 2321, 'ổ_cứng': 2322, 'sửa_chữa': 2323, 'gói': 2324, 'lắp_đặt': 2325, 'đặc_điểm': 2326, 'nhận_dạng': 2327, 'kỉ_luật': 2328, 'lễ_phép': 2329, 'sáng_tạo': 2330, 'phụng_sự': 2331, '2424': 2332, 'clc': 2333, 'giảng': 2334, 'hoàn_thành': 2335, '138': 2336, 'tuẩn': 2337, 'cử_nhân': 2338, 'sử': 2339, 'luật_khoa_học': 2340, 'nhân_văn': 2341, 'ngoại_ngữ': 2342, 'bảo_hộ': 2343, 'bậc': 2344, 'xã_hội_học': 2345, 'kỹ_thuật_hóa': 2346, '…': 2347, 'nhằm': 2348, 'nhân_lực': 2349, 'hội_nhập': 2350, 'toàn_cầu': 2351, 'luân_chuyển': 2352, 'campus': 2353, 'liên_kết': 2354, 'lịch_sự': 2355, 'tổng_chi_phí': 2356, '127': 2357, 'bóng_mát': 2358, 'máy_chiếu': 2359, 'canteen': 2360, 'tài_năng': 2361, 'giải_thưởng': 2362, 'tự_giác': 2363, 'ý_thức': 2364, 'như_không': 2365, 'đội_ngũ': 2366, 'công_nhân_viên': 2367, 'trách_nhiệm': 2368, 'secondhand': 2369, 'giày_dép': 2370, 'chú_trọng': 2371, 'hàng_đầu': 2372, 'cừ': 2373, 'khắp': 2374, 'bigc': 2375, 'seven': 2376, 'eleven': 2377, 'circle': 2378, 'family': 2379, 'starbuck': 2380, 'bổ_ích': 2381, 'học_thuật': 2382, 'múa': 2383, 'nhảy': 2384, 'tòa_h': 2385, '2010': 2386, '2019': 2387, 'máy_tính_mạng': 2388, 'đầu_ra': 2389, 'thỉnh_giảng': 2390, 'cơ_hữu': 2391, 'đại_trà': 2392, 'page': 2393, '1015': 2394, 'bỏng': 2395, 'ca_hát': 2396, 'nhà_trường': 2397, 'hành_chính': 2398, 'tùy_ngành': 2399, 'trước_hết': 2400, 'chứng_chỉ': 2401, 'hầm': 2402, 'xử_lí': 2403, 'dạy_học': 2404, 'tân_tâm': 2405, '1084': 2406, '0938410364': 2407, 'nghành': 2408, 'máy_tinh': 2409, 'khoá': 2410, 'x': 2411, 'z': 2412, '10416220': 2413, 'nick': 2414, 'face': 2415, 'nxhung0405': 2416, '0917234872': 2417, 'tớ_khỏe': 2418, 'xả_hơi': 2419, 'rể': 2420, 'tinh_thần': 2421, 'sảng_khoái': 2422, 'nghê': 2423, 'lai': 2424, 'p': 2425, '0792240342': 2426, 'skype': 2427, 'danchoi': 2428, 'thần_tượng': 2429, 'guitar': 2430, 'luyện_tập': 2431, '0925632541': 2432, 'nỗ_lực': 2433, '1m79': 2434, 'làm_ruộng': 2435, '68': 2436, 'giàu_có': 2437, 'nhòm_ngó': 2438, 'hòa_bình': 2439, 'zara': 2440, 'short': 2441, 'ngắn': 2442, 'phối': 2443, 'nitro': 2444, 'xgear': 2445, 'ni': 2446, '175cm': 2447, '67kg': 2448, 'giới': 2449, 'tinh_nam': 2450, 'chín': 2451, '09000000000': 2452, 'đúng_vậy': 2453, '0707336606': 2454, '1991': 2455, 'dị_ứng': 2456, 'floria': 2457, 'thủ': 2458, 'võ': 2459, 'hải_đăng': 2460, 'thạch': 2461, 'xấp_xỉ': 2462, 'middle': 2463, 'huh': 2464, '2007': 2465, '1m50': 2466, 'tạ': 2467, 'hoàng_nam': 2468, '1m75': 2469, 'ab': 2470, 'stream': 2471, 'khanh': 2472, 'sđt': 2473, '0832840': 2474, 'vinhome': 2475, 'quốc_tịch': 2476, 'mxh': 2477, 'email': 2478, 'khanhduynguyen170900gmailcom': 2479, 'mail': 2480, 'giamdockhanhnguyenvinvn': 2481, 'gia_bảo': 2482, 'chào_đời': 2483, 'quaahihi': 2484, 'bean': 2485, '90': 2486, '60': 2487, 'loan': 2488, '1m67': 2489, 'trung_tín': 2490, '150kg': 2491, 'hmong': 2492, 'jang': 2493, 'jam': 2494, '1m76': 2495, 'bạch_dương': 2496, '1204': 2497, 'lian': 2498, '01012000': 2499, 'automatic': 2500, 'corgi': 2501, '74kg': 2502, 'chubby': 2503, 'trương': 2504, 'bùi': 2505, '35f': 2506, 'tiêu_cự': 2507, '1m59': 2508, '51kg': 2509, '0782513xxx': 2510, 'biệt_danh': 2511, '70': 2512, 'manwah': 2513, '0334xxxxxx': 2514, 'trọng_tài': 2515, '1m57': 2516, 'thanh_minh': 2517, '1m60': 2518, '1m73': 2519, 'kg': 2520, '170cm': 2521, 'ma_kết': 2522, '170': 2523, '52kg': 2524, '75kg': 2525, '13km': 2526, 'thông_thường': 2527, 'củng': 2528, 'ráng': 2529, 'project': 2530, 'ngư': 2531, 'chăc': 2532, 'music': 2533, '04': 2534, 'ngân': 2535, 'bình_dương': 2536, 'quảng_bình': 2537, 'trà_lipton': 2538, 'rau_muống': 2539, 'thất': 2540, '0977736413': 2541, 'tam_kỳ': 2542, 'căn_cước': 2543, 'viettel': 2544, 'biên': 2545, 'xem_xét': 2546, '184cm': 2547, 'bóng_chuyền': 2548, '58kg': 2549, 'thạnh': 2550, 'tở': 2551, 'khánh_hòa': 2552, '0123456798': 2553, '0234567891': 2554, 'nắm': 2555, '0902622737': 2556, 'nhà_vô': 2557, 'lun': 2558, '1100': 2559, 'rũ': 2560, 'thì_thôi': 2561, 'hò_hét': 2562, 'hại': 2563, 'phổi': 2564, 'răng': 2565, 'unfriend': 2566, 'vận': 2567, 'anh_trai': 2568, 'kén_chọn': 2569, 'tan': 2570, 't7': 2571, 'thầm': 2572, 'lớn_tuổi': 2573, 'đụng': 2574, 'thất_tình_vậy': 2575, 'chi_là': 2576, 'tính_tình': 2577, 'hiền_khô': 2578, 'thành_công': 2579, 'bàn_tay': 2580, 'tâm_trạng': 2581, 'cách_li': 2582, 'chặn': 2583, 'phim_á': 2584, 'lo_nghĩ': 2585, 'số_phận': 2586, 'đen_tối': 2587, 'mù_mịt': 2588, 'mới_đầu': 2589, 'quyết_định': 2590, 'vậy_mà': 2591, 'gây': 2592, 'end': 2593, 'thi_thoảng': 2594, 'thể_hiện': 2595, 'an_tâm': 2596, 'bài_học': 2597, 'hoạt': 2598, 'bátvui_vẻ': 2599, 'shopping': 2600, 'lý_tưởng': 2601, 's2m': 2602, 'oke_vậy': 2603, 'tắc': 2604, 'sữa_tươi': 2605, 'trân_châu': 2606, 'quỳnh_vậy': 2607, 'á_à': 2608, 'báo_đáp': 2609, 'ân_tình': 2610, 'phí_hoài': 2611, 'khía_cạnh': 2612, 'kha_khá': 2613, 'lý_do': 2614, 'biện_pháp': 2615, 'lí_do': 2616, 'vòng_vòng': 2617, 'hào_nhoáng': 2618, 'phút_giây': 2619, 'cảm_động': 2620, 'lỗimình': 2621, 'nhịp': 2622, 'banned': 2623, 'usd': 2624, 'hình_thức': 2625, 'lành_mạnh': 2626, 'thà': 2627, 'bại': 2628, 'linh_hoạt': 2629, 'nỗi': 2630, 'trọn_vẹn': 2631, 'cảm_tính': 2632, 'giành': 2633, 'khác_nào': 2634, 'tệ_bạc': 2635, 'tivi': 2636, 'khảo_sát': 2637, 'gặp_mặt': 2638, 'giận_dỗi': 2639, 'ván': 2640, 'đấu_trường': 2641, 'riot': 2642, 'phát_hành': 2643, 'là_đà_lạt': 2644, 'sưu_tầm': 2645, 'lego': 2646, 'highland': 2647, 'kìa': 2648, 'bác_sĩ': 2649, 'videos': 2650, 'truyền_cảm_hứng': 2651, 'sẳn': 2652, 'thay_đổi': 2653, 'nhát': 2654, 'tinh_tế': 2655, 'ngây_thơ': 2656, 'ấykhông': 2657, 'thói_quen': 2658, 'tỉnh_giấc': 2659, 'giường': 2660, 'teokbokki': 2661, 'gảy': 2662, 'cất': 2663, 'mrqueen': 2664, 'đường_thẳng': 2665, 'song_song': 2666, 'tranh': 2667, 'vòng_quanh': 2668, 'master': 2669, 'rank': 2670, 'ntna': 2671, 'động_vật': 2672, 'đùa_nghịch': 2673, 'trôi': 2674, 'rep': 2675, 'handmade': 2676, 'năng_khiếu': 2677, 'thiệp': 2678, 'sticker': 2679, 'xinh_xẻo': 2680, 'vứt': 2681, 'cảng': 2682, 'thình': 2683, 'thoảng': 2684, 'trai': 2685, 'dự_kiến': 2686, 'sắc_đẹp': 2687, 'pubg': 2688, 'cảm_tình': 2689, 'ngỏ': 2690, '269': 2691, 'giai_đoạn': 2692, 'không_những': 2693, 'hoạt_bát': 2694, 'nội_tâm': 2695, 'nhút_nhát': 2696, 'nhứ': 2697, 'choi': 2698, 'trò_chơi': 2699, 'nghĩ_suy': 2700, 'làm_trò_hề': 2701, 'san_sẻ': 2702, 'kết_bạn': 2703, 'nói_chơi': 2704, 'điên_khùng': 2705, 'chuyên_gia': 2706, 'cáu': 2707, 'sashimi': 2708, 'lợi_dụng': 2709, 'chất_xám': 2710, 'chi_trả': 2711, 'vốn': 2712, 'sợi': 2713, 'dây': 2714, 'bởi_vậy': 2715, 'ml': 2716, 'lên_đèn': 2717, 'đồng_chí': 2718, 'đồng_hành': 2719, 'mqh': 2720, 'nhơn_trạch': 2721, 'giải_thoát': 2722, 'tương_đối_rộng': 2723, 'điếu': 2724, 'miếng': 2725, 'ngoại_trừ': 2726, 'kết_hôn': 2727, 'lập': 2728, 'nộitrầm': 2729, 'lắng': 2730, 'sâu_lắng': 2731, 'nhều': 2732, 'dở_người': 2733, 'truân': 2734, 'tommy': 2735, 'gta': 2736, 'vice': 2737, 'giải_vậy': 2738, 'gen': 2739, 'heo': 2740, 'tánh': 2741, 'tuy': 2742, 'chúng_nó': 2743, 'chọc_ghẹo': 2744, 'trung_thực': 2745, 'tin_tưởng': 2746, 'mặc_kệ': 2747, 'thiên_hạ': 2748, 'cày': 2749, 'cà': 2750, 'mau': 2751, 'mất_dạy': 2752, 'ma_túy': 2753, 'thảo_điền': 2754, 'facebookk': 2755, 'sổ': 2756, 'tạm_trú': 2757, 'khai_thông_tin': 2758, 'giấy': 2759, 'khai': 2760, 'phòng_ốc': 2761, 'làm_phiền': 2762, 'phơi': 2763, 'tuyến': 2764, '200m': 2765, 'ngoại_ô': 2766, '40k': 2767, 'tùy_ý': 2768, 'lợi_ích': 2769, '1kw': 2770, 'trộm_cắp': 2771, 'ưa': 2772, 'đãi': 2773, '800k': 2774, 'khó_chịu': 2775, 'nah': 2776, 'ý_định': 2777, 'đặt_cọc': 2778, 'điều_khoản': 2779, 'rắc_rối': 2780, 'con_số': 2781, 'tôi_luyện': 2782, 'toilet': 2783, 'lao_công': 2784, 'ùm': 2785, 'đồng_thời': 2786, 'căn_hộ': 2787, '1tr2': 2788, 'nhẹt': 2789, 'cố_định': 2790, 'okiela': 2791, 'trật_tự': 2792, 'sáng_sủa': 2793, 'dụ': 2794, 'đóng_cửa': 2795, 'mở_cửa': 2796, '1m3': 2797, '3k': 2798, 'tất': 2799, 'khách_quan': 2800, 'thực_tế': 2801, 'mức_sống': 2802, 'kỷ': 2803, 'tổng_hợp': 2804, 'lí_tưởng': 2805, 'lưu_ý': 2806, 'tư_trang': 2807, 'điện_thoại_di_động': 2808, 'móc_túi': 2809, 'bừa_bãi': 2810, 'gật': 2811, 'chào_hỏi': 2812, 'hoàn_cảnh': 2813, 'chủ_quan': 2814, 'điều_hoà': 2815, 'bếp': 2816, 'ga': 2817, 'cảu': 2818, 'tuân_thủ': 2819, '11tr5': 2820, 'dễ_chịu': 2821, 'tan_tầm': 2822, 'quên_mình': 2823, 'kahs': 2824, 'mfinh': 2825, 'hình_như_không': 2826, 'lò': 2827, 'vi_sóng': 2828, '1km': 2829, 'hẻm': 2830, 'penthouse': 2831, 'thượng': 2832, 'biệt_thự': 2833, 'thats': 2834, 'right': 2835, 'ki_lô': 2836, 'nét': 2837, 'dình': 2838, 'tphồ': 2839, 'chuyên_viên': 2840, 'tổng_thống': 2841, 'nước_mặn': 2842, 'đất_đai': 2843, 'cằn_cỗi': 2844, 'nhất_định': 2845, 'partjob': 2846, 'gia_sư': 2847, 'trạchđồng_nai': 2848, 'êyyy': 2849, 'hộ_khẩu': 2850, 'phú': 2851, 'bờ': 2852, 'xuân_soạn': 2853, 'mét_vuông': 2854, 'hecta': 2855, 'tài_phiệt': 2856, 'nộng': 2857, 'côn': 2858, 'đảo': 2859, '243': 2860, 'p8': 2861, 'q4': 2862, 'biên_hòa': 2863, 'tọa_lạc': 2864, 'iii': 2865, 'nha_cưng': 2866, 'điểu': 2867, '3xx': 2868, 'moal': 2869, 'tpbuôn': 2870, 'thuột': 2871, 'đắklắk': 2872, 'thênh_thang': 2873, 'ninja': 2874, 'hokkaido_nhe': 2875, '38081': 2876, 'tôm': 2877, 'course': 2878, 'pink': 2879, 'area': 2880, 'phan': 2881, 'đện': 2882, '3km': 2883, 'texas': 2884, 'cao_lãnh': 2885, '143': 2886, 'tần': 2887, 'thiên_văn_học': 2888, 'bách_hóa': 2889, 'hoho': 2890, '314': 2891, 'duyên': 2892, 'neo_đơn': 2893, 'cú': 2894, 'con_cả': 2895, 'chủng': 2896, 'loài': 2897, 'kì_lạ': 2898, 'què': 2899, 'cu': 2900, 'fe_hóa_trị': 2901, 'biết_mấy': 2902, 'maclenin': 2903, 'eagle': 2904, 'kiệt': 2905, 'pm': 2906, 'lamborghini': 2907, 'urus': 2908, 'lux': 2909, 'xám': 2910, '600': 2911, 'tối_tớ': 2912, 'pompadour': 2913, 'cắt': 2914, 'barrad': 2915, 'nlptại': 2916, 'vịmôn': 2917, 'châm_ngôn': 2918, 'huấn': 2919, 'có_ăn_không': 2920, 'đòi': 2921, 'nhân_tạo': 2922, 'giùm': 2923, 'thứ_bảy': 2924, 'hết_đời': 2925, 'phù_thủy': 2926, 'natural': 2927, 'neuron': 2928, 'khổ_cực': 2929, 'v': 2930, 'hóa': 2931, 'bazo': 2932, 'tác_dụng': 2933, 'oxit': 2934, 'góc_vuông': 2935, 'tam_giác_vuông': 2936, 'tư_bản': 2937, 'chủ_nghĩa': 2938, 'hàng_hoá': 2939, 'làm_thuê': 2940, 'thước_đo': 2941, 'hóachức': 2942, 'năng': 2943, 'trao_đổi': 2944, 'phương_tiện': 2945, 'vuông': 2946, 'xão': 2947, 'scarlett': 2948, 'johansson': 2949, 'ý_nghĩa': 2950, 'lươn_lẹo': 2951, 'trân': 2952, 'mùi': 2953, 'sòng': 2954, 'trăng': 2955, 'chơi_đùa': 2956, 'làm_sao': 2957, 'ngừng': 2958, 'đấu_tranh': 2959, 'gg': 2960, 'stamps': 2961, 'lít': 2962, 'xăng': 2963, 'ron': 2964, 'sênh': 2965, '5cm': 2966, 'thái_sơn': 2967, 'tím_hóa': 2968, 'phản_ứng': 2969, 'kết_tủa': 2970, 'h2so4': 2971, 'hcl': 2972, 'provjp': 2973, 'trứng': 2974, 'âm': 2975, '3888': 2976, 'lạ_vậy': 2977, 'what': 2978, 'bốc': 2979, 'ní': 2980, 'tàu_ngầm': 2981, 'chảnh': 2982, 'học_hành': 2983, 'dã_ngoại': 2984, 'quét': 2985, 'okey': 2986, 'happy': 2987, 'money': 2988, 'honey': 2989, 'gòi': 2990, 'hi_hi': 2991, 'tú': 2992, 'thích_vậy': 2993, '10000': 2994, '8đ': 2995, 'cúp': 2996, 'lôi_kéo': 2997, 'nothanks': 2998, 'zăn': 2999, 'aiiii': 3000, 'nhựt': 3001, 'mề': 3002, 'nư': 3003, 'sề': 3004, 'ề': 3005, 'ê': 3006, 'ghen': 3007, 'rút': 3008, 'lỡ': 3009, 'quác': 3010, 'uổng': 3011, 'đạo_hàm': 3012, 'challenge': 3013, 'khẩu_vị': 3014, 'bạch': 3015, 'hét': 3016, '“': 3017, '”': 3018, 'quánh': 3019, 'ô_kê': 3020, 'híu': 3021, 'trư': 3022, 'bát_giới': 3023, 'xinh_nhe': 3024, 'angle': 3025, 'phân': 3026, 'triệungày': 3027, 'ghẻ': 3028, 'nhoa': 3029, 'dô': 3030, 'hã': 3031, 'thận': 3032, 'drew': 3033, '2tr': 3034, 'dại': 3035, 'chụm': 3036, 'esport': 3037, 'sầu': 3038, 'riên': 3039, 'pía': 3040, 'kỷ_niệm': 3041, 'nước_ngọt': 3042, '300': 3043, 'cổ': 3044, 'năm_tháng': 3045, 'mỳ': 3046, 'quảng': 3047, 'yêu_mến': 3048, 'vô_vàn': 3049, 'mứt': 3050, 'rượu_vang': 3051, 'bản_địa': 3052, 'hiếu_khách': 3053, 'tiếp_đãi': 3054, 'người_nhà': 3055, 'bao_lâu': 3056, '350km': 3057, '80km': 3058, 'địa_danh': 3059, 'vú_sữa': 3060, 'lò_rèn': 3061, '64km': 3062, 'mợ': 3063, 'cây_số': 3064, 'cha_mẹ': 3065, 'cố': 3066, 'dai': 3067, 'biết_bao_nhiêu': 3068, 'kỉ_niệm': 3069, 'thơ_ấu': 3070, 'cứu': 3071, 'thân_thuộc': 3072, 'người_thân_thuộc': 3073, 'kính_mến': 3074, 'nhà_thờ': 3075, '1800': 3076, '100km': 3077, 'trứ_danh': 3078, 'di_tích': 3079, 'ấp': 3080, '1700': 3081, 'nhộn_nhịp': 3082, 'giao_thoa': 3083, 'văn_hoá': 3084, 'vĩnh': 3085, 'quê_mẹ': 3086, 'kì_quan': 3087, 'bánh_ú': 3088, 'cam_sành': 3089, 'thanh_trà': 3090, 'kè': 3091, 'thất_sơn': 3092, 'giáo': 3093, 'trồng': 3094, 'map': 3095, '172km': 3096, 'dầu': 3097, 'lái': 3098, 'thiêu': 3099, 'măng': 3100, 'nhâm': 3101, 'mưa_nắng': 3102, '30km': 3103, '86': 3104, 'đồi': 3105, 'cát': 3106, 'thức_ăn': 3107, '200km': 3108, 'dù_sao': 3109, 'mảnh': 3110, 'thép': 3111, 'thành_đồng': 3112, 'tơ': 3113, 'củ_mì': 3114, 'từ_trường': 3115, '50km': 3116, 'mông_lung': 3117, 'phụ_giúp': 3118, 'đại_nam': 3119, 'aeon': 3120, 'đồng_bằng': 3121, 'vội_vàng': 3122, 'chan': 3123, 'ơ_kìa': 3124, 'đua': 3125, 'lúa': 3126, 'thốt_nốt': 3127, 'châu_đốc': 3128, 'lụa': 3129, 'tân_châu': 3130, 'kênh': 3131, 'rạch': 3132, 'phật_di_lặt': 3133, 'quảng_ninh': 3134, '2000km': 3135, 'tttạp_hóa': 3136, 'trái': 3137, 'hải_dương': 3138, 'lạp_xưởng': 3139, 'gạo': 3140, 'nàng': 3141, 'dưa_hấu': 3142, 'sư_phạm': 3143, 'cẩm_viên': 3144, 'bạch_đằng': 3145, 'phèo': 3146, 'ai_nấy': 3147, 'rượu_nếp': 3148, 'xứ_sở': 3149, 'kẹo_dừa': 3150, 'thương_yêu': 3151, 'công_viên_chức': 3152, 'y_tá': 3153, 'đông_á': 3154, 'qua_lại': 3155, 'nhà_nội': 3156, 'nhỏ_lẻ': 3157, 'hội_đồng': 3158, 'tập_đoàn': 3159, 'nông_dân': 3160, 'los': 3161, 'angeles': 3162, 'hoàng': 3163, 'đế': 3164, 'áahihi': 3165, 'chị_em': 3166, 'vô_duyên': 3167, 'giao_du': 3168, 'công_nhân': 3169, 'tường': 3170, '1945': 3171, 'ceo': 3172, 'trợ_lý': 3173, 'hiếu_học': 3174, '1973': 3175, '48': 3176, '41': 3177, 'lụm': 3178, 'sọt': 3179, 'nói_vậy': 3180, 'đít': 3181, 'trump': 3182, 'tài_xế': 3183, 'nữ_công': 3184, 'gia_chánh': 3185, 'suốt': 3186, 'dũng': 3187, 'thuần': 3188, 'nhà_á': 3189, 'lằm': 3190, 'tại_gia': 3191, 'phi_hành_gia': 3192, 'na': 3193, 'cóa': 3194, '44': 3195, 'okk': 3196, 'nhì': 3197, 'đị': 3198, 'trán': 3199, 'cháo_lòng': 3200, 'ntt': 3201, 'kiếm_ăn': 3202, 'khôhủ': 3203, 'tiếu': 3204, 'bobayes': 3205, 'hut': 3206, 'dookki': 3207, 'busan': 3208, 'sốt': 3209, 'mật_ong': 3210, 'sốt_cay': 3211, 'rước': 3212, 'hiển': 3213, 'dàn': 3214, 'bia': 3215, 'đâu_thế': 3216, 'them': 3217, 'trùm': 3218, 'góc': 3219, 'quẹo': 3220, 'ngã': 3221, 'rẽ': 3222, 'fastfood': 3223, 'mcdonalds': 3224, '22a': 3225, 'đạo': 3226, 'ngũ': 3227, 'lão': 3228, '700000': 3229, 'ăn_chơi': 3230, 'sảy': 3231, '7h': 3232, 'tối_á': 3233, 'panda': 3234, 'chuối': 3235, 'chiên': 3236, 'nấm': 3237, 'canh': 3238, 'tiềm': 3239, 'sườn': 3240, 'đối_diện': 3241, 'okchúng': 3242, '2h': 3243, 'ik': 3244, 'làmhihi': 3245, 'okkie': 3246, 'okkk': 3247, 'trận': 3248, 'thuốc_tây': 3249, 'điii': 3250, 'nghêu': 3251, 'sò': 3252, 'di_cùng': 3253, 'hổng': 3254, 'now': 3255, 'chay': 3256, 'trồngn': 3257, 'trang_trại': 3258, 'chăn_nuôi': 3259, 'quý_hóa': 3260, 'hạn': 3261, 'dinh_dưỡng': 3262, 'trường_đời': 3263, 'cực_khổ': 3264, 'bảo_lưu': 3265, 'tui_học': 3266, 'sub': 3267, 'coures': 3268, 'thoi': 3269, 'môi_giới': 3270, 'bất_động_sản': 3271, 'thái_lan': 3272, 'học_môn': 3273, 'minhf': 3274, 'thích_môn': 3275, 'sơ_khảo': 3276, 'ngữ_pháp': 3277, 'khao': 3278, 'hạo': 3279, 'gáiahihi': 3280, 'ahihimình': 3281, 'trang_điểm': 3282, 'nón': 3283, 'ahhi': 3284, 'êyyyy': 3285, 'dammn': 3286, 'nhắc': 3287, 'mầm_non': 3288, 'danh_hiệu': 3289, 'phết': 3290, 'thạnh_nhá': 3291, 'phương_pháp': 3292, 'mã_hóa': 3293, 'khai_phá': 3294, 'tri_thức': 3295, '64': 3296, 'vách': 3297, 'tràn_lan': 3298, 'phức_tạp': 3299, '60k': 3300, 'thay_vì': 3301, 'a703': 3302, 'ngu_vậy': 3303, 'troll': 3304, 'buôn': 3305, 'ma_thuột': 3306, 'dược_học': 3307, 'dược_liệu': 3308, '823': 3309, 'd0502a': 3310, 'dở_môn': 3311, 'toà': 3312, 'mơ_ước': 3313, 'trường_hợp': 3314, 'computer': 3315, 'science': 3316, 'district': 3317, 'math': 3318, 'xuất_sắc': 3319, 'cs': 3320, 'rmit': 3321, 'khôngrất': 3322, '35': 3323, 'tóc': 3324, 'avenger': 3325, 'đẹp_đẽ': 3326, 'màu_sắc': 3327, 'chelsea': 3328, 'thể_lệ': 3329, 'maybe': 3330, 'bóng_bàn': 3331, 'kiếm_hiệp': 3332, 'billard': 3333, 'iot': 3334, 'cụ_thể_nào': 3335, 'rpg': 3336, 'tác_giả': 3337, 'johny': 3338, 'deep': 3339, 'justin': 3340, 'bieber': 3341, 'rb': 3342, 'pop': 3343, 'lord': 3344, 'the_ring': 3345, 'mes': 3346, 'cách_mạng': 3347, 'chế': 3348, 'bd': 3349, 'film': 3350, 'trí_tuệ': 3351, 'gái_tớ': 3352, 'wibu': 3353, 'tán_tỉnh': 3354, 'chiến_thuật': 3355, 'cổ_điển': 3356, 'đồng_quê': 3357, 'avatar': 3358, 'mạo_hiểm': 3359, 'ngôn': 3360, 'pho': 3361, 'transformers': 3362, 'isaac': 3363, 'lulu005': 3364, 'jav': 3365, 'animation': 3366, 'gánh': 3367, 'vai': 3368, 'thù_lù': 3369, 'with': 3370, 'blackpink': 3371, 'thậm': 3372, 'view': 3373, 'chả_giò': 3374, 'nhạc_cụ': 3375, 'phân_tích': 3376, 'cấu_tạo': 3377, 'âm_thanh': 3378, 'bản_nhạc': 3379, 'bún_bò': 3380, 'lắmmón': 3381, 'tình_cảm_ngôn': 3382, 'lofi': 3383, 'accoustic': 3384, 'cover': 3385, 'liz': 3386, 'yoga': 3387, 'phin': 3388, 'mavel': 3389, 'đời_sống': 3390, 'luộc': 3391, 'chấm': 3392, 'mắm_nêm': 3393, 'tiến_quân_ca': 3394, 'đồng_lòng': 3395, 'thưởng_thức': 3396, '600km': 3397, 'bánh_gối': 3398, 'qui': 3399, 'đền': 3400, 'thờ': 3401, 'diện_tích': 3402, 'đất_liền': 3403, 'chữ': 3404, 'dữ_vậy': 3405, 'cửu': 3406, 'nồng_nhiệt': 3407, 'campuchia': 3408, 'tháp': 3409, 'giải_lao': 3410, 'cách_ly': 3411, '1500km': 3412, '2tiếng': 3413, 'miến': 3414, 'lươn': 3415, 'cu_đơ': 3416, 'xéo': 3417, 'quảng_trường': 3418, 'quyết': 3419, 'bia_tươi': 3420, 'né': 3421, 'bàu': 3422, 'rịa': 3423, 'bà_rịa': 3424, 'vĩnh_long': 3425, 'cóviệt': 3426, 'di_sản': 3427, 'vinh': 3428, 'mến_yêu': 3429, '1398': 3430, 'quanh_năm': 3431, '300km': 3432, 'ngày_nay': 3433, 'quần_đảo': 3434, 'trường_sa': 3435, 'welcome': 3436, 'chào_đón': 3437, 'đường_cát': 3438, 'hội_trường': 3439, 'hái': 3440, 'dốc': 3441, 'lượm': 3442, 'hạt': 3443, 'cao_su': 3444, 'bạt_ngàn': 3445, 'tây_ninh': 3446, 'cụ': 3447, 'văn_chánh': 3448, 'tràm': 3449, 'lăng_cụ': 3450, 'phó_bản': 3451, 'sinh_sắc': 3452, 'tháp_mười': 3453, 'ummình': 3454, 'thápmình': 3455, 'hộinhưng': 3456, 'waooonếu': 3457, 'ummmhy': 3458, 'vọng': 3459, 'hướng_dẫn_viên': 3460, 'rồithật': 3461, 'rg': 3462, 'vùng_biển': 3463, 'nước_mắm': 3464, '900km': 3465, 'dang': 3466, 'hoc': 3467, 'tat': 3468, 'nhien': 3469, 'nem_lụi': 3470, 'vả': 3471, 'tré': 3472, 'bánh_bèo': 3473, 'bột': 3474, 'lọc': 3475, 'bánh_nậm': 3476, 'kinh_thành': 3477, 'thiên_mụ': 3478, 'alo': 3479, 'is': 3480, 'nôi': 3481, 'gàn': 3482, 'khoe': 3483, 'đại_thắng': 3484, 'bắc_ninh': 3485, 'quan_họ': 3486, 'nói_dối': 3487, 'dón': 3488, 'ghi_nhớ': 3489, 'trễ_vậy': 3490, 'đánh_bài': 3491, 'kéo_dài': 3492, 'tụ_tập': 3493, '25âm': 3494, 'lướt_sóng': 3495, 'quê_á': 3496, 'kho_tàu': 3497, 'bạt': 3498, 'lung_tung': 3499, 'ngơi': 3500, 'đầu_óc': 3501, 'tháng_giêng': 3502, 'xóm': 3503, 'tân_sửu': 3504, 'khoang': 3505, 'cám_ơn': 3506, 'dòng_họ': 3507, 'chỉ_định': 3508, 'quà_bánh': 3509, 'giải_phóng': 3510, 'quê_nội': 3511, 'ummmình': 3512, 'kê_khai': 3513, 'thân_nhiệt': 3514, 'bến_xe': 3515, '49': 3516, 'tứ_phương': 3517, 'lau_chùi': 3518, 'bụi': 3519, 'táo_quân': 3520, 'xui': 3521, 'dài_dài': 3522, '622021': 3523, '2122021': 3524, '2142021': 3525, 'óc': 3526, 'quây_quần': 3527, 'quý_giá': 3528, 'vượt': 3529, 'vô_cực': 3530, 'tràn': 3531, 'bộ_nhớ': 3532, 'chẳng_những': 3533, 'búp_bê': 3534, 'khủng_long': 3535, 'siêu_nhân': 3536, 'gao': 3537, 'xa_xưa': 3538, 'vô_tận': 3539, '12010': 3540, '2011': 3541, 'giấc_ngủ': 3542, 'kết': 3543, 'trực_thuộc': 3544, 'đùa': 3545, 'đơn_vị': 3546, 'cổ_tay_phải': 3547, 'cảm_súc': 3548, 'khái_niệm': 3549, 'định_nghĩa': 3550, 'robotxyz': 3551, 'kiến_tạo': 3552, 'xuất_xưởng': 3553, 'chứng_minh': 3554, 'tác_phẩm': 3555, 'alex': 3556, 'amazon': 3557, 'trò_chuyện': 3558, 'tám': 3559, 'a7': 3560, 'b1': 3561, 'c3': 3562, 'd8': 3563, 'e6': 3564, 'f4': 3565, 'h5': 3566, '32': 3567, 'cờ': 3568, '12h': 3569, 'cộng_trừ': 3570, 'đề': 3571, 'phép_tính': 3572, 'đáp_án': 3573, 'tiến_hóa': 3574, 'dần': 3575, 'có_hạn': 3576, 'tác': 3577, 'vụ': 3578, 'karen': 3579, 'giá_thành': 3580, 'xe_hơi': 3581, 'kính': 3582, 'cảm': 3583, 'khóc': 3584, 'toán_học': 3585, 'sinh_vật_học': 3586, 'cảnh_báo': 3587, 'nguy_hiểm': 3588, 'nguyên_liệu': 3589, 'cánh_gà_nước_mắm': 3590, 'ớt': 3591, 'kín': 3592, '121': 3593, 'đối_xứng': 3594, 'cấu_trúc': 3595, 'thực_thể_thống_nhất': 3596, 'giải_thích': 3597, 'bản_chất': 3598, 'vật_lý_do': 3599, 'albert': 3600, 'einstein': 3601, '1905': 3602, '1915': 3603, '1916': 3604, 'hẹp': 3605, 'hành': 3606, 'hiện_tượng': 3607, 'quan_sát_viên': 3608, 'tương_đối_với': 3609, 'quán_tính': 3610, 'gia_tốc': 3611, 'bắt_đầu_từ': 3612, 'khác_biệt': 3613, 'cơn': 3614, 'nala': 3615, 'hình_cầu': 3616, 'chời': 3617, 'dể': 3618, 'tiếp_tân': 3619, 'chế_tạo': 3620, 'tân_sinh_viên': 3621, 'trơn_tru': 3622, 'hình_thành': 3623, 'tưởng': 3624, 'òm': 3625, 'tận_dụng': 3626, 'thẳng_thắn': 3627, 'nghỉ_ngơi': 3628, 'đấm': 3629, 'tâm': 3630, 'tơi': 3631, 'toàn_thân': 3632, 'ăn_năn': 3633, 'xưởng': 3634, '1233311': 3635, 'củ_quả': 3636, 'hack': 3637, 'order': 3638, 'cánh_cụt': 3639, 'thông_thoáng': 3640, 'cao_điểm': 3641, 'số_nguyên_tố': 3642, 'nguyên_nhân': 3643, 'mặt_trăng': 3644, 'elon': 3645, 'musk': 3646, 'kinh_thánh': 3647, 'skyler': 3648, 'trên_dưới': 3649, 'tạnh': 3650, 'cử': 3651, 'đô_la': 3652, 'chém': 3653, 'noo': 3654, 'phước_thịnh': 3655, 'nhớ_đời': 3656, 'bổng': 3657, 'dc': 3658, 'comic': 3659, 'hbd': 3660, 'phẩm': 3661, 'bom': 3662, 'giải_cứu_thế_giới': 3663, 'spoiler': 3664, 'series': 3665, 'gay_cấn': 3666, 'csgo': 3667, 'trở_lại': 3668, 'tói': 3669, 'gam': 3670, 'se': 3671, 'giao_hữu': 3672, 'hard': 3673, 'đi_vậy': 3674, '19h': 3675, 'tch': 3676, 'đâu_đấy': 3677, 'đểu': 3678, 'tiến_triển': 3679, 'bốn4': 3680, 'vương': 3681, 'plaza': 3682, 'ăng': 3683, 'bắp': 3684, 'tùy_bạn': 3685, 'thái': 3686, '14giờ': 3687, 'tương_đương': 3688, 'tiết': 3689, 'tổng_thời_gian': 3690, 'năn_nỉ': 3691, 'kí_tên': 3692, 'biên_bản': 3693, 'a003': 3694, 'ăn_mặc': 3695, 'phong_cách': 3696, 'vô_tình': 3697, 'cố_ý': 3698, 'show': 3699, 'hoãn': 3700, 'nhà_xe': 3701, 'trạng': 3702, 'xem_lại': 3703, 'okvậy': 3704, 'okcảm': 3705, 'ơn': 3706, 'movie': 3707, 'manga': 3708, 'buồn_ngủ': 3709, 'genshin': 3710, 'impact': 3711, 'minecraft': 3712, 'mount': 3713, 'and': 3714, 'witcher': 3715, 'bằn': 3716, 'tàu': 3717, '2016': 3718, 'teo': 3719, 'mặc_định': 3720, 'lữa': 3721, 'tàu_bay': 3722, 'shuttle': 3723, 'coop': 3724, 'màn': 3725, 'nhận_diện': 3726, 'nổi_giận': 3727, 'giết': 3728, 'suất': 3729, 'đội': 3730, 'studios': 3731, 'robert': 3732, 'downey': 3733, 'jr': 3734, 'prison': 3735, 'break': 3736, 'drama': 3737, 'doraemon': 3738, 'netflix': 3739, 'hài_kịch': 3740, '8h': 3741, 'cómình': 3742, 'lmht': 3743, 'cóđó': 3744, 'bấm': 3745, 'phiền': 3746, 'chì': 3747, 'vấp': 3748, 'yếu_tố': 3749, 'saw': 3750, 'kẻ': 3751, 'hủy_diệt': 3752, 'crash': 3753, 'landing': 3754, 'on': 3755, 'extracurricular': 3756, 'avendture': 3757, 'bắt_đầu': 3758, 'hoà_bình': 3759, '17h': 3760, 'thor': 3761, 'nhắm': 3762, 'triễn': 3763, 'giải_quyết': 3764, 'công_nghệ_teky': 3765, 'cơ_mà': 3766, 'agency': 3767, 'liên_tục': 3768, 'húp': 3769, 'bộ_phận': 3770, 'phe': 3771, 'cận_kề': 3772, 'hối_thúc': 3773, 'không_thể_nào': 3774, 'đành': 3775, 'trông_mong': 3776, 'bình_á': 3777, '8tiếng': 3778, 'dev': 3779, 'phúc_lợi': 3780, 'devops': 3781, 'vl': 3782, 'mong_muốn': 3783, 'àm': 3784, 'tin_học': 3785, 'kase': 3786, 'edu': 3787, 'nhàn': 3788, 'nhạ': 3789, 'tự_do': 3790, 'vỉa_hè': 3791, 'muộn': 3792, 'dĩ': 3793, 'trọng': 3794, 'phụng': 3795, 'nụ': 3796, 'cười': 3797, 'nhà_thơ': 3798, 'hoặc_họa_sĩ': 3799, 'giáo_sư': 3800, 'idea': 3801, 'qa': 3802, 'doanh_nhân': 3803, 'gameloft': 3804, 'kinh_nghiệm': 3805, 'fullstack': 3806, 'làm_biếng': 3807, 'phụ_gia_đình': 3808, '5000': 3809, 'côg': 3810, 'hacker': 3811, 'chinh_phục': 3812, 'định_hướng': 3813, 'gầm': 3814, 'nghìn_đô': 3815, 'phi_công': 3816, 'ảnh_hưởng': 3817, 'nghệ_sĩ': 3818, 'ban_ngày': 3819, 'sân_khấu': 3820, 'biểu_diễn': 3821, 'stack': 3822, 'một_họa_sĩ': 3823, 'nghỉ_việc': 3824, 'sa_thải': 3825, 'kìm_nén': 3826, 'coach': 3827, '19tr500': 3828, 'fpts': 3829, 'mặt_bằng': 3830, 'phiền_phức': 3831, 'tester': 3832, 'khế': 3833, 'tràn_ngập': 3834, 'dỡ': 3835, 'thiết_lặp': 3836, 'lưu_trữ': 3837, 'highlands': 3838, 'tiếp_viên': 3839, 'hàng_không': 3840, 'mãn_nguyện': 3841, 'ngỡ': 3842, 'erp': 3843, 'tổ': 3844, 'chế_độ': 3845, 'vinmart': 3846, 'giám_sát': 3847, 'mentor': 3848, 'hướng_dẫn_nhiệt_tình': 3849, 'xét_duyệt': 3850, 'business': 3851, 'analyst': 3852, 'dự_án': 3853, 'nhiềunhưng': 3854, 'hẳnanh': 3855, 'khôngcông': 3856, 'ty': 3857, '2km': 3858, '15p': 3859, 'cyberlogitec': 3860, 'cộng_hòa': 3861, 'dồn_dập': 3862, 'gút': 3863, 'leader': 3864, 'làm_khó': 3865, 'ây': 3866, 'câụ': 3867, 'nền': 3868, 'cớ_sao': 3869, 'hứng_khởi': 3870, 'mắng': 3871, 'developer': 3872, 'api': 3873, 'hiếm': 3874, 'áo_tắm': 3875, 'tùy_mày': 3876, 'tổn': 3877, 'linh_hồn': 3878, 'vùng_cao': 3879, 'dã_man': 3880, 'nôn': 3881, 'hú': 3882, 'hạn_chế': 3883, 'dương_lịch': 3884, 'áo_ấm': 3885, '5ngày': 3886, '4đêm': 3887, 'rối': 3888, 'như_thường': 3889, 'nẵng': 3890, 'leo': 3891, 'tháp_bigben': 3892, 'singapore': 3893, 'tất_niên': 3894, 'khoai_lang_thang': 3895, 'hoành_hành': 3896, 'quốc_khánh': 3897, 'là_đà': 3898, 'mộng_mơ': 3899, 'lối': 3900, 'đượcthú': 3901, 'vị': 3902, 'ranhưng': 3903, 'àmình': 3904, 'rồimình': 3905, 'đấynhớ': 3906, 'kéo': 3907, 'êi': 3908, 'muon': 3909, 'de': 3910, 'di_du': 3911, 'tiếp_tục': 3912, 'khách_sạn': 3913, 'tự_chủ_động': 3914, 'um': 3915, 'hè_vậy': 3916, 'vote': 3917, 'mực': 3918, 'vinpearl': 3919, 'ăngcovat': 3920, 'cap': 3921, 'ohm': 3922, 'làm_phước': 3923, 'phóng': 3924, 'sanh': 3925, 'ưa_chuộng': 3926, 'nâng': 3927, '399k': 3928, 'recommend': 3929, 'cậumuốn': 3930, 'phân_vân': 3931, 'promax': 3932, 's21': 3933, 'ultra': 3934, 'hm': 3935, 'mazzola': 3936, '150k': 3937, '99k': 3938, 'quần_áo_khoác': 3939, 'hoodie': 3940, 'tối_ưu': 3941, 'tùy_chỉnh': 3942, 'fps': 3943, 'phổ_thông': 3944, 'quần_jean': 3945, 'len': 3946, 'dày_dặn': 3947, 'smlxl': 3948, '299k': 3949, 'xẽ': 3950, '50000vnđ': 3951, 'giàu_vậy': 3952, 'ưng': 3953, 'gọn_nhẹ': 3954, 'cầm_hơi': 3955, 'nặng_tay': 3956, '128gb': 3957, 'dứt': 3958, 'didongviet': 3959, 'ổn_áp': 3960, 'redmi': 3961, 'note': 3962, '9s': 3963, 'áo_quần': 3964, 'mún': 3965, 'hi': 3966, 'ngon_ăn': 3967, 'hd': 3968, 'pin': 3969, 'limited': 3970, 'edition': 3971, 'chăng': 3972, '69': 3973, 'chuộng': 3974, 'rằng': 3975, 'quý_khách': 3976, 'nguồn_gốc': 3977, 'cotton': 3978, 'balenciaga': 3979, 'phong_vũ': 3980, 'hàn_quốc': 3981, 'minmin': 3982, 'store': 3983, 'vảo': 3984, 'xô': 3985, 'riêng_biệt': 3986, 'superstar': 3987, 'ultrboost': 3988, 'levono': 3989, 'cứng': 3990, 'dép': 3991, 'bàn_phím': 3992, 'hơn_nữa': 3993, 'sẵn_lòng': 3994, 'quần_âu': 3995, '630k': 3996, 'gọn': 3997, 'tuy_nhiên': 3998, 'đặt_hàng': 3999, 'mắt_kính': 4000, 'bệnh_viện': 4001, 'biên_phủ': 4002, 'zombieshop': 4003, 'áo_khoác': 4004, 'yameshop': 4005, 'phải_chăng': 4006, 'hổ': 4007, 'new': 4008, 'box': 4009, 'copy': 4010, 'tshirt': 4011, 'nội_thành': 4012, 'ngoại_thành': 4013, '30k': 4014, 'jordan1': 4015, 'hình_ảnh': 4016, '512gb': 4017, 'khe': 4018, 'sài_laptop': 4019, 'cân_bằng': 4020, 'palm': 4021, 'tree': 4022, 'shirt': 4023, '480k': 4024, 'đem_hóa_đơn': 4025, 'dạng': 4026, 'lót': 4027, '325': 4028, '225': 4029, 'mướt': 4030, 'dưỡng': 4031, 'chớp_mắt': 4032, 'shoppe': 4033, 'flash': 4034, 'vô_địch': 4035, 'dấu_nhắc_nhở': 4036, 'tích_cực': 4037, 'mua_bán': 4038, '1111': 4039, 'friday': 4040, '110': 4041, 'gdtc': 4042, 'thực_hành': 4043, 'tính_năng': 4044, 'ngành_nghề': 4045, 'nam_nữ': 4046, 'sdt': 4047, 'vận_đơn': 4048, 'tình_trạng': 4049, 'check': 4050, '8g': 4051, 'enchanteur': 4052, 'moon': 4053, '7eleven': 4054, 'khung': 4055, 'điền': 4056, '100m2': 4057, 'dao': 4058, 'dộng': 4059, 'đường_xá': 4060, 'sang_trọng': 4061, '18h': 4062, 'dạshop': 4063, 'dạhiện': 4064, 'j7': 4065, 'dạkhi': 4066, 'balo': 4067, 'dán': 4068, 'trả_góp': 4069, 'lãi_suất': 4070, '470': 4071, 'đòi_hỏi': 4072, 'tối_ưu_hóa': 4073, 'aaa': 4074, '16gb': 4075, 'thánh': 4076, 'ai_ai': 4077, 'lắp': 4078, 'rắn': 4079, 'sata3': 4080, 'truyền_tải': 4081, 'nhanh_chóng': 4082, 'tính_mạng': 4083, 'm2': 4084, 'pcie': 4085, '120k': 4086, 'nội_địa': 4087, '15k': 4088, 'tỉnh_lẻ': 4089, '512': 4090, 'techcombank': 4091, 'vans': 4092, 'điện_thoại_oppo': 4093, 'đường_phố': 4094, 'levis': 4095, 'ip': 4096, 'túi': 4097, 'cónhưng': 4098, 'tổng_đơn': 4099, '1500k': 4100, 'trị_giá': 4101, 'tổng_hóa_đơn': 4102, 'tổng_tiền': 4103, 'g102': 4104, 'trâu_bò': 4105, 'jeans': 4106, 'smnartphone': 4107, 'hiện_giờ': 4108, 'chân_thực': 4109, 'hiệu_ứng': 4110, 'chânt': 4111, 'thực': 4112, 'lầm': 4113, '300k': 4114, 'ưu_điểm': 4115, 'cách_tân': 4116, '500000': 4117, 'chúng_tớ': 4118, 'tcnh': 4119, 'hoy': 4120, 'lưới': 4121, 'tò_mò': 4122, 'bật_mí': 4123, 'nhỏ_nhắn': 4124, 'tập_trung_học_tập': 4125, 'sánh_vai': 4126, 'cường_quốc': 4127, 'dân_tộc_người': 4128, 'trinh': 4129, 'cởi_mở': 4130, 'rùi': 4131, 'dùm': 4132, 'bọc': 4133, 'hi_sinh': 4134, 'làm_chủ': 4135, 'rộng_lượng': 4136, 'cảm_thông': 4137, 'mnhf': 4138, 'cảm_hứng': 4139, 'diệu': 4140, 'bộ_đội': 4141, 'múi': 4142, 'night': 4143, 'stand': 4144, 'troai': 4145, 'perfect': 4146, 'quen_biết': 4147, '67': 4148, 'quát': 4149, 'iu': 4150, 'phái': 4151, 'mẫu_giáo': 4152, 'nhờn': 4153, 'nữa_là': 4154, 'quậy': 4155, 'tất_thành': 4156, 'cầu_kì': 4157, 'sôi': 4158, 'già': 4159, 'gân': 4160, 'quỹ_đen': 4161, 'hôn_nhân': 4162, 'huhuhuhuhu': 4163, 'bền_vững': 4164, 'nhẫn_nhịn': 4165, 'trân_trọng': 4166, 'cạo': 4167, 'giỏi_giang': 4168, 'dữ': 4169, 'làm_chi_vậy': 4170, 'dạ_vậy': 4171, 'desktop': 4172, 'bạn_đời': 4173, 'quan_trọng_hóa': 4174, 'để_mắt': 4175, 'hi_vọng': 4176, 'vô_số': 4177, 'tâm_hồn': 4178, 'mỏng_manh': 4179, 'trắng_cơ': 4180, 't_kiếm': 4181, 'hhihi': 4182, 'info': 4183, 'gương_mặt': 4184, 'hỏi_thăm': 4185, 'cuộc_gọi': 4186, 'trể': 4187, 'bệnh': 4188, 'hihitớ': 4189, 'đấycó': 4190, 'lẽ': 4191, 'kó': 4192, '20t': 4193, 'blog': 4194, 'instagram': 4195, 'méo': 4196, 'miết': 4197, 'ghê': 4198, 'xxx': 4199, 'tạm_thời': 4200, 'câuk': 4201, 'can_đảm': 4202, 'chúc_mừng': 4203, 'mặt_mày': 4204, 'mụn': 4205, 'tài_giỏi': 4206, 'thành_đạt': 4207, 'theo_đuổi': 4208}\n"
          ],
          "name": "stdout"
        }
      ]
    },
    {
      "cell_type": "markdown",
      "metadata": {
        "id": "Se1WzXpBmswe"
      },
      "source": [
        "## 2.7 Index2Word"
      ],
      "id": "Se1WzXpBmswe"
    },
    {
      "cell_type": "markdown",
      "metadata": {
        "id": "_DPg1c8rn0K-"
      },
      "source": [
        "### 2.7.1 Question"
      ],
      "id": "_DPg1c8rn0K-"
    },
    {
      "cell_type": "code",
      "metadata": {
        "id": "CpvA6afMmwgM"
      },
      "source": [
        "index2word_question = {v:k for k, v in word2index_input_question.items()}"
      ],
      "id": "CpvA6afMmwgM",
      "execution_count": null,
      "outputs": []
    },
    {
      "cell_type": "markdown",
      "metadata": {
        "id": "1CHRSBdfn3Ak"
      },
      "source": [
        "### 2.7.2 Answer"
      ],
      "id": "1CHRSBdfn3Ak"
    },
    {
      "cell_type": "code",
      "metadata": {
        "id": "anMVQpivn9t9"
      },
      "source": [
        "index2word_answer = {v:k for k, v in word2index_output_answer.items()}"
      ],
      "id": "anMVQpivn9t9",
      "execution_count": null,
      "outputs": []
    },
    {
      "cell_type": "markdown",
      "metadata": {
        "id": "lKdha0ByjqcB"
      },
      "source": [
        "## 2.8 Padding"
      ],
      "id": "lKdha0ByjqcB"
    },
    {
      "cell_type": "code",
      "metadata": {
        "id": "W2N_hvVBjsLG"
      },
      "source": [
        "from keras.preprocessing.sequence import pad_sequences"
      ],
      "id": "W2N_hvVBjsLG",
      "execution_count": null,
      "outputs": []
    },
    {
      "cell_type": "markdown",
      "metadata": {
        "id": "vIn7rJsijwFN"
      },
      "source": [
        "### 2.8.1 Question"
      ],
      "id": "vIn7rJsijwFN"
    },
    {
      "cell_type": "code",
      "metadata": {
        "colab": {
          "base_uri": "https://localhost:8080/"
        },
        "id": "EMchFjKvj1bG",
        "outputId": "64c21165-fe00-45cc-d9f7-199645e80b5b"
      },
      "source": [
        "encoder_question_sequences = pad_sequences(input_question_seq, \n",
        "                                           maxlen=MAX_QUESTION_LEN,\n",
        "                                           dtype='int32')\n",
        "print(\"encoder_question_sequences.shape:\", encoder_question_sequences.shape)\n",
        "print(\"encoder_question_sequences[0]:\", encoder_question_sequences[0])"
      ],
      "id": "EMchFjKvj1bG",
      "execution_count": null,
      "outputs": [
        {
          "output_type": "stream",
          "text": [
            "encoder_question_sequences.shape: (5769, 76)\n",
            "encoder_question_sequences[0]: [  0   0   0   0   0   0   0   0   0   0   0   0   0   0   0   0   0   0\n",
            "   0   0   0   0   0   0   0   0   0   0   0   0   0   0   0   0   0   0\n",
            "   0   0   0   0   0   0   0   0   0   0   0   0   0   0   0   0   0   0\n",
            "   0   0   0   0   0   0   0   0   0   0   0   0   0   0   0   0   0  26\n",
            "   5 530 699   2]\n"
          ],
          "name": "stdout"
        }
      ]
    },
    {
      "cell_type": "markdown",
      "metadata": {
        "id": "2EAMUNWgjwj_"
      },
      "source": [
        "### 2.8.2 Answer"
      ],
      "id": "2EAMUNWgjwj_"
    },
    {
      "cell_type": "code",
      "metadata": {
        "colab": {
          "base_uri": "https://localhost:8080/"
        },
        "id": "o_OCpk2Hj_NG",
        "outputId": "23d41c53-fb23-4271-d656-2f4e11a2d841"
      },
      "source": [
        "decoder_answer_sequences = pad_sequences(input_answer_seq,\n",
        "                                         maxlen=MAX_ANSWER_LEN, \n",
        "                                         dtype='int32', \n",
        "                                         padding='post', \n",
        "                                         truncating='post')\n",
        "print(\"decoder_answer_sequences.shape:\", decoder_answer_sequences.shape)\n",
        "print(\"decoder_answer_sequences[0]:\", decoder_answer_sequences[0])"
      ],
      "id": "o_OCpk2Hj_NG",
      "execution_count": null,
      "outputs": [
        {
          "output_type": "stream",
          "text": [
            "decoder_answer_sequences.shape: (5769, 112)\n",
            "decoder_answer_sequences[0]: [   1  165 1194    5  872  194    0    0    0    0    0    0    0    0\n",
            "    0    0    0    0    0    0    0    0    0    0    0    0    0    0\n",
            "    0    0    0    0    0    0    0    0    0    0    0    0    0    0\n",
            "    0    0    0    0    0    0    0    0    0    0    0    0    0    0\n",
            "    0    0    0    0    0    0    0    0    0    0    0    0    0    0\n",
            "    0    0    0    0    0    0    0    0    0    0    0    0    0    0\n",
            "    0    0    0    0    0    0    0    0    0    0    0    0    0    0\n",
            "    0    0    0    0    0    0    0    0    0    0    0    0    0    0]\n"
          ],
          "name": "stdout"
        }
      ]
    },
    {
      "cell_type": "code",
      "metadata": {
        "colab": {
          "base_uri": "https://localhost:8080/"
        },
        "id": "vujz-jKGj__2",
        "outputId": "d3229c8e-6b7a-4d15-af47-c72d9e8c28da"
      },
      "source": [
        "decoder_output_sequences = pad_sequences(output_answer_seq,\n",
        "                                         maxlen=MAX_ANSWER_LEN, \n",
        "                                         dtype='int32', \n",
        "                                         padding='post', \n",
        "                                         truncating='post')\n",
        "print(\"decoder_output_sequences.shape:\", decoder_output_sequences.shape)\n",
        "print(\"decoder_output_sequences[0]:\", decoder_output_sequences[0])"
      ],
      "id": "vujz-jKGj__2",
      "execution_count": null,
      "outputs": [
        {
          "output_type": "stream",
          "text": [
            "decoder_output_sequences.shape: (5769, 112)\n",
            "decoder_output_sequences[0]: [ 165 1194    5  872  194    2    0    0    0    0    0    0    0    0\n",
            "    0    0    0    0    0    0    0    0    0    0    0    0    0    0\n",
            "    0    0    0    0    0    0    0    0    0    0    0    0    0    0\n",
            "    0    0    0    0    0    0    0    0    0    0    0    0    0    0\n",
            "    0    0    0    0    0    0    0    0    0    0    0    0    0    0\n",
            "    0    0    0    0    0    0    0    0    0    0    0    0    0    0\n",
            "    0    0    0    0    0    0    0    0    0    0    0    0    0    0\n",
            "    0    0    0    0    0    0    0    0    0    0    0    0    0    0]\n"
          ],
          "name": "stdout"
        }
      ]
    },
    {
      "cell_type": "markdown",
      "metadata": {
        "id": "03741ed2"
      },
      "source": [
        "# 3. Build Seq2Seq"
      ],
      "id": "03741ed2"
    },
    {
      "cell_type": "markdown",
      "metadata": {
        "id": "49102edf"
      },
      "source": [
        "## 3.1 Word Embedding"
      ],
      "id": "49102edf"
    },
    {
      "cell_type": "code",
      "metadata": {
        "colab": {
          "base_uri": "https://localhost:8080/"
        },
        "id": "e22ed7d3",
        "outputId": "00305578-f121-47ac-98d7-65db81afe5a7"
      },
      "source": [
        "!pip install --upgrade gensim\n",
        "from gensim.models import Word2Vec"
      ],
      "id": "e22ed7d3",
      "execution_count": null,
      "outputs": [
        {
          "output_type": "stream",
          "text": [
            "Requirement already up-to-date: gensim in /usr/local/lib/python3.7/dist-packages (4.0.1)\n",
            "Requirement already satisfied, skipping upgrade: numpy>=1.11.3 in /usr/local/lib/python3.7/dist-packages (from gensim) (1.19.5)\n",
            "Requirement already satisfied, skipping upgrade: scipy>=0.18.1 in /usr/local/lib/python3.7/dist-packages (from gensim) (1.4.1)\n",
            "Requirement already satisfied, skipping upgrade: smart-open>=1.8.1 in /usr/local/lib/python3.7/dist-packages (from gensim) (5.0.0)\n"
          ],
          "name": "stdout"
        }
      ]
    },
    {
      "cell_type": "code",
      "metadata": {
        "id": "ba69bb05"
      },
      "source": [
        "# Init w2v model\n",
        "model_w2v = Word2Vec(sentences=training_sentences, vector_size=EMBEDDING_DIM, window=5, min_count=1, workers=4)"
      ],
      "id": "ba69bb05",
      "execution_count": null,
      "outputs": []
    },
    {
      "cell_type": "markdown",
      "metadata": {
        "id": "8ZnTjaVslTje"
      },
      "source": [
        "### 3.1.1 Embedding word in vocabulary"
      ],
      "id": "8ZnTjaVslTje"
    },
    {
      "cell_type": "code",
      "metadata": {
        "colab": {
          "base_uri": "https://localhost:8080/"
        },
        "id": "8ebb8524",
        "outputId": "0c21a320-c6f2-494e-89d8-1e5493b72542"
      },
      "source": [
        "# Store word with its vector\n",
        "embedding_dictionary = {}\n",
        "\n",
        "invalid_word = []\n",
        "for word in vocabs:\n",
        "    if word in model_w2v.wv:\n",
        "        embedding_dictionary[word] = model_w2v.wv[word]\n",
        "    else:\n",
        "        invalid_word.append(word)\n",
        "        \n",
        "print(\"Số từ không thể embedding: {}\".format(len(invalid_word)))"
      ],
      "id": "8ebb8524",
      "execution_count": null,
      "outputs": [
        {
          "output_type": "stream",
          "text": [
            "Số từ không thể embedding: 0\n"
          ],
          "name": "stdout"
        }
      ]
    },
    {
      "cell_type": "code",
      "metadata": {
        "id": "61eda970"
      },
      "source": [
        "# Define embedding matrix for Embedding layer weights\n",
        "# Embedding matrix store index of word and corresponding vector\n",
        "NUM_WORDS_QUESTION = min(VOCAB_SIZE, len(word2index_input_question)+1)\n",
        "embedding_matrix = np.zeros((NUM_WORDS_QUESTION, EMBEDDING_DIM))\n",
        "for word, index in word2index_input_question.items():\n",
        "    embedding_vector = embedding_dictionary[word]\n",
        "    if embedding_vector is not None:\n",
        "        embedding_matrix[index] = embedding_vector"
      ],
      "id": "61eda970",
      "execution_count": null,
      "outputs": []
    },
    {
      "cell_type": "code",
      "metadata": {
        "colab": {
          "base_uri": "https://localhost:8080/"
        },
        "id": "fcbf0423",
        "outputId": "4b10aa65-9eb4-41bc-9d0d-456402f0384a"
      },
      "source": [
        "print(embedding_matrix.shape)"
      ],
      "id": "fcbf0423",
      "execution_count": null,
      "outputs": [
        {
          "output_type": "stream",
          "text": [
            "(2587, 100)\n"
          ],
          "name": "stdout"
        }
      ]
    },
    {
      "cell_type": "code",
      "metadata": {
        "colab": {
          "base_uri": "https://localhost:8080/"
        },
        "id": "a8d38fc5",
        "outputId": "68719f48-d47c-4a59-9864-7d0d3df7e551"
      },
      "source": [
        "print(embedding_dictionary[\"đánh_lộn\"])"
      ],
      "id": "a8d38fc5",
      "execution_count": null,
      "outputs": [
        {
          "output_type": "stream",
          "text": [
            "[-1.1747451e-03 -8.1056878e-03 -1.5166530e-05 -4.1199885e-03\n",
            "  2.6139882e-03  1.2133471e-03 -8.8324258e-03  9.7193932e-03\n",
            " -3.3224183e-03  2.8934425e-03 -2.1009580e-03  3.6543193e-03\n",
            " -5.3213129e-04  6.8166768e-03 -6.6909627e-03 -8.0184396e-03\n",
            "  6.0483222e-03  9.7630816e-03 -7.0902091e-03 -4.4768234e-03\n",
            " -2.4512439e-04 -7.5040096e-03  1.5888256e-03  3.4120660e-03\n",
            "  9.8221097e-03 -6.4577954e-03 -2.3988362e-03 -1.4874383e-03\n",
            "  6.1928909e-03 -7.7595226e-03  3.6042319e-03 -7.5524845e-03\n",
            "  7.2701210e-03  1.3469509e-03 -5.6407261e-03  3.9834874e-03\n",
            "  5.9052748e-03 -6.1242972e-03 -8.9141577e-03  5.2321255e-03\n",
            " -6.3295965e-04 -2.7276517e-04  9.3703270e-03 -1.1062745e-02\n",
            " -6.0980469e-03 -8.3753094e-04  2.1622747e-03 -8.4941443e-03\n",
            "  6.2874849e-03  1.0713415e-02 -7.3231054e-03  5.6304815e-03\n",
            " -1.0202049e-02  7.7575557e-03 -8.5523752e-03 -2.4530671e-03\n",
            "  1.0686747e-03  1.6709305e-03 -9.7355759e-03 -4.4516935e-03\n",
            " -9.6339351e-03 -1.0005688e-02 -3.1063759e-03  5.8684982e-03\n",
            " -5.2263872e-03 -3.9840341e-03 -9.0173818e-03 -3.7011257e-03\n",
            " -6.8908050e-03  2.0979065e-03  7.2008022e-03  1.0179045e-02\n",
            " -1.2630509e-05 -9.2887552e-03  3.0451724e-03 -4.6390775e-03\n",
            " -2.1027948e-03  2.5006724e-03 -5.5628433e-03  6.7412364e-03\n",
            "  5.9753377e-03 -5.1818676e-03  8.4993131e-03  1.1821563e-02\n",
            " -1.0139807e-02 -8.3513027e-03 -7.1450174e-03  1.7658700e-03\n",
            " -3.4107277e-03  6.3638473e-03  3.4539301e-03 -1.1960684e-03\n",
            "  9.6328110e-03 -3.5083676e-03  7.9408828e-03 -3.6476289e-03\n",
            "  3.7550090e-03 -3.4453957e-03  2.9080734e-03  2.5443826e-03]\n"
          ],
          "name": "stdout"
        }
      ]
    },
    {
      "cell_type": "code",
      "metadata": {
        "colab": {
          "base_uri": "https://localhost:8080/"
        },
        "id": "27930477",
        "outputId": "1a54cd58-1d31-4a5a-9c72-b652b6430f58"
      },
      "source": [
        "word2index_input_question[\"đánh_lộn\"]"
      ],
      "id": "27930477",
      "execution_count": null,
      "outputs": [
        {
          "output_type": "execute_result",
          "data": {
            "text/plain": [
              "1560"
            ]
          },
          "metadata": {
            "tags": []
          },
          "execution_count": 38
        }
      ]
    },
    {
      "cell_type": "code",
      "metadata": {
        "colab": {
          "base_uri": "https://localhost:8080/"
        },
        "id": "4f869964",
        "outputId": "7edb5f99-f971-4bba-e696-5ff44a92050f"
      },
      "source": [
        "embedding_matrix[2205]"
      ],
      "id": "4f869964",
      "execution_count": null,
      "outputs": [
        {
          "output_type": "execute_result",
          "data": {
            "text/plain": [
              "array([-8.54006875e-03,  3.24039832e-02, -1.37612899e-03, -6.76457630e-03,\n",
              "       -2.73692887e-02, -6.75060451e-02, -4.73788753e-03,  2.15238836e-02,\n",
              "       -1.72811206e-02, -6.09027781e-03,  1.14713283e-02, -1.09938029e-02,\n",
              "       -8.54960550e-03,  8.09936784e-03, -5.96076297e-03, -1.25623411e-02,\n",
              "       -5.99010242e-03, -1.46675780e-02,  2.21380182e-02, -4.55966890e-02,\n",
              "        1.80766601e-02,  2.63474067e-03,  2.19098534e-02, -3.69014870e-03,\n",
              "       -2.97916029e-02, -7.63726281e-03, -1.10392813e-02,  1.81684457e-02,\n",
              "       -3.26785669e-02, -1.86588187e-02,  1.82188805e-02,  4.29779000e-04,\n",
              "        1.76520720e-02,  3.24180024e-03,  1.08921789e-02, -9.83690936e-03,\n",
              "        2.86559714e-03, -1.38257705e-02, -1.21893603e-02, -7.57437758e-03,\n",
              "       -3.57930246e-03,  6.46949094e-03, -8.58751219e-03, -4.32199705e-03,\n",
              "        1.88668538e-02, -3.02719907e-03, -9.31599922e-03,  3.75449355e-03,\n",
              "        2.46311296e-02,  1.64250247e-02, -1.88062128e-04,  7.17933197e-03,\n",
              "        7.70135829e-03, -2.93849781e-03,  1.79280415e-02,  1.16702309e-02,\n",
              "        7.37531483e-03,  2.92167254e-03, -1.31323030e-02,  2.75819618e-02,\n",
              "        1.17252711e-02, -1.34291211e-02, -4.83724894e-03, -1.08353449e-02,\n",
              "       -1.63238030e-02,  2.61644050e-02, -1.96747924e-03,  2.74436530e-02,\n",
              "       -2.17819456e-02,  3.09502613e-02, -1.98126137e-02,  1.26729431e-02,\n",
              "        1.49862319e-02,  7.96500873e-03,  1.13577824e-02,  4.30385508e-02,\n",
              "        1.74538640e-04,  7.10166059e-03, -1.52699044e-02, -1.51404142e-02,\n",
              "        4.84532502e-05,  3.04901116e-02, -4.05689627e-02,  5.35914823e-02,\n",
              "        1.56333465e-02,  1.30144448e-03,  2.09650137e-02,  1.16796475e-02,\n",
              "        2.08047461e-02,  2.04968452e-02,  2.58209016e-02, -4.90802899e-03,\n",
              "       -1.07160714e-02,  2.79922923e-03,  1.63562782e-02, -5.05113462e-03,\n",
              "        7.17112748e-03, -1.39050763e-02,  6.65127300e-03, -2.97391303e-02])"
            ]
          },
          "metadata": {
            "tags": []
          },
          "execution_count": 39
        }
      ]
    },
    {
      "cell_type": "markdown",
      "metadata": {
        "id": "L7d7Po9GlGoG"
      },
      "source": [
        "### 3.1.2 One hot output "
      ],
      "id": "L7d7Po9GlGoG"
    },
    {
      "cell_type": "code",
      "metadata": {
        "colab": {
          "base_uri": "https://localhost:8080/"
        },
        "id": "BXHk6qPFle-A",
        "outputId": "dd00ce5a-8309-45d6-8196-ac502911a2f6"
      },
      "source": [
        "decoder_output_one_hot = np.zeros(\n",
        "    (\n",
        "        SAMPLE_NUM,\n",
        "        MAX_ANSWER_LEN, # can use MAX_LEN\n",
        "        NUM_WORDS_ANSWER # can use VOCAB_SIZE\n",
        "    ),\n",
        "    dtype='int32'\n",
        ")\n",
        "print(decoder_output_one_hot.shape)"
      ],
      "id": "BXHk6qPFle-A",
      "execution_count": null,
      "outputs": [
        {
          "output_type": "stream",
          "text": [
            "(5769, 112, 4209)\n"
          ],
          "name": "stdout"
        }
      ]
    },
    {
      "cell_type": "code",
      "metadata": {
        "id": "b_uNXX1HljU-"
      },
      "source": [
        "# add one hot\n",
        "for i, d in enumerate(decoder_output_sequences):\n",
        "    for t, word in enumerate(d):\n",
        "        decoder_output_one_hot[i, t, word] = 1 "
      ],
      "id": "b_uNXX1HljU-",
      "execution_count": null,
      "outputs": []
    },
    {
      "cell_type": "markdown",
      "metadata": {
        "id": "65e88854"
      },
      "source": [
        "## 3.2 Define models"
      ],
      "id": "65e88854"
    },
    {
      "cell_type": "code",
      "metadata": {
        "id": "e3e1749c"
      },
      "source": [
        "from keras.layers import Embedding, Bidirectional, Concatenate\n",
        "from keras.layers import dot, BatchNormalization, concatenate\n",
        "from keras.layers import Input, LSTM, Dense, Activation, TimeDistributed\n",
        "from keras.models import Model"
      ],
      "id": "e3e1749c",
      "execution_count": null,
      "outputs": []
    },
    {
      "cell_type": "markdown",
      "metadata": {
        "id": "bBmWK9iVllYL"
      },
      "source": [
        "### 3.2.1 LSTM"
      ],
      "id": "bBmWK9iVllYL"
    },
    {
      "cell_type": "code",
      "metadata": {
        "id": "5bbd99c9"
      },
      "source": [
        "def seq2seq_LSTM():\n",
        "    embedding_question_layer = Embedding(input_dim = NUM_WORDS_QUESTION, \n",
        "                                         output_dim = EMBEDDING_DIM, \n",
        "                                         input_length = MAX_LEN, \n",
        "                                         weights=[embedding_matrix],\n",
        "                                         trainable=True)\n",
        "    # Encoder model for questions\n",
        "    encoder_inputs = Input(shape=(MAX_QUESTION_LEN, ))\n",
        "    encoder_embedding = embedding_question_layer(encoder_inputs)\n",
        "    encoder_LSTM = LSTM(HIDDEN_DIM, return_state=True, name=\"encoder_LSTM\")\n",
        "    \n",
        "    encoder_outputs, state_h, state_c = encoder_LSTM(encoder_embedding)\n",
        "    encoder_states = [state_h, state_c]\n",
        "    \n",
        "    # Decoder model for answers\n",
        "    decoder_inputs = Input(shape=(MAX_ANSWER_LEN, ))\n",
        "    decoder_embedding = Embedding(NUM_WORDS_ANSWER, HIDDEN_DIM, trainable=True)\n",
        "    decoder_inputs_x = decoder_embedding(decoder_inputs)\n",
        "    \n",
        "    decoder_LSTM = LSTM(HIDDEN_DIM, return_state=True, return_sequences=True, name=\"decoder_LSTM\")\n",
        "    decoder_outputs, _, _ = decoder_LSTM(decoder_inputs_x, initial_state=encoder_states)\n",
        "    \n",
        "    # decoder_outputs = TimeDistributed(Dense(NUM_WORDS_ANSWER, activation='softmax'))(decoder_outputs)\n",
        "    decoder_dense = Dense(NUM_WORDS_ANSWER, activation='softmax')\n",
        "    decoder_outputs = TimeDistributed(decoder_dense)(decoder_outputs)\n",
        "    \n",
        "    model = Model([encoder_inputs, decoder_inputs], decoder_outputs, name=\"model_lstm\")\n",
        "    \n",
        "    return model"
      ],
      "id": "5bbd99c9",
      "execution_count": null,
      "outputs": []
    },
    {
      "cell_type": "code",
      "metadata": {
        "id": "c2c243d9"
      },
      "source": [
        "# Model\n",
        "model_lstm = seq2seq_LSTM()\n",
        "# Compiling\n",
        "model_lstm.compile(optimizer='rmsprop', # can use adam\n",
        "                       loss='categorical_crossentropy', \n",
        "                       metrics=['accuracy'], \n",
        "                       sample_weight_mode='temporal')"
      ],
      "id": "c2c243d9",
      "execution_count": null,
      "outputs": []
    },
    {
      "cell_type": "code",
      "metadata": {
        "colab": {
          "base_uri": "https://localhost:8080/"
        },
        "id": "60cc00ca",
        "outputId": "a9bec959-226d-4d6a-c28d-ce8b5920a861"
      },
      "source": [
        "# Summary model\n",
        "model_lstm.summary()"
      ],
      "id": "60cc00ca",
      "execution_count": null,
      "outputs": [
        {
          "output_type": "stream",
          "text": [
            "Model: \"model_lstm\"\n",
            "__________________________________________________________________________________________________\n",
            "Layer (type)                    Output Shape         Param #     Connected to                     \n",
            "==================================================================================================\n",
            "input_1 (InputLayer)            [(None, 76)]         0                                            \n",
            "__________________________________________________________________________________________________\n",
            "input_2 (InputLayer)            [(None, 112)]        0                                            \n",
            "__________________________________________________________________________________________________\n",
            "embedding (Embedding)           (None, 76, 100)      258700      input_1[0][0]                    \n",
            "__________________________________________________________________________________________________\n",
            "embedding_1 (Embedding)         (None, 112, 400)     1683600     input_2[0][0]                    \n",
            "__________________________________________________________________________________________________\n",
            "encoder_LSTM (LSTM)             [(None, 400), (None, 801600      embedding[0][0]                  \n",
            "__________________________________________________________________________________________________\n",
            "decoder_LSTM (LSTM)             [(None, 112, 400), ( 1281600     embedding_1[0][0]                \n",
            "                                                                 encoder_LSTM[0][1]               \n",
            "                                                                 encoder_LSTM[0][2]               \n",
            "__________________________________________________________________________________________________\n",
            "time_distributed (TimeDistribut (None, 112, 4209)    1687809     decoder_LSTM[0][0]               \n",
            "==================================================================================================\n",
            "Total params: 5,713,309\n",
            "Trainable params: 5,713,309\n",
            "Non-trainable params: 0\n",
            "__________________________________________________________________________________________________\n"
          ],
          "name": "stdout"
        }
      ]
    },
    {
      "cell_type": "markdown",
      "metadata": {
        "id": "TSuLVzsBlp8T"
      },
      "source": [
        "### 3.2.2 BiLSTM"
      ],
      "id": "TSuLVzsBlp8T"
    },
    {
      "cell_type": "code",
      "metadata": {
        "id": "szzZYIZCltEr"
      },
      "source": [
        "def seq2seq_BiLSTM():\n",
        "    embedding_question_layer = Embedding(input_dim = NUM_WORDS_QUESTION, \n",
        "                                     output_dim = EMBEDDING_DIM, \n",
        "                                     input_length = MAX_LEN, \n",
        "                                     weights=[embedding_matrix],\n",
        "                                     trainable=True)\n",
        "    # Encoder model for questions\n",
        "    encoder_inputs = Input(shape=(MAX_QUESTION_LEN, ))\n",
        "    encoder_embedding = embedding_question_layer(encoder_inputs)\n",
        "    \n",
        "    encoder_BiLSTM = Bidirectional(LSTM(HIDDEN_DIM, return_state=True, name=\"encoder_BiLSTM\"))\n",
        "    encoder_outputs, forward_h, forward_c, backward_h, backward_c = encoder_BiLSTM(encoder_embedding)\n",
        "\n",
        "    state_h = Concatenate(axis=1)([forward_h, backward_h])\n",
        "    state_c = Concatenate(axis=1)([forward_c, backward_c])\n",
        "    encoder_states = [state_h, state_c]\n",
        "    \n",
        "    # Decoder model for answers\n",
        "    decoder_inputs = Input(shape=(MAX_ANSWER_LEN, ))\n",
        "    decoder_embedding = Embedding(NUM_WORDS_ANSWER, HIDDEN_DIM)\n",
        "    decoder_inputs_x = decoder_embedding(decoder_inputs)\n",
        "    \n",
        "    decoder_LSTM = LSTM(HIDDEN_DIM * 2, return_state=True, return_sequences=True, name=\"decoder_LSTM\")\n",
        "    decoder_outputs, _, _ = decoder_LSTM(decoder_inputs_x, initial_state=encoder_states)\n",
        "    \n",
        "    # decoder_outputs = TimeDistributed(Dense(NUM_WORDS_ANSWER, activation='softmax'))(decoder_outputs)\n",
        "    decoder_dense = Dense(NUM_WORDS_ANSWER, activation='softmax')\n",
        "    decoder_outputs = TimeDistributed(decoder_dense)(decoder_outputs)\n",
        "    \n",
        "    model = Model([encoder_inputs, decoder_inputs], decoder_outputs, name=\"model_bilstm\")\n",
        "    \n",
        "    return model"
      ],
      "id": "szzZYIZCltEr",
      "execution_count": null,
      "outputs": []
    },
    {
      "cell_type": "code",
      "metadata": {
        "id": "00YzejjJlwVr"
      },
      "source": [
        "# Model\n",
        "model_bilstm = seq2seq_BiLSTM()\n",
        "# Compiling\n",
        "model_bilstm.compile(optimizer='rmsprop', # can use adam\n",
        "                       loss='categorical_crossentropy', \n",
        "                       metrics=['accuracy'], \n",
        "                       sample_weight_mode='temporal')"
      ],
      "id": "00YzejjJlwVr",
      "execution_count": null,
      "outputs": []
    },
    {
      "cell_type": "code",
      "metadata": {
        "colab": {
          "base_uri": "https://localhost:8080/"
        },
        "id": "R1ScPyM6l8hT",
        "outputId": "74d81422-b329-4dc2-bb8f-2d0c7004c0af"
      },
      "source": [
        "# Summary model\n",
        "model_bilstm.summary()"
      ],
      "id": "R1ScPyM6l8hT",
      "execution_count": null,
      "outputs": [
        {
          "output_type": "stream",
          "text": [
            "Model: \"model_bilstm\"\n",
            "__________________________________________________________________________________________________\n",
            "Layer (type)                    Output Shape         Param #     Connected to                     \n",
            "==================================================================================================\n",
            "input_3 (InputLayer)            [(None, 76)]         0                                            \n",
            "__________________________________________________________________________________________________\n",
            "embedding_2 (Embedding)         (None, 76, 100)      258700      input_3[0][0]                    \n",
            "__________________________________________________________________________________________________\n",
            "input_4 (InputLayer)            [(None, 112)]        0                                            \n",
            "__________________________________________________________________________________________________\n",
            "bidirectional (Bidirectional)   [(None, 800), (None, 1603200     embedding_2[0][0]                \n",
            "__________________________________________________________________________________________________\n",
            "embedding_3 (Embedding)         (None, 112, 400)     1683600     input_4[0][0]                    \n",
            "__________________________________________________________________________________________________\n",
            "concatenate (Concatenate)       (None, 800)          0           bidirectional[0][1]              \n",
            "                                                                 bidirectional[0][3]              \n",
            "__________________________________________________________________________________________________\n",
            "concatenate_1 (Concatenate)     (None, 800)          0           bidirectional[0][2]              \n",
            "                                                                 bidirectional[0][4]              \n",
            "__________________________________________________________________________________________________\n",
            "decoder_LSTM (LSTM)             [(None, 112, 800), ( 3843200     embedding_3[0][0]                \n",
            "                                                                 concatenate[0][0]                \n",
            "                                                                 concatenate_1[0][0]              \n",
            "__________________________________________________________________________________________________\n",
            "time_distributed_1 (TimeDistrib (None, 112, 4209)    3371409     decoder_LSTM[0][0]               \n",
            "==================================================================================================\n",
            "Total params: 10,760,109\n",
            "Trainable params: 10,760,109\n",
            "Non-trainable params: 0\n",
            "__________________________________________________________________________________________________\n"
          ],
          "name": "stdout"
        }
      ]
    },
    {
      "cell_type": "markdown",
      "metadata": {
        "id": "4pD8m0Z7mnFv"
      },
      "source": [
        "### 3.2.3 LSTM with Attention"
      ],
      "id": "4pD8m0Z7mnFv"
    },
    {
      "cell_type": "code",
      "metadata": {
        "id": "zRTUWghYmvX5"
      },
      "source": [
        "def seq2seq_Attention_LSTM():\n",
        "    embedding_encoder = Embedding(input_dim = NUM_WORDS_QUESTION, \n",
        "                                  output_dim = EMBEDDING_DIM, \n",
        "                                  input_length = MAX_LEN, \n",
        "                                  weights=[embedding_matrix],\n",
        "                                  trainable=True)\n",
        "    # Encoder model for questions\n",
        "    encoder_inputs = Input(shape=(MAX_QUESTION_LEN, ))\n",
        "    encoder_embedding = embedding_encoder(encoder_inputs)\n",
        "    encoder_LSTM = LSTM(HIDDEN_DIM, return_sequences=True, name=\"encoder_LSTM\")\n",
        "    \n",
        "    encoder_outputs = encoder_LSTM(encoder_embedding)\n",
        "    encoder_last = encoder_outputs[:,-1,:]\n",
        "\n",
        "    # Decoder model for answers\n",
        "    decoder_inputs = Input(shape=(MAX_ANSWER_LEN, ))\n",
        "    embedding_decoder = Embedding(NUM_WORDS_ANSWER, HIDDEN_DIM, trainable=True)\n",
        "    decoder_embedding = embedding_decoder(decoder_inputs)\n",
        "    decoder_LSTM = LSTM(HIDDEN_DIM, return_state=True, return_sequences=True, name=\"decoder_LSTM\")\n",
        "    \n",
        "    decoder_outputs,_ ,_ = decoder_LSTM(decoder_embedding, initial_state=[encoder_last, encoder_last])\n",
        "    \n",
        "    # Global Attention of Luong Minh Thang\n",
        "    attention = dot([decoder_outputs, encoder_outputs], axes=[2,2])\n",
        "    attention = Activation('softmax')(attention)\n",
        "\n",
        "    context = dot([attention, encoder_outputs], axes=[2,1])\n",
        "    context = BatchNormalization(momentum=0.6)(context)\n",
        "\n",
        "    # Concate decoder_outputs and contexxt\n",
        "    decoder_combined_context = concatenate([context, decoder_outputs])\n",
        "\n",
        "    outputs = TimeDistributed(Dense(HIDDEN_DIM, activation=\"tanh\"))(decoder_combined_context)\n",
        "    decoder_dense = Dense(NUM_WORDS_ANSWER, activation='softmax')\n",
        "    outputs = TimeDistributed(decoder_dense)(outputs)\n",
        "    \n",
        "    model = Model([encoder_inputs, decoder_inputs], outputs, name=\"model_attention_lstm\")\n",
        "    \n",
        "    return model"
      ],
      "id": "zRTUWghYmvX5",
      "execution_count": null,
      "outputs": []
    },
    {
      "cell_type": "code",
      "metadata": {
        "id": "rlCsQCQ7myqH"
      },
      "source": [
        "# Model\n",
        "model_attention_lstm = seq2seq_Attention_LSTM()\n",
        "# Compiling\n",
        "model_attention_lstm.compile(optimizer='rmsprop',\n",
        "                       loss='categorical_crossentropy', \n",
        "                       metrics=['accuracy'], \n",
        "                       sample_weight_mode='temporal')"
      ],
      "id": "rlCsQCQ7myqH",
      "execution_count": null,
      "outputs": []
    },
    {
      "cell_type": "code",
      "metadata": {
        "colab": {
          "base_uri": "https://localhost:8080/"
        },
        "id": "frhkZpbUmyb_",
        "outputId": "f29dffa2-0344-4738-910b-492d003153e3"
      },
      "source": [
        "# Summary model\n",
        "model_attention_lstm.summary()"
      ],
      "id": "frhkZpbUmyb_",
      "execution_count": null,
      "outputs": [
        {
          "output_type": "stream",
          "text": [
            "Model: \"model_attention_lstm\"\n",
            "__________________________________________________________________________________________________\n",
            "Layer (type)                    Output Shape         Param #     Connected to                     \n",
            "==================================================================================================\n",
            "input_9 (InputLayer)            [(None, 76)]         0                                            \n",
            "__________________________________________________________________________________________________\n",
            "embedding_2 (Embedding)         (None, 76, 100)      258700      input_9[0][0]                    \n",
            "__________________________________________________________________________________________________\n",
            "input_10 (InputLayer)           [(None, 112)]        0                                            \n",
            "__________________________________________________________________________________________________\n",
            "encoder_LSTM (LSTM)             (None, 76, 400)      801600      embedding_2[0][0]                \n",
            "__________________________________________________________________________________________________\n",
            "embedding_3 (Embedding)         (None, 112, 400)     1683600     input_10[0][0]                   \n",
            "__________________________________________________________________________________________________\n",
            "tf.__operators__.getitem_3 (Sli (None, 400)          0           encoder_LSTM[0][0]               \n",
            "__________________________________________________________________________________________________\n",
            "decoder_LSTM (LSTM)             [(None, 112, 400), ( 1281600     embedding_3[0][0]                \n",
            "                                                                 tf.__operators__.getitem_3[0][0] \n",
            "                                                                 tf.__operators__.getitem_3[0][0] \n",
            "__________________________________________________________________________________________________\n",
            "dot_2 (Dot)                     (None, 112, 76)      0           decoder_LSTM[0][0]               \n",
            "                                                                 encoder_LSTM[0][0]               \n",
            "__________________________________________________________________________________________________\n",
            "activation_1 (Activation)       (None, 112, 76)      0           dot_2[0][0]                      \n",
            "__________________________________________________________________________________________________\n",
            "dot_3 (Dot)                     (None, 112, 400)     0           activation_1[0][0]               \n",
            "                                                                 encoder_LSTM[0][0]               \n",
            "__________________________________________________________________________________________________\n",
            "batch_normalization_1 (BatchNor (None, 112, 400)     1600        dot_3[0][0]                      \n",
            "__________________________________________________________________________________________________\n",
            "concatenate_1 (Concatenate)     (None, 112, 800)     0           batch_normalization_1[0][0]      \n",
            "                                                                 decoder_LSTM[0][0]               \n",
            "__________________________________________________________________________________________________\n",
            "time_distributed_2 (TimeDistrib (None, 112, 400)     320400      concatenate_1[0][0]              \n",
            "__________________________________________________________________________________________________\n",
            "time_distributed_3 (TimeDistrib (None, 112, 4209)    1687809     time_distributed_2[0][0]         \n",
            "==================================================================================================\n",
            "Total params: 6,035,309\n",
            "Trainable params: 6,034,509\n",
            "Non-trainable params: 800\n",
            "__________________________________________________________________________________________________\n"
          ],
          "name": "stdout"
        }
      ]
    },
    {
      "cell_type": "markdown",
      "metadata": {
        "id": "395b5674"
      },
      "source": [
        "## 3.3 Train models"
      ],
      "id": "395b5674"
    },
    {
      "cell_type": "markdown",
      "metadata": {
        "id": "KbJ5ous5mGjy"
      },
      "source": [
        "### 3.3.1 LSTM"
      ],
      "id": "KbJ5ous5mGjy"
    },
    {
      "cell_type": "code",
      "metadata": {
        "colab": {
          "base_uri": "https://localhost:8080/"
        },
        "id": "85ec1ea4",
        "outputId": "fa787a73-bc30-4ff7-cc98-27012bd78a16"
      },
      "source": [
        "#Training\n",
        "model_lstm.fit([encoder_question_sequences, decoder_answer_sequences], \n",
        "                   decoder_output_one_hot, \n",
        "                   batch_size = BATCH_SIZE, \n",
        "                   epochs = EPOCHS, \n",
        "                   validation_split = 0.2)"
      ],
      "id": "85ec1ea4",
      "execution_count": null,
      "outputs": [
        {
          "output_type": "stream",
          "text": [
            "Epoch 1/2\n",
            "93/93 [==============================] - 391s 4s/step - loss: 0.6963 - accuracy: 0.9256 - val_loss: 0.5603 - val_accuracy: 0.9233\n",
            "Epoch 2/2\n",
            "93/93 [==============================] - 381s 4s/step - loss: 0.3998 - accuracy: 0.9416 - val_loss: 0.5469 - val_accuracy: 0.9245\n"
          ],
          "name": "stdout"
        },
        {
          "output_type": "execute_result",
          "data": {
            "text/plain": [
              "<tensorflow.python.keras.callbacks.History at 0x7fc785394bd0>"
            ]
          },
          "metadata": {
            "tags": []
          },
          "execution_count": 47
        }
      ]
    },
    {
      "cell_type": "code",
      "metadata": {
        "id": "oYrQ92wSbaEU"
      },
      "source": [
        "#Saving\n",
        "model_lstm.save(\"model_lstm.h5\")"
      ],
      "id": "oYrQ92wSbaEU",
      "execution_count": null,
      "outputs": []
    },
    {
      "cell_type": "markdown",
      "metadata": {
        "id": "eWs6N3x4oMs8"
      },
      "source": [
        "### 3.3.2 BiLSTM"
      ],
      "id": "eWs6N3x4oMs8"
    },
    {
      "cell_type": "code",
      "metadata": {
        "colab": {
          "base_uri": "https://localhost:8080/"
        },
        "id": "BAK0GMHAmO6w",
        "outputId": "9241f3e9-42eb-4178-b801-2a06cb638065"
      },
      "source": [
        "#Training\n",
        "model_bilstm.fit([encoder_question_sequences, decoder_answer_sequences], \n",
        "                   decoder_output_one_hot, \n",
        "                   batch_size = BATCH_SIZE/2, \n",
        "                   epochs = EPOCHS, \n",
        "                   validation_split = 0.2)"
      ],
      "id": "BAK0GMHAmO6w",
      "execution_count": null,
      "outputs": [
        {
          "output_type": "stream",
          "text": [
            "Epoch 1/2\n",
            "185/185 [==============================] - 1079s 6s/step - loss: 0.9146 - accuracy: 0.9062 - val_loss: 0.5462 - val_accuracy: 0.9242\n",
            "Epoch 2/2\n",
            "185/185 [==============================] - 1062s 6s/step - loss: 0.3824 - accuracy: 0.9425 - val_loss: 0.5278 - val_accuracy: 0.9249\n"
          ],
          "name": "stdout"
        },
        {
          "output_type": "execute_result",
          "data": {
            "text/plain": [
              "<tensorflow.python.keras.callbacks.History at 0x7f82b8d7a050>"
            ]
          },
          "metadata": {
            "tags": []
          },
          "execution_count": 49
        }
      ]
    },
    {
      "cell_type": "code",
      "metadata": {
        "id": "ls95eHGkbcKB"
      },
      "source": [
        "#Saving\n",
        "model_bilstm.save(\"model_bilstm.h5\")"
      ],
      "id": "ls95eHGkbcKB",
      "execution_count": null,
      "outputs": []
    },
    {
      "cell_type": "markdown",
      "metadata": {
        "id": "xHU5weij13M0"
      },
      "source": [
        "### 3.3.3 LSTM with Attention"
      ],
      "id": "xHU5weij13M0"
    },
    {
      "cell_type": "code",
      "metadata": {
        "colab": {
          "base_uri": "https://localhost:8080/"
        },
        "id": "3lbqEZWA1xs2",
        "outputId": "2795d4ef-d2e7-4584-a965-08957f025a2b"
      },
      "source": [
        "#Training\n",
        "model_attention_lstm.fit([encoder_question_sequences, decoder_answer_sequences], \n",
        "                   decoder_output_one_hot, \n",
        "                   batch_size = BATCH_SIZE, \n",
        "                   epochs = EPOCHS, \n",
        "                   validation_split = 0.2)"
      ],
      "id": "3lbqEZWA1xs2",
      "execution_count": null,
      "outputs": [
        {
          "output_type": "stream",
          "text": [
            "Epoch 1/2\n",
            "93/93 [==============================] - 484s 5s/step - loss: 1.4165 - accuracy: 0.8664 - val_loss: 0.4814 - val_accuracy: 0.9352\n",
            "Epoch 2/2\n",
            "93/93 [==============================] - 483s 5s/step - loss: 0.4177 - accuracy: 0.9385 - val_loss: 0.4741 - val_accuracy: 0.9336\n"
          ],
          "name": "stdout"
        },
        {
          "output_type": "execute_result",
          "data": {
            "text/plain": [
              "<tensorflow.python.keras.callbacks.History at 0x7fc4edb613d0>"
            ]
          },
          "metadata": {
            "tags": []
          },
          "execution_count": 65
        }
      ]
    },
    {
      "cell_type": "code",
      "metadata": {
        "id": "ZMU51gkz10wu"
      },
      "source": [
        "#Saving\n",
        "model_attention_lstm.save(\"model_attention_lstm.h5\")"
      ],
      "id": "ZMU51gkz10wu",
      "execution_count": null,
      "outputs": []
    },
    {
      "cell_type": "markdown",
      "metadata": {
        "id": "eddfe31f"
      },
      "source": [
        "## 3.4 Predict"
      ],
      "id": "eddfe31f"
    },
    {
      "cell_type": "code",
      "metadata": {
        "id": "ZYkQvu9aGz1t"
      },
      "source": [
        "from keras.models import load_model"
      ],
      "id": "ZYkQvu9aGz1t",
      "execution_count": null,
      "outputs": []
    },
    {
      "cell_type": "markdown",
      "metadata": {
        "id": "k-cEoN5MmAK7"
      },
      "source": [
        "### 3.4.1 LSTM"
      ],
      "id": "k-cEoN5MmAK7"
    },
    {
      "cell_type": "code",
      "metadata": {
        "id": "6860cd12"
      },
      "source": [
        "def lstm_encoder_model():\n",
        "    # Load model\n",
        "    model_lstm = load_model(\"model_lstm.h5\")\n",
        "\n",
        "    # Encoder model\n",
        "    encoder_inputs = model_lstm.input[0]\n",
        "    encoder_embedding = model_lstm.layers[2](encoder_inputs)\n",
        "    \n",
        "    encoder_outputs, state_h, state_c = model_lstm.layers[4](encoder_embedding)\n",
        "    encoder_states = [state_h, state_c]\n",
        "    \n",
        "    return Model(encoder_inputs, encoder_states)"
      ],
      "id": "6860cd12",
      "execution_count": null,
      "outputs": []
    },
    {
      "cell_type": "code",
      "metadata": {
        "id": "133fcda0"
      },
      "source": [
        "def lstm_decoder_model():\n",
        "    # Load model\n",
        "    model_lstm = load_model(\"model_lstm.h5\")\n",
        "\n",
        "    # Decoder model\n",
        "    decoder_state_input_h = Input(shape=(HIDDEN_DIM,))\n",
        "    decoder_state_input_c = Input(shape=(HIDDEN_DIM,))\n",
        "    decoder_states_inputs = [decoder_state_input_h, decoder_state_input_c]\n",
        "    \n",
        "    decoder_inputs_single = Input(shape=(1,))\n",
        "    embedding_decoder = model_lstm.layers[3]\n",
        "    decoder_embedding = embedding_decoder(decoder_inputs_single)\n",
        "    \n",
        "    decoder_LSTM = model_lstm.layers[5]\n",
        "    decoder_outputs, h, c = decoder_LSTM(decoder_embedding, \n",
        "                                         initial_state=decoder_states_inputs)\n",
        "    \n",
        "    decoder_states = [h, c]\n",
        "    \n",
        "    decoder_dense = model_lstm.layers[6]\n",
        "    decoder_outputs = decoder_dense(decoder_outputs)\n",
        "    \n",
        "    return Model([decoder_inputs_single] + decoder_states_inputs,\n",
        "                 [decoder_outputs] + decoder_states)"
      ],
      "id": "133fcda0",
      "execution_count": null,
      "outputs": []
    },
    {
      "cell_type": "code",
      "metadata": {
        "colab": {
          "base_uri": "https://localhost:8080/"
        },
        "id": "4Vy0wqP-mOL3",
        "outputId": "c7c3b0dd-3e8e-4629-d69e-01eae2e726b6"
      },
      "source": [
        "lstm_encoder = lstm_encoder_model()\n",
        "lstm_encoder.summary()\n",
        "# Save model\n",
        "lstm_encoder.save(\"lstm_encoder.h5\")"
      ],
      "id": "4Vy0wqP-mOL3",
      "execution_count": null,
      "outputs": [
        {
          "output_type": "stream",
          "text": [
            "Model: \"model\"\n",
            "_________________________________________________________________\n",
            "Layer (type)                 Output Shape              Param #   \n",
            "=================================================================\n",
            "input_1 (InputLayer)         [(None, 76)]              0         \n",
            "_________________________________________________________________\n",
            "embedding (Embedding)        (None, 76, 100)           258700    \n",
            "_________________________________________________________________\n",
            "encoder_LSTM (LSTM)          [(None, 400), (None, 400) 801600    \n",
            "=================================================================\n",
            "Total params: 1,060,300\n",
            "Trainable params: 1,060,300\n",
            "Non-trainable params: 0\n",
            "_________________________________________________________________\n"
          ],
          "name": "stdout"
        }
      ]
    },
    {
      "cell_type": "code",
      "metadata": {
        "colab": {
          "base_uri": "https://localhost:8080/"
        },
        "id": "zPEJIK2QmN__",
        "outputId": "c2505b58-f80d-4749-f283-a5555b82682a"
      },
      "source": [
        "lstm_decoder = lstm_decoder_model()\n",
        "lstm_decoder.summary()\n",
        "# Save model\n",
        "lstm_decoder.save(\"lstm_decoder.h5\")"
      ],
      "id": "zPEJIK2QmN__",
      "execution_count": null,
      "outputs": [
        {
          "output_type": "stream",
          "text": [
            "Model: \"model_1\"\n",
            "__________________________________________________________________________________________________\n",
            "Layer (type)                    Output Shape         Param #     Connected to                     \n",
            "==================================================================================================\n",
            "input_5 (InputLayer)            [(None, 1)]          0                                            \n",
            "__________________________________________________________________________________________________\n",
            "embedding_1 (Embedding)         multiple             1683600     input_5[0][0]                    \n",
            "__________________________________________________________________________________________________\n",
            "input_3 (InputLayer)            [(None, 400)]        0                                            \n",
            "__________________________________________________________________________________________________\n",
            "input_4 (InputLayer)            [(None, 400)]        0                                            \n",
            "__________________________________________________________________________________________________\n",
            "decoder_LSTM (LSTM)             multiple             1281600     embedding_1[1][0]                \n",
            "                                                                 input_3[0][0]                    \n",
            "                                                                 input_4[0][0]                    \n",
            "__________________________________________________________________________________________________\n",
            "time_distributed (TimeDistribut multiple             1687809     decoder_LSTM[1][0]               \n",
            "==================================================================================================\n",
            "Total params: 4,653,009\n",
            "Trainable params: 4,653,009\n",
            "Non-trainable params: 0\n",
            "__________________________________________________________________________________________________\n"
          ],
          "name": "stdout"
        }
      ]
    },
    {
      "cell_type": "markdown",
      "metadata": {
        "id": "I04QgzzcmGSz"
      },
      "source": [
        "### 3.4.2 BiLSTM"
      ],
      "id": "I04QgzzcmGSz"
    },
    {
      "cell_type": "code",
      "metadata": {
        "id": "WA24waJjwVfT"
      },
      "source": [
        "def bilstm_encoder_model():\n",
        "    # Load model\n",
        "    model_bilstm = load_model(\"model_bilstm.h5\")\n",
        "\n",
        "    # Encoder model\n",
        "    encoder_inputs = model_bilstm.input[0]\n",
        "    encoder_embedding = model_bilstm.layers[1](encoder_inputs)\n",
        "    \n",
        "    encoder_outputs, forward_h, forward_c, backward_h, backward_c = model_bilstm.layers[3](encoder_embedding)\n",
        "\n",
        "    state_h = model_bilstm.layers[5]([forward_h, backward_h])\n",
        "    state_c = model_bilstm.layers[6]([forward_c, backward_c])\n",
        "    encoder_states = [state_h, state_c]\n",
        "    \n",
        "    return Model(encoder_inputs, encoder_states)"
      ],
      "id": "WA24waJjwVfT",
      "execution_count": null,
      "outputs": []
    },
    {
      "cell_type": "code",
      "metadata": {
        "id": "08pSQWVkwVXU"
      },
      "source": [
        "def bilstm_decoder_model():\n",
        "    # Load model\n",
        "    model_bilstm = load_model(\"model_bilstm.h5\")\n",
        "\n",
        "    # decoder model\n",
        "    decoder_state_input_h = Input(shape=(HIDDEN_DIM * 2,))\n",
        "    decoder_state_input_c = Input(shape=(HIDDEN_DIM * 2,))\n",
        "    decoder_states_inputs = [decoder_state_input_h, decoder_state_input_c]\n",
        "    \n",
        "    decoder_inputs_single = Input(shape=(1,))\n",
        "    decoder_embedding = model_bilstm.layers[4]\n",
        "    decoder_inputs_single_x = decoder_embedding(decoder_inputs_single)\n",
        "    \n",
        "    decoder_outputs, h, c = model_bilstm.layers[7](decoder_inputs_single_x, \n",
        "                                                 initial_state=decoder_states_inputs)\n",
        "    \n",
        "    decoder_states = [h, c]\n",
        "    \n",
        "    decoder_dense = model_bilstm.layers[8]\n",
        "    decoder_outputs = decoder_dense(decoder_outputs)\n",
        "    \n",
        "    return Model([decoder_inputs_single] + decoder_states_inputs,\n",
        "                 [decoder_outputs] + decoder_states)"
      ],
      "id": "08pSQWVkwVXU",
      "execution_count": null,
      "outputs": []
    },
    {
      "cell_type": "code",
      "metadata": {
        "id": "rB7IYjc4r_c5",
        "colab": {
          "base_uri": "https://localhost:8080/"
        },
        "outputId": "9156ff17-1b38-4607-b6f3-ab021d222104"
      },
      "source": [
        "bilstm_encoder = bilstm_encoder_model()\n",
        "bilstm_encoder.summary()\n",
        "# Save model\n",
        "bilstm_encoder.save(\"bilstm_encoder.h5\")"
      ],
      "id": "rB7IYjc4r_c5",
      "execution_count": null,
      "outputs": [
        {
          "output_type": "stream",
          "text": [
            "Model: \"model_1\"\n",
            "__________________________________________________________________________________________________\n",
            "Layer (type)                    Output Shape         Param #     Connected to                     \n",
            "==================================================================================================\n",
            "input_1 (InputLayer)            [(None, 76)]         0                                            \n",
            "__________________________________________________________________________________________________\n",
            "embedding (Embedding)           (None, 76, 100)      258700      input_1[0][0]                    \n",
            "__________________________________________________________________________________________________\n",
            "bidirectional (Bidirectional)   [(None, 800), (None, 1603200     embedding[2][0]                  \n",
            "__________________________________________________________________________________________________\n",
            "concatenate (Concatenate)       (None, 800)          0           bidirectional[2][1]              \n",
            "                                                                 bidirectional[2][3]              \n",
            "__________________________________________________________________________________________________\n",
            "concatenate_1 (Concatenate)     (None, 800)          0           bidirectional[2][2]              \n",
            "                                                                 bidirectional[2][4]              \n",
            "==================================================================================================\n",
            "Total params: 1,861,900\n",
            "Trainable params: 1,861,900\n",
            "Non-trainable params: 0\n",
            "__________________________________________________________________________________________________\n"
          ],
          "name": "stdout"
        }
      ]
    },
    {
      "cell_type": "code",
      "metadata": {
        "id": "Mi6XWa7hsKaI",
        "colab": {
          "base_uri": "https://localhost:8080/"
        },
        "outputId": "aa20f660-0fdc-4db8-caa4-4dd0f7f4ddfc"
      },
      "source": [
        "bilstm_decoder = bilstm_decoder_model()\n",
        "bilstm_decoder.summary()\n",
        "# Save model\n",
        "bilstm_decoder.save(\"bilstm_decoder.h5\")"
      ],
      "id": "Mi6XWa7hsKaI",
      "execution_count": null,
      "outputs": [
        {
          "output_type": "stream",
          "text": [
            "Model: \"model_2\"\n",
            "__________________________________________________________________________________________________\n",
            "Layer (type)                    Output Shape         Param #     Connected to                     \n",
            "==================================================================================================\n",
            "input_5 (InputLayer)            [(None, 1)]          0                                            \n",
            "__________________________________________________________________________________________________\n",
            "embedding_1 (Embedding)         multiple             1683600     input_5[0][0]                    \n",
            "__________________________________________________________________________________________________\n",
            "input_3 (InputLayer)            [(None, 800)]        0                                            \n",
            "__________________________________________________________________________________________________\n",
            "input_4 (InputLayer)            [(None, 800)]        0                                            \n",
            "__________________________________________________________________________________________________\n",
            "decoder_LSTM (LSTM)             multiple             3843200     embedding_1[1][0]                \n",
            "                                                                 input_3[0][0]                    \n",
            "                                                                 input_4[0][0]                    \n",
            "__________________________________________________________________________________________________\n",
            "time_distributed (TimeDistribut multiple             3371409     decoder_LSTM[1][0]               \n",
            "==================================================================================================\n",
            "Total params: 8,898,209\n",
            "Trainable params: 8,898,209\n",
            "Non-trainable params: 0\n",
            "__________________________________________________________________________________________________\n"
          ],
          "name": "stdout"
        }
      ]
    },
    {
      "cell_type": "markdown",
      "metadata": {
        "id": "2_be3btYBKGl"
      },
      "source": [
        "### 3.4.3 LSTM with Attention"
      ],
      "id": "2_be3btYBKGl"
    },
    {
      "cell_type": "code",
      "metadata": {
        "id": "et-Qm0FnBO_1"
      },
      "source": [
        "def attention_lstm_encoder_model():\n",
        "    # load model\n",
        "    model_attention_lstm = load_model(\"model_attention_lstm.h5\")\n",
        "\n",
        "    # Encoder model\n",
        "    encoder_inputs = model_attention_lstm.input[0]\n",
        "    encoder_embedding = model_attention_lstm.layers[1](encoder_inputs)\n",
        "    \n",
        "    encoder_outputs = model_attention_lstm.layers[3](encoder_embedding)\n",
        "    encoder_last = encoder_outputs[:,-1,:]\n",
        "    encoder_states = [encoder_last, encoder_last]\n",
        "    \n",
        "    return Model(encoder_inputs, encoder_states)"
      ],
      "id": "et-Qm0FnBO_1",
      "execution_count": null,
      "outputs": []
    },
    {
      "cell_type": "code",
      "metadata": {
        "id": "lldYWijmBPXN"
      },
      "source": [
        "def attention_lstm_decoder_model():\n",
        "    # Decoder model\n",
        "    decoder_state_input_h = Input(shape=(HIDDEN_DIM,))\n",
        "    decoder_state_input_c = Input(shape=(HIDDEN_DIM,))\n",
        "    decoder_states_inputs = [decoder_state_input_h, decoder_state_input_c]\n",
        "    \n",
        "    decoder_inputs_single = Input(shape=(1,))\n",
        "    embedding_decoder = model_attention_lstm.layers[4]\n",
        "    decoder_embedding = embedding_decoder(decoder_inputs_single)\n",
        "    \n",
        "    decoder_LSTM = model_attention_lstm.layers[6]\n",
        "    decoder_outputs, h, c = decoder_LSTM(decoder_embedding, \n",
        "                                         initial_state=decoder_states_inputs)\n",
        "    \n",
        "    decoder_states = [h, c]\n",
        "    \n",
        "    decoder_dense = model_attention_lstm.layers[13]\n",
        "    decoder_outputs = decoder_dense(decoder_outputs)\n",
        "    \n",
        "    return Model([decoder_inputs_single] + decoder_states_inputs,\n",
        "                 [decoder_outputs] + decoder_states)"
      ],
      "id": "lldYWijmBPXN",
      "execution_count": null,
      "outputs": []
    },
    {
      "cell_type": "code",
      "metadata": {
        "colab": {
          "base_uri": "https://localhost:8080/"
        },
        "id": "jXLF8sPDBSmF",
        "outputId": "5bbef2d4-8026-4b9c-ce45-010b20eb8ec0"
      },
      "source": [
        "attention_lstm_encoder = attention_lstm_encoder_model()\n",
        "attention_lstm_encoder.summary()\n",
        "# Save model\n",
        "attention_lstm_encoder.save(\"attention_lstm_encoder.h5\")"
      ],
      "id": "jXLF8sPDBSmF",
      "execution_count": null,
      "outputs": [
        {
          "output_type": "stream",
          "text": [
            "Model: \"model_3\"\n",
            "_________________________________________________________________\n",
            "Layer (type)                 Output Shape              Param #   \n",
            "=================================================================\n",
            "input_9 (InputLayer)         [(None, 76)]              0         \n",
            "_________________________________________________________________\n",
            "embedding_2 (Embedding)      (None, 76, 100)           258700    \n",
            "_________________________________________________________________\n",
            "encoder_LSTM (LSTM)          (None, 76, 400)           801600    \n",
            "_________________________________________________________________\n",
            "tf.__operators__.getitem_5 ( (None, 400)               0         \n",
            "=================================================================\n",
            "Total params: 1,060,300\n",
            "Trainable params: 1,060,300\n",
            "Non-trainable params: 0\n",
            "_________________________________________________________________\n"
          ],
          "name": "stdout"
        }
      ]
    },
    {
      "cell_type": "code",
      "metadata": {
        "colab": {
          "base_uri": "https://localhost:8080/"
        },
        "id": "Cz7Z3dyHBS-Y",
        "outputId": "221ab96a-ac40-492d-91d5-405a551ab9ff"
      },
      "source": [
        "attention_lstm_decoder = attention_lstm_decoder_model()\n",
        "attention_lstm_decoder.summary()\n",
        "# Save model\n",
        "attention_lstm_decoder.save(\"attention_lstm_decoder.h5\")"
      ],
      "id": "Cz7Z3dyHBS-Y",
      "execution_count": null,
      "outputs": [
        {
          "output_type": "stream",
          "text": [
            "Model: \"model_4\"\n",
            "__________________________________________________________________________________________________\n",
            "Layer (type)                    Output Shape         Param #     Connected to                     \n",
            "==================================================================================================\n",
            "input_16 (InputLayer)           [(None, 1)]          0                                            \n",
            "__________________________________________________________________________________________________\n",
            "embedding_3 (Embedding)         multiple             1683600     input_16[0][0]                   \n",
            "__________________________________________________________________________________________________\n",
            "input_14 (InputLayer)           [(None, 400)]        0                                            \n",
            "__________________________________________________________________________________________________\n",
            "input_15 (InputLayer)           [(None, 400)]        0                                            \n",
            "__________________________________________________________________________________________________\n",
            "decoder_LSTM (LSTM)             multiple             1281600     embedding_3[2][0]                \n",
            "                                                                 input_14[0][0]                   \n",
            "                                                                 input_15[0][0]                   \n",
            "__________________________________________________________________________________________________\n",
            "time_distributed_3 (TimeDistrib multiple             1687809     decoder_LSTM[1][0]               \n",
            "==================================================================================================\n",
            "Total params: 4,653,009\n",
            "Trainable params: 4,653,009\n",
            "Non-trainable params: 0\n",
            "__________________________________________________________________________________________________\n"
          ],
          "name": "stdout"
        }
      ]
    },
    {
      "cell_type": "markdown",
      "metadata": {
        "id": "7swuubjgoeNz"
      },
      "source": [
        "# 4. Chat"
      ],
      "id": "7swuubjgoeNz"
    },
    {
      "cell_type": "code",
      "metadata": {
        "id": "12b56084"
      },
      "source": [
        "def reponse(input_seq, encoder, decoder):\n",
        "    states_value = encoder.predict(input_seq)\n",
        "    target_seq = np.zeros((1, 1))\n",
        "    target_seq[0, 0] = word2index_output_answer[SOS]\n",
        "    eos = word2index_output_answer[EOS]\n",
        "    output_sentence = []\n",
        "\n",
        "    for _ in range(MAX_ANSWER_LEN):\n",
        "        output_tokens, h, c = decoder.predict([target_seq] + states_value)\n",
        "        idx = np.argmax(output_tokens[0, 0, :])\n",
        "\n",
        "        if eos == idx:\n",
        "            break\n",
        "\n",
        "        word = ''\n",
        "\n",
        "        if idx > 0:\n",
        "            word = index2word_answer[idx]\n",
        "            output_sentence.append(word)\n",
        "\n",
        "        target_seq[0, 0] = idx\n",
        "        states_value = [h, c]\n",
        "\n",
        "    return ' '.join(output_sentence)"
      ],
      "id": "12b56084",
      "execution_count": null,
      "outputs": []
    },
    {
      "cell_type": "code",
      "metadata": {
        "colab": {
          "base_uri": "https://localhost:8080/"
        },
        "id": "PjOl8TGvqIGc",
        "outputId": "c65cf270-428e-4235-e8da-ed820f287146"
      },
      "source": [
        "# load model encoder and decoder\n",
        "lstm_encoder = load_model(\"lstm_encoder.h5\")\n",
        "lstm_decoder = load_model(\"lstm_decoder.h5\")\n",
        "\n",
        "bilstm_encoder = load_model(\"bilstm_encoder.h5\")\n",
        "bilstm_decoder = load_model(\"bilstm_decoder.h5\")\n",
        "\n",
        "attention_lstm_encoder = load_model(\"attention_lstm_encoder.h5\")\n",
        "attention_lstm_decoder = load_model(\"attention_lstm_decoder.h5\")"
      ],
      "id": "PjOl8TGvqIGc",
      "execution_count": null,
      "outputs": [
        {
          "output_type": "stream",
          "text": [
            "WARNING:tensorflow:No training configuration found in the save file, so the model was *not* compiled. Compile it manually.\n",
            "WARNING:tensorflow:No training configuration found in the save file, so the model was *not* compiled. Compile it manually.\n",
            "WARNING:tensorflow:No training configuration found in the save file, so the model was *not* compiled. Compile it manually.\n",
            "WARNING:tensorflow:No training configuration found in the save file, so the model was *not* compiled. Compile it manually.\n"
          ],
          "name": "stdout"
        }
      ]
    },
    {
      "cell_type": "code",
      "metadata": {
        "id": "TTdShY26pg7O"
      },
      "source": [
        "# Test response from data\n",
        "#i = np.random.choice(len(input_questions))\n",
        "#question = encoder_question_sequences[i:i+1]\n",
        "#answer1 = reponse(encoder_question_sequences, lstm_encoder, lstm_decoder)\n",
        "#answer2 = reponse(encoder_question_sequences, bilstm_encoder, bilstm_decoder)\n",
        "#print(\"Q: \" + question)\n",
        "#print(\"A (LSTM): \" + answer1)\n",
        "#print(\"A (BiLSTM): \" + answer2)"
      ],
      "id": "TTdShY26pg7O",
      "execution_count": null,
      "outputs": []
    },
    {
      "cell_type": "code",
      "metadata": {
        "id": "85b53ccb",
        "colab": {
          "base_uri": "https://localhost:8080/"
        },
        "outputId": "5d2f6f13-bb19-425e-eb67-4158125a8fea"
      },
      "source": [
        "# Random question\n",
        "question = \"Mày có thích ăn cơm tiệm không ?\"\n",
        "question = clean_sentence(question)\n",
        "token_question = ViTokenizer.tokenize(question)\n",
        "\n",
        "input_question_seq = question_tokenizer.texts_to_sequences([token_question])\n",
        "encoder_question_sequences = pad_sequences(input_question_seq, \n",
        "                                           maxlen=MAX_QUESTION_LEN,\n",
        "                                           dtype='int32')\n",
        "\n",
        "#answer1 = reponse(encoder_question_sequences, lstm_encoder, lstm_decoder)\n",
        "#answer2 = reponse(encoder_question_sequences, bilstm_encoder, bilstm_decoder)\n",
        "answer3 = reponse(encoder_question_sequences, attention_lstm_encoder, attention_lstm_decoder)\n",
        "\n",
        "print('Stupid chatbot [*>_<*]')\n",
        "print('Q:', token_question)\n",
        "#print('A (LSTM):', answer1)\n",
        "#print('A (BiLSTM):', answer2)\n",
        "print('A (Attention-LSTM):', answer3)"
      ],
      "id": "85b53ccb",
      "execution_count": null,
      "outputs": [
        {
          "output_type": "stream",
          "text": [
            "Stupid chatbot [*>_<*]\n",
            "Q: mày có thích ăn cơm tiệm không\n",
            "A (Attention-LSTM): và và và\n"
          ],
          "name": "stdout"
        }
      ]
    },
    {
      "cell_type": "markdown",
      "metadata": {
        "id": "07aaf2d7"
      },
      "source": [
        "Reference:\n",
        "https://stackabuse.com/python-for-nlp-neural-machine-translation-with-seq2seq-in-keras/"
      ],
      "id": "07aaf2d7"
    }
  ]
}